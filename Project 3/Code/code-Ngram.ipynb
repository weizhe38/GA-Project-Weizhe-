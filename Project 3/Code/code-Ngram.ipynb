{
 "cells": [
  {
   "cell_type": "markdown",
   "id": "07be20e0",
   "metadata": {},
   "source": [
    "<img src=\"http://imgur.com/1ZcRyrc.png\" style=\"float: left; margin: 15px; height: 80px\">\n",
    "\n",
    "# Project 3: Web APIs & NLP - Ngram"
   ]
  },
  {
   "cell_type": "markdown",
   "id": "fd51f921",
   "metadata": {},
   "source": [
    "## Problem Statement"
   ]
  },
  {
   "cell_type": "markdown",
   "id": "fc51d660",
   "metadata": {},
   "source": [
    "Current classifying model using straightforward keywords such as ‘bootcamp’ and ‘coding’ yields around 79% accuracy.\n",
    "\n",
    "Build a model with >90% accuracy that helps to identify between those who are looking for bootcamp style learning vs computer science majors/prospective students based on the words they use online."
   ]
  },
  {
   "cell_type": "markdown",
   "id": "08231073",
   "metadata": {},
   "source": [
    "## Jupyter Notebook Purpose:\n",
    "#### Notebook contains codes for:\n",
    "- N-gram data preprocessing method.\n",
    "- Gridsearch CV (model optimization) on selected Models such as Bernoulli NB, Multinomial NB, KNN, Logistic Regression"
   ]
  },
  {
   "cell_type": "markdown",
   "id": "9d0fea2e",
   "metadata": {},
   "source": [
    "## Import Libraries"
   ]
  },
  {
   "cell_type": "code",
   "execution_count": 1,
   "id": "f85de31e",
   "metadata": {},
   "outputs": [],
   "source": [
    "import pandas as pd\n",
    "import numpy as np\n",
    "import nltk\n",
    "import re\n",
    "import string\n",
    "import jupyternotify\n",
    "from sklearn import metrics\n",
    "\n",
    "from sklearn.model_selection import cross_val_predict, train_test_split, GridSearchCV\n",
    "from sklearn.pipeline import Pipeline\n",
    "\n",
    "from sklearn.metrics import accuracy_score\n",
    "from sklearn.metrics import classification_report\n",
    "from sklearn.metrics import precision_score, recall_score\n",
    "\n",
    "from sklearn.feature_extraction.text import CountVectorizer\n",
    "\n",
    "from sklearn.naive_bayes import BernoulliNB\n",
    "from sklearn.naive_bayes import MultinomialNB\n",
    "from sklearn.neighbors import KNeighborsClassifier\n",
    "from sklearn.linear_model import LogisticRegression \n",
    "\n",
    "#Ignore warnings\n",
    "import warnings\n",
    "warnings.filterwarnings(\"ignore\")\n",
    "\n",
    "#change display options\n",
    "pd.set_option(\"display.max_rows\", 160)\n",
    "pd.set_option(\"display.max_columns\", 80)"
   ]
  },
  {
   "cell_type": "code",
   "execution_count": 2,
   "id": "635f7acb",
   "metadata": {},
   "outputs": [
    {
     "data": {
      "application/javascript": [
       "if (!(\"Notification\" in window)) {\n",
       "    alert(\"This browser does not support desktop notifications, so the %%notify magic will not work.\");\n",
       "} else if (Notification.permission !== 'granted' && Notification.permission !== 'denied') {\n",
       "    Notification.requestPermission(function (permission) {\n",
       "        if(!('permission' in Notification)) {\n",
       "            Notification.permission = permission;\n",
       "        }\n",
       "    })\n",
       "}\n"
      ],
      "text/plain": [
       "<IPython.core.display.Javascript object>"
      ]
     },
     "metadata": {},
     "output_type": "display_data"
    }
   ],
   "source": [
    "%load_ext jupyternotify"
   ]
  },
  {
   "cell_type": "markdown",
   "id": "55b32ae8",
   "metadata": {},
   "source": [
    "## Import Data"
   ]
  },
  {
   "cell_type": "code",
   "execution_count": 3,
   "id": "3c8f1b2c",
   "metadata": {},
   "outputs": [],
   "source": [
    "#dataset for model training\n",
    "data = pd.read_csv('../project_3/datasets/data_2.csv')"
   ]
  },
  {
   "cell_type": "markdown",
   "id": "d6a5129b",
   "metadata": {},
   "source": [
    "## Data Dictionary:\n",
    "\n",
    "**Dataset name: data_2**\n",
    "- Size: 9982 observations, 2 variables\n",
    "- Description: Final dataset that contains scrapped data from Reddit\n",
    "\n",
    "|Feature|Type|Dataset|Description|\n",
    "|:---|:---|:---|:---|\n",
    "|**subreddit**|*integer*|data|Subreddit categories. 0 refers to csMajors, 1 refers to codingbootcamp| \n",
    "|**text**|*string*|data|Posts extracted from csMajor and codingbootcamp subreddit|"
   ]
  },
  {
   "cell_type": "markdown",
   "id": "ae724217",
   "metadata": {},
   "source": [
    "## Pre-processing data"
   ]
  },
  {
   "cell_type": "code",
   "execution_count": 4,
   "id": "b2ff44d6",
   "metadata": {},
   "outputs": [],
   "source": [
    "# NLTK(Natural Language Toolkit).\n",
    "stopword = nltk.corpus.stopwords.words('english')\n",
    "\n",
    "# add_stopword\n",
    "add_stopword = stopword + [\"want\",\"one\",\"anyone\",\"like\",\"im\",\"get\",\"would\",\"got\"] + ['really','also','ive','know','dont','go','much','lot','take','think','even','getting','back',\"\"]\n",
    "\n",
    "# Lemmatizing\n",
    "wn = nltk.WordNetLemmatizer()"
   ]
  },
  {
   "cell_type": "code",
   "execution_count": 5,
   "id": "a6f015dd",
   "metadata": {},
   "outputs": [],
   "source": [
    "def clean_text_ngram(text):\n",
    "    text = \"\".join([word.lower() for word in text if word not in string.punctuation])\n",
    "    tokens = re.split('\\W+', text)\n",
    "    \n",
    "    # Requires a full sentence to be passed in as opposed to a tokenized list\n",
    "    text = \" \".join([wn.lemmatize(word) for word in tokens if word not in add_stopword])\n",
    "    return text\n",
    "\n",
    "data['cleaned_text'] = data['text'].apply(lambda x: clean_text_ngram(x))\n"
   ]
  },
  {
   "cell_type": "markdown",
   "id": "846fa980",
   "metadata": {},
   "source": [
    "## Setting Up Data For Modeling"
   ]
  },
  {
   "cell_type": "markdown",
   "id": "beda6eb9",
   "metadata": {},
   "source": [
    "### Train Test Split"
   ]
  },
  {
   "cell_type": "code",
   "execution_count": 6,
   "id": "b98a25d0",
   "metadata": {},
   "outputs": [],
   "source": [
    "X = data[\"cleaned_text\"]\n",
    "y = data[\"subreddit\"]"
   ]
  },
  {
   "cell_type": "code",
   "execution_count": 7,
   "id": "ba81392b",
   "metadata": {},
   "outputs": [],
   "source": [
    "X_train, X_test, y_train, y_test = train_test_split(X, y,\n",
    "                                                    test_size=0.25,\n",
    "                                                    stratify=y,\n",
    "                                                    random_state=42)"
   ]
  },
  {
   "cell_type": "code",
   "execution_count": 8,
   "id": "be678506",
   "metadata": {},
   "outputs": [],
   "source": [
    "# Create an instance of CountVectorizer\n",
    "cv = CountVectorizer()"
   ]
  },
  {
   "cell_type": "code",
   "execution_count": 9,
   "id": "81992fdf",
   "metadata": {},
   "outputs": [],
   "source": [
    "# ngram_range refers to the range of n-grams that we would like to look for. In this case, (2,2) = bigrams only\n",
    "# (1,3) will return unigram, bigram, trigram since lower limit is 1 and upper limit is 3\n",
    "ngram_vect_1 = CountVectorizer(ngram_range=(1,1)) \n",
    "X_ngram_1 = ngram_vect_1.fit_transform(X_train)\n",
    "\n",
    "ngram_vect_2 = CountVectorizer(ngram_range=(2,2)) \n",
    "X_ngram_2 = ngram_vect_2.fit_transform(X_train)\n",
    "\n",
    "ngram_vect_3 = CountVectorizer(ngram_range=(3,3)) \n",
    "X_ngram_3 = ngram_vect_3.fit_transform(X_train)"
   ]
  },
  {
   "cell_type": "code",
   "execution_count": 10,
   "id": "b4cf9398",
   "metadata": {},
   "outputs": [
    {
     "name": "stdout",
     "output_type": "stream",
     "text": [
      "(7486, 16457)\n",
      "(7486, 166109)\n",
      "(7486, 223311)\n"
     ]
    }
   ],
   "source": [
    "print(X_ngram_1.shape)\n",
    "print(X_ngram_2.shape)\n",
    "print(X_ngram_3.shape)"
   ]
  },
  {
   "cell_type": "markdown",
   "id": "c1207628",
   "metadata": {},
   "source": [
    "- Data Set has 15,155 unique 1-word combinations\n",
    "- Data Set has 153,394 unique 2-word combinations\n",
    "- Data Set has 214,847 unique 3-word combinations"
   ]
  },
  {
   "cell_type": "markdown",
   "id": "08efa1f0",
   "metadata": {},
   "source": [
    "## Modeling"
   ]
  },
  {
   "cell_type": "markdown",
   "id": "db2befa2",
   "metadata": {},
   "source": [
    "### Setting up pipelines"
   ]
  },
  {
   "cell_type": "markdown",
   "id": "e8ba5f7e",
   "metadata": {},
   "source": [
    "#### Bi-Grams (2-2) + Bernoulli Naive Bayers + Data Preprocessing"
   ]
  },
  {
   "cell_type": "code",
   "execution_count": 11,
   "id": "80911fc8",
   "metadata": {},
   "outputs": [],
   "source": [
    "# Setting up pipeline with 2 stages:\n",
    "# 1. N-grams (2,2)\n",
    "# 2. Bernoulli Naive Bayes (estimator)\n",
    "\n",
    "pipe_bi_ber = Pipeline([\n",
    "    (\"cv\", CountVectorizer(ngram_range=(2,2))),\n",
    "    ('ber', BernoulliNB())\n",
    "])"
   ]
  },
  {
   "cell_type": "code",
   "execution_count": 12,
   "id": "bd4b0ae5",
   "metadata": {},
   "outputs": [],
   "source": [
    "params_bi_ber = {\n",
    "    'cv__max_features': [9_000],\n",
    "    'cv__min_df': [3],\n",
    "    'cv__max_df': [.4],\n",
    "    'ber__alpha': [0],\n",
    "    'ber__binarize' : [0]\n",
    "}"
   ]
  },
  {
   "cell_type": "raw",
   "id": "8ea07aa0",
   "metadata": {},
   "source": [
    "params_bi_ber = {\n",
    "    'cv__max_features': [5_000,6_000,7_000,9_000,11_000,13_000],\n",
    "    'cv__min_df': [1,2,3,5,7],\n",
    "    'cv__max_df': [.1,.2,.4,.8,.9,.95],\n",
    "    'ber__alpha': [0,0.1,0.2],\n",
    "    'ber__binarize' : [0,0.1,0.2]\n",
    "}\n",
    "\n",
    "    'cv__max_features': [9_000],\n",
    "    'cv__min_df': [3],\n",
    "    'cv__max_df': [.4],\n",
    "    'ber__alpha': [0],\n",
    "    'ber__binarize' : [0]"
   ]
  },
  {
   "cell_type": "code",
   "execution_count": 13,
   "id": "0671419f",
   "metadata": {},
   "outputs": [],
   "source": [
    "# Instantiate GridSearchCV\n",
    "gs_bi_ber = GridSearchCV(pipe_bi_ber, # what object are we optimizing?\n",
    "                  param_grid=params_bi_ber, # what parameters values are we searching?\n",
    "                  cv=5) # 5-fold cross-validation."
   ]
  },
  {
   "cell_type": "code",
   "execution_count": 14,
   "id": "0b374c0b",
   "metadata": {},
   "outputs": [
    {
     "data": {
      "text/plain": [
       "GridSearchCV(cv=5,\n",
       "             estimator=Pipeline(steps=[('cv',\n",
       "                                        CountVectorizer(ngram_range=(2, 2))),\n",
       "                                       ('ber', BernoulliNB())]),\n",
       "             param_grid={'ber__alpha': [0], 'ber__binarize': [0],\n",
       "                         'cv__max_df': [0.4], 'cv__max_features': [9000],\n",
       "                         'cv__min_df': [3]})"
      ]
     },
     "execution_count": 14,
     "metadata": {},
     "output_type": "execute_result"
    }
   ],
   "source": [
    "# Fit GridSearch to training data.\n",
    "gs_bi_ber.fit(X_train, y_train)"
   ]
  },
  {
   "cell_type": "code",
   "execution_count": 15,
   "id": "8780136d",
   "metadata": {},
   "outputs": [
    {
     "data": {
      "text/plain": [
       "{'ber__alpha': 0,\n",
       " 'ber__binarize': 0,\n",
       " 'cv__max_df': 0.4,\n",
       " 'cv__max_features': 9000,\n",
       " 'cv__min_df': 3}"
      ]
     },
     "execution_count": 15,
     "metadata": {},
     "output_type": "execute_result"
    }
   ],
   "source": [
    "# best params\n",
    "gs_bi_ber.best_params_"
   ]
  },
  {
   "cell_type": "code",
   "execution_count": 16,
   "id": "80599e91",
   "metadata": {
    "scrolled": true
   },
   "outputs": [
    {
     "name": "stdout",
     "output_type": "stream",
     "text": [
      "best cross validation score: 0.8406347184801289\n",
      "score on train set: 0.9043547956184879\n",
      "score on test set: 0.8605769230769231\n"
     ]
    }
   ],
   "source": [
    "# Best score: Mean cross-validated score of the best_estimator (we did a cv = 5)\n",
    "print(f'best cross validation score: {gs_bi_ber.best_score_}') \n",
    "\n",
    "# Score model on training set.\n",
    "print(f'score on train set: {gs_bi_ber.score(X_train, y_train)}')\n",
    "\n",
    "# Score model on testing set.\n",
    "print(f'score on test set: {gs_bi_ber.score(X_test, y_test)}')"
   ]
  },
  {
   "cell_type": "markdown",
   "id": "85e56ce8",
   "metadata": {},
   "source": [
    "- best cross validation score: 0.8406347184801289\n",
    "- score on train set: 0.9043547956184879\n",
    "- score on test set: 0.8605769230769231"
   ]
  },
  {
   "cell_type": "code",
   "execution_count": 17,
   "id": "1904d0c6",
   "metadata": {},
   "outputs": [
    {
     "name": "stdout",
     "output_type": "stream",
     "text": [
      "              precision    recall  f1-score   support\n",
      "\n",
      "           0       0.82      0.93      0.87      1248\n",
      "           1       0.91      0.80      0.85      1248\n",
      "\n",
      "    accuracy                           0.86      2496\n",
      "   macro avg       0.87      0.86      0.86      2496\n",
      "weighted avg       0.87      0.86      0.86      2496\n",
      "\n"
     ]
    }
   ],
   "source": [
    "y_pred_bi_ber = gs_bi_ber.predict(X_test)\n",
    "print(classification_report(y_test, y_pred_bi_ber))"
   ]
  },
  {
   "cell_type": "markdown",
   "id": "9caabf90",
   "metadata": {},
   "source": [
    "#### Tri-Grams (3-3) + Bernoulli Naive Bayers + Data Preprocessing"
   ]
  },
  {
   "cell_type": "code",
   "execution_count": 18,
   "id": "01033e03",
   "metadata": {},
   "outputs": [],
   "source": [
    "# Setting up pipeline with 2 stages:\n",
    "# 1. N-grams (3,3)\n",
    "# 2. Bernoulli Naive Bayes (estimator)\n",
    "\n",
    "pipe_tri_ber = Pipeline([\n",
    "    (\"cv\", CountVectorizer(ngram_range=(3,3))),\n",
    "    ('ber', BernoulliNB())\n",
    "])"
   ]
  },
  {
   "cell_type": "code",
   "execution_count": 19,
   "id": "270a7ad9",
   "metadata": {},
   "outputs": [],
   "source": [
    "params_tri_ber = {\n",
    "    'cv__min_df': [1],\n",
    "    'cv__max_df': [0.4],\n",
    "    'ber__alpha': [0],\n",
    "    'ber__binarize' : [0]\n",
    "}"
   ]
  },
  {
   "cell_type": "raw",
   "id": "fa6b7d73",
   "metadata": {},
   "source": [
    "# documentation\n",
    "params_tri_ber = {\n",
    "    'cv__max_features': [5_000,7_000,9_000,11_000],\n",
    "    'cv__min_df': [1,2,3],\n",
    "    'cv__max_df': [.1,.2,.4,.8,.9,.95],\n",
    "    'ber__alpha': [0,0.1,0.2],\n",
    "    'ber__binarize' : [0,0.1,0.2]\n",
    "}\n",
    "\n",
    "{'ber__alpha': 0,\n",
    " 'ber__binarize': 0,\n",
    " 'cv__max_df': 0.8,\n",
    " 'cv__max_features': 9000,\n",
    " 'cv__min_df': 1}"
   ]
  },
  {
   "cell_type": "code",
   "execution_count": 20,
   "id": "833e6ee0",
   "metadata": {},
   "outputs": [],
   "source": [
    "# Instantiate GridSearchCV\n",
    "gs_tri_ber = GridSearchCV(pipe_tri_ber, # what object are we optimizing?\n",
    "                  param_grid=params_tri_ber, # what parameters values are we searching?\n",
    "                  cv=5) # 5-fold cross-validation."
   ]
  },
  {
   "cell_type": "code",
   "execution_count": 21,
   "id": "3358a4e8",
   "metadata": {},
   "outputs": [
    {
     "data": {
      "text/plain": [
       "GridSearchCV(cv=5,\n",
       "             estimator=Pipeline(steps=[('cv',\n",
       "                                        CountVectorizer(ngram_range=(3, 3))),\n",
       "                                       ('ber', BernoulliNB())]),\n",
       "             param_grid={'ber__alpha': [0], 'ber__binarize': [0],\n",
       "                         'cv__max_df': [0.4], 'cv__min_df': [1]})"
      ]
     },
     "execution_count": 21,
     "metadata": {},
     "output_type": "execute_result"
    }
   ],
   "source": [
    "# Fit GridSearch to training data.\n",
    "gs_tri_ber.fit(X_train, y_train)"
   ]
  },
  {
   "cell_type": "code",
   "execution_count": 22,
   "id": "7d2c1853",
   "metadata": {},
   "outputs": [
    {
     "data": {
      "text/plain": [
       "{'ber__alpha': 0, 'ber__binarize': 0, 'cv__max_df': 0.4, 'cv__min_df': 1}"
      ]
     },
     "execution_count": 22,
     "metadata": {},
     "output_type": "execute_result"
    }
   ],
   "source": [
    "# best params: \n",
    "gs_tri_ber.best_params_"
   ]
  },
  {
   "cell_type": "code",
   "execution_count": 23,
   "id": "2ea12ef4",
   "metadata": {},
   "outputs": [
    {
     "name": "stdout",
     "output_type": "stream",
     "text": [
      "best cross validation score: 0.7568778857224908\n",
      "score on train set: 0.9687416510820198\n",
      "score on test set: 0.7688301282051282\n"
     ]
    }
   ],
   "source": [
    "# Best score: Mean cross-validated score of the best_estimator (we did a cv = 5)\n",
    "print(f'best cross validation score: {gs_tri_ber.best_score_}')\n",
    "\n",
    "# Score model on training set.\n",
    "print(f'score on train set: {gs_tri_ber.score(X_train, y_train)}')\n",
    "\n",
    "# Score model on testing set.\n",
    "print(f'score on test set: {gs_tri_ber.score(X_test, y_test)}')"
   ]
  },
  {
   "cell_type": "markdown",
   "id": "e362df30",
   "metadata": {},
   "source": [
    "- best cross validation score: 0.7568778857224908\n",
    "- score on train set: 0.9687416510820198\n",
    "- score on test set: 0.7688301282051282"
   ]
  },
  {
   "cell_type": "code",
   "execution_count": 24,
   "id": "567f7a9c",
   "metadata": {},
   "outputs": [
    {
     "name": "stdout",
     "output_type": "stream",
     "text": [
      "              precision    recall  f1-score   support\n",
      "\n",
      "           0       0.70      0.94      0.80      1248\n",
      "           1       0.91      0.59      0.72      1248\n",
      "\n",
      "    accuracy                           0.77      2496\n",
      "   macro avg       0.81      0.77      0.76      2496\n",
      "weighted avg       0.81      0.77      0.76      2496\n",
      "\n"
     ]
    }
   ],
   "source": [
    "y_pred_tri_ber = gs_tri_ber.predict(X_test)\n",
    "print(classification_report(y_test, y_pred_tri_ber))"
   ]
  },
  {
   "cell_type": "markdown",
   "id": "789e0ccd",
   "metadata": {},
   "source": [
    "#### Bi-Grams (2-2) + Multinomial Naive Bayers + Data Preprocessing"
   ]
  },
  {
   "cell_type": "code",
   "execution_count": 25,
   "id": "92897700",
   "metadata": {},
   "outputs": [],
   "source": [
    "# Setting up pipeline with 2 stages:\n",
    "# 1. Ngram (2,2) \n",
    "# 2. Multinomial Naive Bayes (estimator)\n",
    "\n",
    "pipe_bi_mnb = Pipeline([\n",
    "    (\"cv\", CountVectorizer(ngram_range=(2,2))),\n",
    "    ('mnb', MultinomialNB())\n",
    "])"
   ]
  },
  {
   "cell_type": "code",
   "execution_count": 26,
   "id": "dfb7d85b",
   "metadata": {},
   "outputs": [],
   "source": [
    "#hyperparameter tuning\n",
    "params_bi_mnb = {\n",
    "    'cv__min_df': [0],\n",
    "    'cv__max_df': [0.4]\n",
    "}"
   ]
  },
  {
   "cell_type": "raw",
   "id": "3e4eba8a",
   "metadata": {},
   "source": [
    "#hyperparameter tuning (documentation)\n",
    "params_bi_mnb = {\n",
    "    'cv__min_df': [0,0.1,0.2,0.3,1,2],\n",
    "    'cv__max_df': [0.1,0.2,0.3,0.4]\n",
    "}"
   ]
  },
  {
   "cell_type": "code",
   "execution_count": 27,
   "id": "ee1a4058",
   "metadata": {},
   "outputs": [],
   "source": [
    "# Instantiate GridSearchCV\n",
    "gs_bi_mnb = GridSearchCV(pipe_bi_mnb, # what object are we optimizing?\n",
    "                  param_grid=params_bi_mnb, # what parameters values are we searching?\n",
    "                  cv=5) # 5-fold cross-validation."
   ]
  },
  {
   "cell_type": "code",
   "execution_count": 28,
   "id": "ca763731",
   "metadata": {},
   "outputs": [
    {
     "data": {
      "text/plain": [
       "GridSearchCV(cv=5,\n",
       "             estimator=Pipeline(steps=[('cv',\n",
       "                                        CountVectorizer(ngram_range=(2, 2))),\n",
       "                                       ('mnb', MultinomialNB())]),\n",
       "             param_grid={'cv__max_df': [0.4], 'cv__min_df': [0]})"
      ]
     },
     "execution_count": 28,
     "metadata": {},
     "output_type": "execute_result"
    }
   ],
   "source": [
    "# Fit GridSearch to training data.\n",
    "gs_bi_mnb.fit(X_train, y_train)"
   ]
  },
  {
   "cell_type": "code",
   "execution_count": 29,
   "id": "f3773f08",
   "metadata": {},
   "outputs": [
    {
     "data": {
      "text/plain": [
       "{'cv__max_df': 0.4, 'cv__min_df': 0}"
      ]
     },
     "execution_count": 29,
     "metadata": {},
     "output_type": "execute_result"
    }
   ],
   "source": [
    "# best params: \n",
    "gs_bi_mnb.best_params_"
   ]
  },
  {
   "cell_type": "code",
   "execution_count": 30,
   "id": "e6b5a514",
   "metadata": {},
   "outputs": [
    {
     "name": "stdout",
     "output_type": "stream",
     "text": [
      "best cross val score for Bi-gram + Multinomial NB: 0.8837829642373309\n",
      "Bi-gram + Multinomial NB score on train set: 0.9846379909163773\n",
      "Bi-gram + Multinomial NB score on test set: 0.905448717948718\n"
     ]
    }
   ],
   "source": [
    "# Best score: Mean cross-validated score of the best_estimator (we did a cv = 5)\n",
    "print(f'best cross val score for Bi-gram + Multinomial NB: {gs_bi_mnb.best_score_}')\n",
    "\n",
    "# Score model on training set.\n",
    "print(f'Bi-gram + Multinomial NB score on train set: {gs_bi_mnb.score(X_train, y_train)}')\n",
    "\n",
    "# Score model on testing set.\n",
    "print(f'Bi-gram + Multinomial NB score on test set: {gs_bi_mnb.score(X_test, y_test)}')"
   ]
  },
  {
   "cell_type": "markdown",
   "id": "e293067c",
   "metadata": {},
   "source": [
    "- best cross val score for Bi-gram + Multinomial NB: 0.8837829642373309\n",
    "- Bi-gram + Multinomial NB score on train set: 0.9846379909163773\n",
    "- Bi-gram + Multinomial NB score on test set: 0.905448717948718"
   ]
  },
  {
   "cell_type": "code",
   "execution_count": 31,
   "id": "18ae8900",
   "metadata": {},
   "outputs": [
    {
     "name": "stdout",
     "output_type": "stream",
     "text": [
      "              precision    recall  f1-score   support\n",
      "\n",
      "           0       0.91      0.90      0.90      1248\n",
      "           1       0.90      0.91      0.91      1248\n",
      "\n",
      "    accuracy                           0.91      2496\n",
      "   macro avg       0.91      0.91      0.91      2496\n",
      "weighted avg       0.91      0.91      0.91      2496\n",
      "\n"
     ]
    }
   ],
   "source": [
    "y_pred_bi_mnb = gs_bi_mnb.predict(X_test)\n",
    "print(classification_report(y_test, y_pred_bi_mnb))"
   ]
  },
  {
   "cell_type": "markdown",
   "id": "8ddf9c4e",
   "metadata": {},
   "source": [
    "#### Tri-Grams (3-3) + Multinomial Naive Bayers + Data Preprocessing"
   ]
  },
  {
   "cell_type": "code",
   "execution_count": 32,
   "id": "ae95dbc7",
   "metadata": {},
   "outputs": [],
   "source": [
    "# Setting up pipeline with 2 stages:\n",
    "# 1. Ngram (3,3) \n",
    "# 2. Multinomial Naive Bayes (estimator)\n",
    "\n",
    "pipe_tri_mnb = Pipeline([\n",
    "    (\"cv\", CountVectorizer(ngram_range=(3,3))),\n",
    "    ('mnb', MultinomialNB())\n",
    "])"
   ]
  },
  {
   "cell_type": "code",
   "execution_count": 33,
   "id": "e95b2d08",
   "metadata": {},
   "outputs": [],
   "source": [
    "#hyperparameter tuning\n",
    "params_tri_mnb = {\n",
    "    'cv__min_df': [0, 1, 2, 3],\n",
    "    'cv__max_df': [0.4,.9, .95]\n",
    "}"
   ]
  },
  {
   "cell_type": "code",
   "execution_count": 34,
   "id": "1d636292",
   "metadata": {},
   "outputs": [],
   "source": [
    "# Instantiate GridSearchCV\n",
    "gs_tri_mnb = GridSearchCV(pipe_tri_mnb, # what object are we optimizing?\n",
    "                  param_grid=params_tri_mnb, # what parameters values are we searching?\n",
    "                  cv=5) # 5-fold cross-validation."
   ]
  },
  {
   "cell_type": "code",
   "execution_count": 35,
   "id": "d624a676",
   "metadata": {},
   "outputs": [
    {
     "data": {
      "text/plain": [
       "GridSearchCV(cv=5,\n",
       "             estimator=Pipeline(steps=[('cv',\n",
       "                                        CountVectorizer(ngram_range=(3, 3))),\n",
       "                                       ('mnb', MultinomialNB())]),\n",
       "             param_grid={'cv__max_df': [0.4, 0.9, 0.95],\n",
       "                         'cv__min_df': [0, 1, 2, 3]})"
      ]
     },
     "execution_count": 35,
     "metadata": {},
     "output_type": "execute_result"
    }
   ],
   "source": [
    "# Fit GridSearch to training data.\n",
    "gs_tri_mnb.fit(X_train, y_train)"
   ]
  },
  {
   "cell_type": "code",
   "execution_count": 36,
   "id": "90ff6812",
   "metadata": {},
   "outputs": [
    {
     "data": {
      "text/plain": [
       "{'cv__max_df': 0.4, 'cv__min_df': 0}"
      ]
     },
     "execution_count": 36,
     "metadata": {},
     "output_type": "execute_result"
    }
   ],
   "source": [
    "# best params: \n",
    "gs_tri_mnb.best_params_"
   ]
  },
  {
   "cell_type": "code",
   "execution_count": 37,
   "id": "b205406f",
   "metadata": {},
   "outputs": [
    {
     "name": "stdout",
     "output_type": "stream",
     "text": [
      "best cross val score for Tri-gram + Multinomial NB: 0.7618201244500572\n",
      "Tri-gram + Multinomial NB score on train set: 0.9695431472081218\n",
      "Tri-gram + Multinomial NB score on test set: 0.7748397435897436\n"
     ]
    }
   ],
   "source": [
    "# Best score: Mean cross-validated score of the best_estimator (we did a cv = 5)\n",
    "print(f'best cross val score for Tri-gram + Multinomial NB: {gs_tri_mnb.best_score_}')\n",
    "\n",
    "# Score model on training set.\n",
    "print(f'Tri-gram + Multinomial NB score on train set: {gs_tri_mnb.score(X_train, y_train)}')\n",
    "\n",
    "# Score model on testing set.\n",
    "print(f'Tri-gram + Multinomial NB score on test set: {gs_tri_mnb.score(X_test, y_test)}')"
   ]
  },
  {
   "cell_type": "markdown",
   "id": "fcee2bf0",
   "metadata": {},
   "source": [
    "- best cross val score for Tri-gram + Multinomial NB: 0.7618201244500572\n",
    "- Tri-gram + Multinomial NB score on train set: 0.9695431472081218\n",
    "- Tri-gram + Multinomial NB score on test set: 0.7748397435897436"
   ]
  },
  {
   "cell_type": "code",
   "execution_count": 38,
   "id": "be9b9949",
   "metadata": {},
   "outputs": [
    {
     "name": "stdout",
     "output_type": "stream",
     "text": [
      "              precision    recall  f1-score   support\n",
      "\n",
      "           0       0.71      0.93      0.81      1248\n",
      "           1       0.90      0.62      0.73      1248\n",
      "\n",
      "    accuracy                           0.77      2496\n",
      "   macro avg       0.80      0.77      0.77      2496\n",
      "weighted avg       0.80      0.77      0.77      2496\n",
      "\n"
     ]
    }
   ],
   "source": [
    "y_pred_tri_mnb = gs_tri_mnb.predict(X_test)\n",
    "print(classification_report(y_test, y_pred_tri_mnb))"
   ]
  },
  {
   "cell_type": "markdown",
   "id": "3d2b8988",
   "metadata": {},
   "source": [
    "#### Bi-gram (2,2) + Logistic Regression + Data Preprocessing"
   ]
  },
  {
   "cell_type": "code",
   "execution_count": 39,
   "id": "15e45cf6",
   "metadata": {},
   "outputs": [],
   "source": [
    "# Setting up pipeline with 2 stages:\n",
    "# 1. Bi-gram (2,2) (transformer) + clean text\n",
    "# 2. Logistic Regression (estimator)\n",
    "\n",
    "pipe_bi_lg = Pipeline([\n",
    "    (\"cv\", CountVectorizer(ngram_range=(2,2))),\n",
    "    ('lg', LogisticRegression(solver='liblinear'))\n",
    "])"
   ]
  },
  {
   "cell_type": "code",
   "execution_count": 40,
   "id": "a8c21fb8",
   "metadata": {},
   "outputs": [],
   "source": [
    "#hyperparameter tuning\n",
    "params_bi_lg = {\n",
    "    'cv__max_features': [11_000],\n",
    "    'cv__min_df': [0],\n",
    "    'cv__max_df': [0.4]\n",
    "}"
   ]
  },
  {
   "cell_type": "raw",
   "id": "e3efd58c",
   "metadata": {},
   "source": [
    "#hyperparameter tuning\n",
    "params_bi_lg = {\n",
    "    'cv__max_features': [7_000,8_000,9_000,11_000,15_000,20_000],\n",
    "    'cv__min_df': [0, 1],\n",
    "    'cv__max_df': [0.4,0.6]\n",
    "}"
   ]
  },
  {
   "cell_type": "code",
   "execution_count": 41,
   "id": "7c0cb012",
   "metadata": {},
   "outputs": [],
   "source": [
    "# pipe_bi_lg.get_params()"
   ]
  },
  {
   "cell_type": "code",
   "execution_count": 42,
   "id": "caaf01e8",
   "metadata": {},
   "outputs": [],
   "source": [
    "# Instantiate GridSearchCV\n",
    "gs_bi_lg = GridSearchCV(pipe_bi_lg, # what object are we optimizing?\n",
    "                  param_grid=params_bi_lg, # what parameters values are we searching?\n",
    "                  cv=5) # 5-fold cross-validation."
   ]
  },
  {
   "cell_type": "code",
   "execution_count": 43,
   "id": "fe109191",
   "metadata": {},
   "outputs": [
    {
     "data": {
      "text/plain": [
       "GridSearchCV(cv=5,\n",
       "             estimator=Pipeline(steps=[('cv',\n",
       "                                        CountVectorizer(ngram_range=(2, 2))),\n",
       "                                       ('lg',\n",
       "                                        LogisticRegression(solver='liblinear'))]),\n",
       "             param_grid={'cv__max_df': [0.4], 'cv__max_features': [11000],\n",
       "                         'cv__min_df': [0]})"
      ]
     },
     "execution_count": 43,
     "metadata": {},
     "output_type": "execute_result"
    }
   ],
   "source": [
    "# Fit GridSearch to training data.\n",
    "gs_bi_lg.fit(X_train, y_train)"
   ]
  },
  {
   "cell_type": "code",
   "execution_count": 44,
   "id": "c78f19de",
   "metadata": {},
   "outputs": [
    {
     "data": {
      "text/plain": [
       "{'cv__max_df': 0.4, 'cv__max_features': 11000, 'cv__min_df': 0}"
      ]
     },
     "execution_count": 44,
     "metadata": {},
     "output_type": "execute_result"
    }
   ],
   "source": [
    "# best params:\n",
    "gs_bi_lg.best_params_"
   ]
  },
  {
   "cell_type": "code",
   "execution_count": 45,
   "id": "3f878317",
   "metadata": {},
   "outputs": [
    {
     "name": "stdout",
     "output_type": "stream",
     "text": [
      "best cross validation score: 0.858400289675925\n",
      "score on train set: 0.9441624365482234\n",
      "score on test set: 0.875\n"
     ]
    }
   ],
   "source": [
    "# Best score: Mean cross-validated score of the best_estimator (we did a cv = 5)\n",
    "print(f'best cross validation score: {gs_bi_lg.best_score_}') \n",
    "\n",
    "# Score model on training set.\n",
    "print(f'score on train set: {gs_bi_lg.score(X_train, y_train)}')\n",
    "\n",
    "# Score model on testing set.\n",
    "print(f'score on test set: {gs_bi_lg.score(X_test, y_test)}')"
   ]
  },
  {
   "cell_type": "markdown",
   "id": "0bff3476",
   "metadata": {},
   "source": [
    "- best cross validation score: 0.858400289675925\n",
    "- score on train set: 0.9441624365482234\n",
    "- score on test set: 0.875"
   ]
  },
  {
   "cell_type": "code",
   "execution_count": 46,
   "id": "305423e1",
   "metadata": {},
   "outputs": [
    {
     "name": "stdout",
     "output_type": "stream",
     "text": [
      "              precision    recall  f1-score   support\n",
      "\n",
      "           0       0.85      0.92      0.88      1248\n",
      "           1       0.91      0.83      0.87      1248\n",
      "\n",
      "    accuracy                           0.88      2496\n",
      "   macro avg       0.88      0.88      0.87      2496\n",
      "weighted avg       0.88      0.88      0.87      2496\n",
      "\n"
     ]
    }
   ],
   "source": [
    "y_pred_bi_lg = gs_bi_lg.predict(X_test)\n",
    "print(classification_report(y_test, y_pred_bi_lg))"
   ]
  },
  {
   "cell_type": "markdown",
   "id": "f53423d6",
   "metadata": {},
   "source": [
    "#### Tri-gram (3,3) + Logistic Regression + Data Preprocessing"
   ]
  },
  {
   "cell_type": "code",
   "execution_count": 47,
   "id": "6c2cf04f",
   "metadata": {},
   "outputs": [],
   "source": [
    "# Setting up pipeline with 2 stages:\n",
    "# 1. Tri-gram (3,3) (transformer) + clean text\n",
    "# 2. Logistic Regression (estimator)\n",
    "\n",
    "pipe_tri_lg = Pipeline([\n",
    "    (\"cv\", CountVectorizer(ngram_range=(3,3))),\n",
    "    ('lg', LogisticRegression(solver='liblinear'))\n",
    "])"
   ]
  },
  {
   "cell_type": "code",
   "execution_count": 48,
   "id": "f34ed913",
   "metadata": {},
   "outputs": [],
   "source": [
    "#hyperparameter tuning\n",
    "params_tri_lg = {\n",
    "    'cv__max_features': [20_000],\n",
    "    'cv__min_df': [0],\n",
    "    'cv__max_df': [0.4]\n",
    "}"
   ]
  },
  {
   "cell_type": "raw",
   "id": "9d62c265",
   "metadata": {},
   "source": [
    "#hyperparameter tuning (documentation)\n",
    "params_tri_lg = {\n",
    "    'cv__max_features': [7_000,9_000,11_000,13_000,15_000,17_000,20_000],\n",
    "    'cv__min_df': [0,0.5, 1],\n",
    "    'cv__max_df': [0.4,0.6,0.8]\n",
    "}"
   ]
  },
  {
   "cell_type": "code",
   "execution_count": 49,
   "id": "106bf7dc",
   "metadata": {},
   "outputs": [],
   "source": [
    "# Instantiate GridSearchCV\n",
    "gs_tri_lg = GridSearchCV(pipe_tri_lg, # what object are we optimizing?\n",
    "                  param_grid=params_tri_lg, # what parameters values are we searching?\n",
    "                  cv=5) # 5-fold cross-validation."
   ]
  },
  {
   "cell_type": "code",
   "execution_count": 50,
   "id": "28eef1d7",
   "metadata": {},
   "outputs": [
    {
     "data": {
      "text/plain": [
       "GridSearchCV(cv=5,\n",
       "             estimator=Pipeline(steps=[('cv',\n",
       "                                        CountVectorizer(ngram_range=(3, 3))),\n",
       "                                       ('lg',\n",
       "                                        LogisticRegression(solver='liblinear'))]),\n",
       "             param_grid={'cv__max_df': [0.4], 'cv__max_features': [20000],\n",
       "                         'cv__min_df': [0]})"
      ]
     },
     "execution_count": 50,
     "metadata": {},
     "output_type": "execute_result"
    }
   ],
   "source": [
    "# Fit GridSearch to training data.\n",
    "gs_tri_lg.fit(X_train, y_train)"
   ]
  },
  {
   "cell_type": "code",
   "execution_count": 51,
   "id": "c90f9830",
   "metadata": {},
   "outputs": [
    {
     "data": {
      "text/plain": [
       "{'cv__max_df': 0.4, 'cv__max_features': 20000, 'cv__min_df': 0}"
      ]
     },
     "execution_count": 51,
     "metadata": {},
     "output_type": "execute_result"
    }
   ],
   "source": [
    "# best params:\n",
    "gs_tri_lg.best_params_"
   ]
  },
  {
   "cell_type": "code",
   "execution_count": 52,
   "id": "1a169d81",
   "metadata": {},
   "outputs": [
    {
     "name": "stdout",
     "output_type": "stream",
     "text": [
      "best cross validation score: 0.7114615523882657\n",
      "score on train set: 0.8820464867753139\n",
      "score on test set: 0.7183493589743589\n"
     ]
    }
   ],
   "source": [
    "# Best score: Mean cross-validated score of the best_estimator (we did a cv = 5)\n",
    "print(f'best cross validation score: {gs_tri_lg.best_score_}') \n",
    "\n",
    "# Score model on training set.\n",
    "print(f'score on train set: {gs_tri_lg.score(X_train, y_train)}')\n",
    "\n",
    "# Score model on testing set.\n",
    "print(f'score on test set: {gs_tri_lg.score(X_test, y_test)}')"
   ]
  },
  {
   "cell_type": "markdown",
   "id": "c1b6a68c",
   "metadata": {},
   "source": [
    "- best cross validation score: 0.7114615523882657\n",
    "- score on train set: 0.8820464867753139\n",
    "- score on test set: 0.7183493589743589"
   ]
  },
  {
   "cell_type": "code",
   "execution_count": 53,
   "id": "04716ee0",
   "metadata": {},
   "outputs": [
    {
     "name": "stdout",
     "output_type": "stream",
     "text": [
      "              precision    recall  f1-score   support\n",
      "\n",
      "           0       0.65      0.95      0.77      1248\n",
      "           1       0.91      0.48      0.63      1248\n",
      "\n",
      "    accuracy                           0.72      2496\n",
      "   macro avg       0.78      0.72      0.70      2496\n",
      "weighted avg       0.78      0.72      0.70      2496\n",
      "\n"
     ]
    }
   ],
   "source": [
    "y_pred_tri_lg = gs_tri_lg.predict(X_test)\n",
    "print(classification_report(y_test, y_pred_tri_lg))"
   ]
  },
  {
   "cell_type": "markdown",
   "id": "2ad2487d",
   "metadata": {},
   "source": [
    "#### Bi-Gram (2,2) + KNN + Data Preprocessing"
   ]
  },
  {
   "cell_type": "code",
   "execution_count": 54,
   "id": "ca55d199",
   "metadata": {},
   "outputs": [],
   "source": [
    "# Setting up pipeline with 2 stages:\n",
    "# 1. Bi-Gram (2,2) + clean text\n",
    "# 2. KNN (estimator)\n",
    "\n",
    "pipe_bi_knn = Pipeline([\n",
    "    (\"bi\", CountVectorizer(ngram_range=(3,3))),\n",
    "    ('knn', KNeighborsClassifier())\n",
    "])"
   ]
  },
  {
   "cell_type": "code",
   "execution_count": 55,
   "id": "292ecbf0",
   "metadata": {},
   "outputs": [],
   "source": [
    "#hyperparameter tuning\n",
    "params_bi_knn = {\n",
    "    'bi__max_features': [7_000],\n",
    "    'bi__min_df': [0],\n",
    "    'bi__max_df': [0.4],\n",
    "    'knn__n_neighbors': [3]\n",
    "}"
   ]
  },
  {
   "cell_type": "raw",
   "id": "f3ad8f65",
   "metadata": {},
   "source": [
    "#hyperparameter tuning (documented)\n",
    "params_bi_knn = {\n",
    "    'bi__max_features': [7_000,11_000,13_000,16_000],\n",
    "    'bi__min_df': [0,0.5, 1],\n",
    "    'bi__max_df': [0.4,0.6,0.9],\n",
    "    'knn__n_neighbors': [3,5,7,11]\n",
    "}\n",
    "\n",
    "{'bi__max_df': 0.4,\n",
    " 'bi__max_features': 7000,\n",
    " 'bi__min_df': 0,\n",
    " 'knn__n_neighbors': 3}"
   ]
  },
  {
   "cell_type": "code",
   "execution_count": 56,
   "id": "e48fd65e",
   "metadata": {},
   "outputs": [],
   "source": [
    "# Instantiate GridSearchCV\n",
    "gs_bi_knn = GridSearchCV(pipe_bi_knn, # what object are we optimizing?\n",
    "                  param_grid=params_bi_knn, # what parameters values are we searching?\n",
    "                  cv=5) # 5-fold cross-validation."
   ]
  },
  {
   "cell_type": "code",
   "execution_count": 57,
   "id": "9fe948ca",
   "metadata": {},
   "outputs": [
    {
     "data": {
      "text/plain": [
       "GridSearchCV(cv=5,\n",
       "             estimator=Pipeline(steps=[('bi',\n",
       "                                        CountVectorizer(ngram_range=(3, 3))),\n",
       "                                       ('knn', KNeighborsClassifier())]),\n",
       "             param_grid={'bi__max_df': [0.4], 'bi__max_features': [7000],\n",
       "                         'bi__min_df': [0], 'knn__n_neighbors': [3]})"
      ]
     },
     "execution_count": 57,
     "metadata": {},
     "output_type": "execute_result"
    }
   ],
   "source": [
    "# Fit GridSearch to training data.\n",
    "gs_bi_knn.fit(X_train, y_train)"
   ]
  },
  {
   "cell_type": "code",
   "execution_count": 58,
   "id": "502710b3",
   "metadata": {},
   "outputs": [
    {
     "data": {
      "text/plain": [
       "{'bi__max_df': 0.4,\n",
       " 'bi__max_features': 7000,\n",
       " 'bi__min_df': 0,\n",
       " 'knn__n_neighbors': 3}"
      ]
     },
     "execution_count": 58,
     "metadata": {},
     "output_type": "execute_result"
    }
   ],
   "source": [
    "# best params:\n",
    "gs_bi_knn.best_params_"
   ]
  },
  {
   "cell_type": "code",
   "execution_count": 59,
   "id": "851f7d15",
   "metadata": {},
   "outputs": [
    {
     "name": "stdout",
     "output_type": "stream",
     "text": [
      "best cross validation score: 0.5861653881862524\n",
      "score on train set: 0.7898744322735773\n",
      "score on test set: 0.6121794871794872\n"
     ]
    }
   ],
   "source": [
    "# Best score: Mean cross-validated score of the best_estimator (we did a cv = 5)\n",
    "print(f'best cross validation score: {gs_bi_knn.best_score_}') \n",
    "\n",
    "# Score model on training set.\n",
    "print(f'score on train set: {gs_bi_knn.score(X_train, y_train)}')\n",
    "\n",
    "# Score model on testing set.\n",
    "print(f'score on test set: {gs_bi_knn.score(X_test, y_test)}')"
   ]
  },
  {
   "cell_type": "code",
   "execution_count": 60,
   "id": "6a4b7d99",
   "metadata": {},
   "outputs": [
    {
     "name": "stdout",
     "output_type": "stream",
     "text": [
      "              precision    recall  f1-score   support\n",
      "\n",
      "           0       0.88      0.26      0.40      1248\n",
      "           1       0.57      0.96      0.71      1248\n",
      "\n",
      "    accuracy                           0.61      2496\n",
      "   macro avg       0.72      0.61      0.56      2496\n",
      "weighted avg       0.72      0.61      0.56      2496\n",
      "\n"
     ]
    }
   ],
   "source": [
    "y_pred_bi_knn = gs_bi_knn.predict(X_test)\n",
    "print(classification_report(y_test, y_pred_bi_knn))"
   ]
  },
  {
   "cell_type": "code",
   "execution_count": 61,
   "id": "9fb4ddba",
   "metadata": {},
   "outputs": [
    {
     "data": {
      "application/javascript": [
       "$(document).ready(\n",
       "    function() {\n",
       "        function appendUniqueDiv(){\n",
       "            // append a div with our uuid so we can check that it's already\n",
       "            // been sent and avoid duplicates on page reload\n",
       "            var notifiedDiv = document.createElement(\"div\")\n",
       "            notifiedDiv.id = \"9ff81676-52cd-41d6-aae9-4d739ffe3a27\"\n",
       "            element.append(notifiedDiv)\n",
       "        }\n",
       "\n",
       "        // only send notifications if the pageload is complete; this will\n",
       "        // help stop extra notifications when a saved notebook is loaded,\n",
       "        // which during testing gives us state \"interactive\", not \"complete\"\n",
       "        if (document.readyState === 'complete') {\n",
       "            // check for the div that signifies that the notification\n",
       "            // was already sent\n",
       "            if (document.getElementById(\"9ff81676-52cd-41d6-aae9-4d739ffe3a27\") === null) {\n",
       "                var notificationPayload = {\"requireInteraction\": false, \"icon\": \"/static/base/images/favicon.ico\", \"body\": \"Cell execution has finished!\"};\n",
       "                if (Notification.permission !== 'denied') {\n",
       "                    if (Notification.permission !== 'granted') { \n",
       "                        Notification.requestPermission(function (permission) {\n",
       "                            if(!('permission' in Notification)) {\n",
       "                                Notification.permission = permission\n",
       "                            }\n",
       "                        })\n",
       "                    }\n",
       "                    if (Notification.permission === 'granted') {\n",
       "                    var notification = new Notification(\"Jupyter Notebook\", notificationPayload)\n",
       "                    appendUniqueDiv()\n",
       "                    notification.onclick = function () {\n",
       "                        window.focus();\n",
       "                        this.close();\n",
       "                        };\n",
       "                    } \n",
       "                }     \n",
       "            }\n",
       "        }\n",
       "    }\n",
       ")\n"
      ],
      "text/plain": [
       "<IPython.core.display.Javascript object>"
      ]
     },
     "metadata": {},
     "output_type": "display_data"
    }
   ],
   "source": [
    "%notify"
   ]
  },
  {
   "cell_type": "markdown",
   "id": "d1db799c",
   "metadata": {},
   "source": [
    "## Summary on Model Accuracy"
   ]
  },
  {
   "cell_type": "markdown",
   "id": "988f2c89",
   "metadata": {},
   "source": [
    "|**Vectorization Method**|**Model**|**Train Results**|**Test Results**|\n",
    "|:---|:---|:---:|:---:|\n",
    "|Bi-Gram|Naive Bayes - Bernoulli|0.90435|0.86057|\n",
    "|Bi-Gram|Naive Bayes - Multinomial|0.98464|0.90545|\n",
    "|Bi-Gram|Logistic Regression|0.94416|0.875|\n",
    "|Bi-Gram|K-Nearest Neighbours|0.78987|0.61218|\n",
    "|Tri-Gram|Naive Bayes - Bernoulli|0.96874|0.76883|\n",
    "|Tri-Gram|Naive Bayes - Multinomial|0.96954|0.77484|\n",
    "|Tri-Gram|Logistic Regression|0.88204|0.71834|"
   ]
  }
 ],
 "metadata": {
  "kernelspec": {
   "display_name": "Python 3 (ipykernel)",
   "language": "python",
   "name": "python3"
  },
  "language_info": {
   "codemirror_mode": {
    "name": "ipython",
    "version": 3
   },
   "file_extension": ".py",
   "mimetype": "text/x-python",
   "name": "python",
   "nbconvert_exporter": "python",
   "pygments_lexer": "ipython3",
   "version": "3.9.12"
  }
 },
 "nbformat": 4,
 "nbformat_minor": 5
}
