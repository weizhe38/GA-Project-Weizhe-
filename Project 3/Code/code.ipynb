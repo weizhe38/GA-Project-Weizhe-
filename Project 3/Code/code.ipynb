{
 "cells": [
  {
   "cell_type": "markdown",
   "id": "07be20e0",
   "metadata": {},
   "source": [
    "<img src=\"http://imgur.com/1ZcRyrc.png\" style=\"float: left; margin: 15px; height: 80px\">\n",
    "\n",
    "# Project 3: Web APIs & NLP"
   ]
  },
  {
   "cell_type": "markdown",
   "id": "17d5340c",
   "metadata": {},
   "source": [
    "## Background"
   ]
  },
  {
   "cell_type": "markdown",
   "id": "e98973db",
   "metadata": {},
   "source": [
    "With the increase in competition in the space for coding bootcamps, example Hack Reactor (online), Vertical Institute, Rocket Academy, Le Wagon, it affects General Assembly's market share and lowers marketing ROI, which in turn leads to General Assembly being unable to hit enrollment KPIs.\n",
    "\n",
    "GA marketing is therefore trying to figure out how to better identify the online persona of a bootcamp seeker as opposed to that of a computer science major to aid in targeted advertising. Considering the two topics have quite a bit in common, efforts to further segregate the two targets could yield better advertising ROI."
   ]
  },
  {
   "cell_type": "markdown",
   "id": "348bd153",
   "metadata": {},
   "source": [
    "## Problem Statement"
   ]
  },
  {
   "cell_type": "markdown",
   "id": "93512d85",
   "metadata": {},
   "source": [
    "Current classifying model using straightforward keywords such as ‘bootcamp’ and ‘coding’ yields around 79% accuracy.\n",
    "\n",
    "Build a model with >90% accuracy that helps to identify between those who are looking for bootcamp style learning vs computer science majors/prospective students based on the words they use online."
   ]
  },
  {
   "cell_type": "markdown",
   "id": "59b0b264",
   "metadata": {},
   "source": [
    "## Data Dictionary:\n",
    "\n",
    "**Dataset name: data_2**\n",
    "- Size: 9982 observations, 2 variables\n",
    "- Description: Final dataset that contains scrapped data from Reddit\n",
    "\n",
    "|Feature|Type|Dataset|Description|\n",
    "|:---|:---|:---|:---|\n",
    "|**subreddit**|*integer*|data|Subreddit categories. 0 refers to csMajors, 1 refers to codingbootcamp| \n",
    "|**text**|*string*|data|Posts extracted from csMajor and codingbootcamp subreddit|"
   ]
  },
  {
   "cell_type": "markdown",
   "id": "ec38027a",
   "metadata": {},
   "source": [
    "## Jupyter Notebook Purpose:\n",
    "#### Notebook contains codes for:\n",
    "- API Data Scraping\n",
    "- Data Cleaning\n",
    "- Data Preprocessing\n",
    "- EDA\n",
    "- Model Selection\n",
    "- Model Evaluation\n",
    "\n",
    "#### Summary on:\n",
    "- Future works\n",
    "- Conclusion/Recommendation"
   ]
  },
  {
   "cell_type": "markdown",
   "id": "9d0fea2e",
   "metadata": {},
   "source": [
    "## Import Libraries"
   ]
  },
  {
   "cell_type": "code",
   "execution_count": 1,
   "id": "f85de31e",
   "metadata": {},
   "outputs": [],
   "source": [
    "import requests\n",
    "import pandas as pd\n",
    "import numpy as np\n",
    "import datetime as dt\n",
    "import nltk\n",
    "import re\n",
    "import string\n",
    "import seaborn as sb\n",
    "import matplotlib.pyplot as plt\n",
    "\n",
    "from sklearn import metrics\n",
    "from sklearn.metrics import classification_report\n",
    "from sklearn.metrics import confusion_matrix\n",
    "from sklearn.metrics import precision_score, recall_score\n",
    "from sklearn.metrics import accuracy_score, plot_roc_curve, roc_auc_score\n",
    "\n",
    "from sklearn.model_selection import cross_val_predict, train_test_split, GridSearchCV\n",
    "from sklearn.pipeline import Pipeline\n",
    "\n",
    "from sklearn.feature_extraction.text import CountVectorizer\n",
    "from sklearn.feature_extraction.text import TfidfVectorizer\n",
    "\n",
    "from sklearn.linear_model import LogisticRegression \n",
    "\n",
    "#Ignore warnings\n",
    "import warnings\n",
    "warnings.filterwarnings(\"ignore\")\n",
    "\n",
    "#change display options\n",
    "pd.set_option(\"display.max_rows\", 160)\n",
    "pd.set_option(\"display.max_columns\", 80)"
   ]
  },
  {
   "cell_type": "markdown",
   "id": "55b32ae8",
   "metadata": {},
   "source": [
    "## Scraping Data"
   ]
  },
  {
   "cell_type": "code",
   "execution_count": 2,
   "id": "3c8f1b2c",
   "metadata": {},
   "outputs": [],
   "source": [
    "# url for API call\n",
    "url = 'https://api.pushshift.io/reddit/search/submission' "
   ]
  },
  {
   "cell_type": "code",
   "execution_count": 3,
   "id": "e78fa1ed",
   "metadata": {},
   "outputs": [],
   "source": [
    "# defining params\n",
    "params = {'subreddit': \"codingbootcamp\", 'size': 100,'before': int(dt.datetime(2022,11,25,23,59).timestamp())}"
   ]
  },
  {
   "cell_type": "code",
   "execution_count": 4,
   "id": "ccf78a60",
   "metadata": {},
   "outputs": [
    {
     "name": "stdout",
     "output_type": "stream",
     "text": [
      "200\n"
     ]
    }
   ],
   "source": [
    "# submit request to pull data from API\n",
    "req = requests.get(url, params) \n",
    "print(req.status_code)"
   ]
  },
  {
   "cell_type": "code",
   "execution_count": 5,
   "id": "f4fae4ff",
   "metadata": {},
   "outputs": [],
   "source": [
    "# using json to change it to dict format\n",
    "data = req.json()"
   ]
  },
  {
   "cell_type": "code",
   "execution_count": 6,
   "id": "ff8dd276",
   "metadata": {},
   "outputs": [
    {
     "data": {
      "text/plain": [
       "{'all_awardings': [],\n",
       " 'allow_live_comments': False,\n",
       " 'author': 'FullZenOzeki',\n",
       " 'author_flair_css_class': None,\n",
       " 'author_flair_richtext': [],\n",
       " 'author_flair_text': None,\n",
       " 'author_flair_type': 'text',\n",
       " 'author_fullname': 't2_ssnp2dx2',\n",
       " 'author_is_blocked': False,\n",
       " 'author_patreon_flair': False,\n",
       " 'author_premium': False,\n",
       " 'awarders': [],\n",
       " 'can_mod_post': False,\n",
       " 'contest_mode': False,\n",
       " 'created_utc': 1669315434,\n",
       " 'domain': 'self.codingbootcamp',\n",
       " 'full_link': 'https://www.reddit.com/r/codingbootcamp/comments/z3rhhr/how_can_i_become_a_coder/',\n",
       " 'gildings': {},\n",
       " 'id': 'z3rhhr',\n",
       " 'is_created_from_ads_ui': False,\n",
       " 'is_crosspostable': True,\n",
       " 'is_meta': False,\n",
       " 'is_original_content': False,\n",
       " 'is_reddit_media_domain': False,\n",
       " 'is_robot_indexable': True,\n",
       " 'is_self': True,\n",
       " 'is_video': False,\n",
       " 'link_flair_background_color': '',\n",
       " 'link_flair_richtext': [],\n",
       " 'link_flair_text_color': 'dark',\n",
       " 'link_flair_type': 'text',\n",
       " 'locked': False,\n",
       " 'media_only': False,\n",
       " 'no_follow': True,\n",
       " 'num_comments': 0,\n",
       " 'num_crossposts': 0,\n",
       " 'over_18': False,\n",
       " 'parent_whitelist_status': 'all_ads',\n",
       " 'permalink': '/r/codingbootcamp/comments/z3rhhr/how_can_i_become_a_coder/',\n",
       " 'pinned': False,\n",
       " 'pwls': 6,\n",
       " 'retrieved_on': 1669315445,\n",
       " 'score': 1,\n",
       " 'selftext': \"I hear you cool guys get fat stacks, good hours, and all the hot chicks (or guys or enbys). Is there some sort of affordable program out there that can help me learn this stuff. \\n\\nLike, it's not just the money or backshots I'm after I like looming at data, reading data and stretching it into something that makes sense.\",\n",
       " 'send_replies': True,\n",
       " 'spoiler': False,\n",
       " 'stickied': False,\n",
       " 'subreddit': 'codingbootcamp',\n",
       " 'subreddit_id': 't5_372sz',\n",
       " 'subreddit_subscribers': 22116,\n",
       " 'subreddit_type': 'public',\n",
       " 'thumbnail': 'self',\n",
       " 'title': 'How can I become a coder?',\n",
       " 'total_awards_received': 0,\n",
       " 'treatment_tags': [],\n",
       " 'upvote_ratio': 1.0,\n",
       " 'url': 'https://www.reddit.com/r/codingbootcamp/comments/z3rhhr/how_can_i_become_a_coder/',\n",
       " 'whitelist_status': 'all_ads',\n",
       " 'wls': 6}"
      ]
     },
     "metadata": {},
     "output_type": "display_data"
    }
   ],
   "source": [
    "# display info under 1st row, for overview on which information is useful\n",
    "display(data['data'][0])"
   ]
  },
  {
   "cell_type": "markdown",
   "id": "7d18458c",
   "metadata": {},
   "source": [
    "#### Automating the scraping process"
   ]
  },
  {
   "cell_type": "code",
   "execution_count": 7,
   "id": "5015056b",
   "metadata": {},
   "outputs": [],
   "source": [
    "# automating the scraping process\n",
    "def datapuller(count,subreddit,before):\n",
    "    df = pd.DataFrame()\n",
    "    url = 'https://api.pushshift.io/reddit/search/submission' # url for API call.\n",
    "    for i in range(count):\n",
    "        params = {'subreddit': subreddit, 'size': 300,'before': before} #defining params\n",
    "        req = requests.get(url, params) # Submit request\n",
    "        data = req.json()\n",
    "        df = df.append(pd.DataFrame(data['data'])) #Creating dataframe\n",
    "        df.reset_index(drop=True,inplace = True)\n",
    "        before = df.loc[len(df)-1,['created_utc']]\n",
    "    print(f'ping status: {req.status_code}')\n",
    "    print(f'created_utc: {before}')\n",
    "    print(f'{len(df)} post scrapped')\n",
    "    return df"
   ]
  },
  {
   "cell_type": "code",
   "execution_count": 8,
   "id": "461ac4c0",
   "metadata": {},
   "outputs": [
    {
     "name": "stdout",
     "output_type": "stream",
     "text": [
      "ping status: 200\n",
      "created_utc: created_utc    1525831870\n",
      "Name: 4989, dtype: object\n",
      "4990 post scrapped\n"
     ]
    }
   ],
   "source": [
    "# scrapping from selected subreddits - \"autism\"\n",
    "count = 20\n",
    "subreddit = \"codingbootcamp\"\n",
    "before = int(dt.datetime(2022,11,25,23,59).timestamp())\n",
    "df_1 = datapuller(count,subreddit,before)"
   ]
  },
  {
   "cell_type": "code",
   "execution_count": 9,
   "id": "260e2784",
   "metadata": {},
   "outputs": [
    {
     "name": "stdout",
     "output_type": "stream",
     "text": [
      "ping status: 200\n",
      "created_utc: created_utc    1665867967\n",
      "Name: 4991, dtype: object\n",
      "4992 post scrapped\n"
     ]
    }
   ],
   "source": [
    "# scrapping from selected subreddits - ADHD\n",
    "count = 20\n",
    "subreddit = \"csMajors\"\n",
    "before = int(dt.datetime(2022,11,25,23,59).timestamp())\n",
    "df_2 = datapuller(count,subreddit,before)"
   ]
  },
  {
   "cell_type": "markdown",
   "id": "aa453531",
   "metadata": {},
   "source": [
    "## Cleaning Data"
   ]
  },
  {
   "cell_type": "markdown",
   "id": "ac1390fe",
   "metadata": {},
   "source": [
    "#### Cleaning of dataset"
   ]
  },
  {
   "cell_type": "code",
   "execution_count": 10,
   "id": "54d651e8",
   "metadata": {},
   "outputs": [
    {
     "name": "stdout",
     "output_type": "stream",
     "text": [
      "<class 'pandas.core.frame.DataFrame'>\n",
      "RangeIndex: 4990 entries, 0 to 4989\n",
      "Data columns (total 3 columns):\n",
      " #   Column     Non-Null Count  Dtype \n",
      "---  ------     --------------  ----- \n",
      " 0   subreddit  4990 non-null   object\n",
      " 1   title      4990 non-null   object\n",
      " 2   selftext   4990 non-null   object\n",
      "dtypes: object(3)\n",
      "memory usage: 117.1+ KB\n"
     ]
    },
    {
     "data": {
      "text/plain": [
       "None"
      ]
     },
     "metadata": {},
     "output_type": "display_data"
    },
    {
     "name": "stdout",
     "output_type": "stream",
     "text": [
      "<class 'pandas.core.frame.DataFrame'>\n",
      "RangeIndex: 4992 entries, 0 to 4991\n",
      "Data columns (total 3 columns):\n",
      " #   Column     Non-Null Count  Dtype \n",
      "---  ------     --------------  ----- \n",
      " 0   subreddit  4992 non-null   object\n",
      " 1   title      4992 non-null   object\n",
      " 2   selftext   4986 non-null   object\n",
      "dtypes: object(3)\n",
      "memory usage: 117.1+ KB\n"
     ]
    }
   ],
   "source": [
    "# keeping only title,selftext,subreddit columns\n",
    "df_topic_1 = df_1.loc[:,[\"subreddit\",\"title\",\"selftext\"]]\n",
    "display(df_topic_1.info())\n",
    "\n",
    "df_topic_2 = df_2.loc[:,[\"subreddit\",\"title\",\"selftext\"]]\n",
    "df_topic_2.info()"
   ]
  },
  {
   "cell_type": "code",
   "execution_count": 11,
   "id": "8256dc8f",
   "metadata": {},
   "outputs": [
    {
     "name": "stdout",
     "output_type": "stream",
     "text": [
      "<class 'pandas.core.frame.DataFrame'>\n",
      "RangeIndex: 4990 entries, 0 to 4989\n",
      "Data columns (total 3 columns):\n",
      " #   Column     Non-Null Count  Dtype \n",
      "---  ------     --------------  ----- \n",
      " 0   subreddit  4990 non-null   object\n",
      " 1   title      4990 non-null   object\n",
      " 2   selftext   4990 non-null   object\n",
      "dtypes: object(3)\n",
      "memory usage: 117.1+ KB\n"
     ]
    }
   ],
   "source": [
    "# replace selftext rows with [removed] comments with \"\"\n",
    "for i in range(len(df_topic_1)):\n",
    "    if df_topic_1.loc[i,\"selftext\"] == \"[removed]\":\n",
    "        df_topic_1.loc[i,\"selftext\"] = ''\n",
    "    else:\n",
    "        continue\n",
    "\n",
    "df_topic_1.info()"
   ]
  },
  {
   "cell_type": "code",
   "execution_count": 12,
   "id": "48f5bf7d",
   "metadata": {},
   "outputs": [
    {
     "name": "stdout",
     "output_type": "stream",
     "text": [
      "<class 'pandas.core.frame.DataFrame'>\n",
      "RangeIndex: 4990 entries, 0 to 4989\n",
      "Data columns (total 2 columns):\n",
      " #   Column     Non-Null Count  Dtype \n",
      "---  ------     --------------  ----- \n",
      " 0   subreddit  4990 non-null   object\n",
      " 1   text       4990 non-null   object\n",
      "dtypes: object(2)\n",
      "memory usage: 78.1+ KB\n"
     ]
    }
   ],
   "source": [
    "#concatenate title and selftext columns:\n",
    "df_topic_1[\"text\"] = df_topic_1[\"title\"] + \" \" + df_topic_1[\"selftext\"]\n",
    "\n",
    "#drop title and selftext columns:\n",
    "df_topic_1.drop([\"title\",\"selftext\"],axis = 1, inplace = True)\n",
    "df_topic_1.info()"
   ]
  },
  {
   "cell_type": "code",
   "execution_count": 13,
   "id": "598367a7",
   "metadata": {
    "scrolled": true
   },
   "outputs": [
    {
     "name": "stdout",
     "output_type": "stream",
     "text": [
      "<class 'pandas.core.frame.DataFrame'>\n",
      "RangeIndex: 4992 entries, 0 to 4991\n",
      "Data columns (total 3 columns):\n",
      " #   Column     Non-Null Count  Dtype \n",
      "---  ------     --------------  ----- \n",
      " 0   subreddit  4992 non-null   object\n",
      " 1   title      4992 non-null   object\n",
      " 2   selftext   4992 non-null   object\n",
      "dtypes: object(3)\n",
      "memory usage: 117.1+ KB\n"
     ]
    }
   ],
   "source": [
    "# replace null values with \"\"\n",
    "df_topic_2[\"selftext\"].fillna(\"[removed]\", inplace= True)\n",
    "\n",
    "# replace selftext rows with [removed] comments with \"\"\n",
    "for i in range(len(df_topic_2)):\n",
    "    if df_topic_2.loc[i,\"selftext\"] == \"[removed]\":\n",
    "        df_topic_2.loc[i,\"selftext\"] = ''\n",
    "    else:\n",
    "        continue\n",
    "\n",
    "df_topic_2.info()"
   ]
  },
  {
   "cell_type": "code",
   "execution_count": 14,
   "id": "64dd85de",
   "metadata": {},
   "outputs": [
    {
     "name": "stdout",
     "output_type": "stream",
     "text": [
      "<class 'pandas.core.frame.DataFrame'>\n",
      "RangeIndex: 4992 entries, 0 to 4991\n",
      "Data columns (total 2 columns):\n",
      " #   Column     Non-Null Count  Dtype \n",
      "---  ------     --------------  ----- \n",
      " 0   subreddit  4992 non-null   object\n",
      " 1   text       4992 non-null   object\n",
      "dtypes: object(2)\n",
      "memory usage: 78.1+ KB\n"
     ]
    }
   ],
   "source": [
    "#concatenate title and selftext columns:\n",
    "df_topic_2[\"text\"] = df_topic_2[\"title\"] + \" \" + df_topic_2[\"selftext\"]\n",
    "\n",
    "#drop title and selftext columns:\n",
    "df_topic_2.drop([\"title\",\"selftext\"],axis = 1, inplace = True)\n",
    "df_topic_2.info()"
   ]
  },
  {
   "cell_type": "code",
   "execution_count": 15,
   "id": "3d0b71c5",
   "metadata": {},
   "outputs": [
    {
     "name": "stdout",
     "output_type": "stream",
     "text": [
      "<class 'pandas.core.frame.DataFrame'>\n",
      "RangeIndex: 9982 entries, 0 to 9981\n",
      "Data columns (total 2 columns):\n",
      " #   Column     Non-Null Count  Dtype \n",
      "---  ------     --------------  ----- \n",
      " 0   subreddit  9982 non-null   object\n",
      " 1   text       9982 non-null   object\n",
      "dtypes: object(2)\n",
      "memory usage: 156.1+ KB\n"
     ]
    }
   ],
   "source": [
    "# merging both datasets\n",
    "data = df_topic_1.append(df_topic_2)\n",
    "data.reset_index(drop=True,inplace = True)\n",
    "\n",
    "data.info()"
   ]
  },
  {
   "cell_type": "markdown",
   "id": "61790f14",
   "metadata": {},
   "source": [
    "#### Converting outputs to binary labels"
   ]
  },
  {
   "cell_type": "code",
   "execution_count": 16,
   "id": "12ef16b7",
   "metadata": {},
   "outputs": [
    {
     "data": {
      "text/html": [
       "<div>\n",
       "<style scoped>\n",
       "    .dataframe tbody tr th:only-of-type {\n",
       "        vertical-align: middle;\n",
       "    }\n",
       "\n",
       "    .dataframe tbody tr th {\n",
       "        vertical-align: top;\n",
       "    }\n",
       "\n",
       "    .dataframe thead th {\n",
       "        text-align: right;\n",
       "    }\n",
       "</style>\n",
       "<table border=\"1\" class=\"dataframe\">\n",
       "  <thead>\n",
       "    <tr style=\"text-align: right;\">\n",
       "      <th></th>\n",
       "      <th>subreddit</th>\n",
       "      <th>text</th>\n",
       "    </tr>\n",
       "  </thead>\n",
       "  <tbody>\n",
       "    <tr>\n",
       "      <th>0</th>\n",
       "      <td>1</td>\n",
       "      <td>How can I become a coder? I hear you cool guys...</td>\n",
       "    </tr>\n",
       "    <tr>\n",
       "      <th>1</th>\n",
       "      <td>1</td>\n",
       "      <td>Question How cand I find someone's real adress...</td>\n",
       "    </tr>\n",
       "    <tr>\n",
       "      <th>2</th>\n",
       "      <td>1</td>\n",
       "      <td>Coding made Easyyy!!! Hello, This is your prou...</td>\n",
       "    </tr>\n",
       "    <tr>\n",
       "      <th>3</th>\n",
       "      <td>1</td>\n",
       "      <td>Can you recommend a list of coding bootcamps? ...</td>\n",
       "    </tr>\n",
       "    <tr>\n",
       "      <th>4</th>\n",
       "      <td>1</td>\n",
       "      <td>Anyone from Toronto have advice on bootcamp ch...</td>\n",
       "    </tr>\n",
       "    <tr>\n",
       "      <th>...</th>\n",
       "      <td>...</td>\n",
       "      <td>...</td>\n",
       "    </tr>\n",
       "    <tr>\n",
       "      <th>9977</th>\n",
       "      <td>0</td>\n",
       "      <td>How to prepare for onsite interview? I have a ...</td>\n",
       "    </tr>\n",
       "    <tr>\n",
       "      <th>9978</th>\n",
       "      <td>0</td>\n",
       "      <td>I don't have discrete maths? So I am currently...</td>\n",
       "    </tr>\n",
       "    <tr>\n",
       "      <th>9979</th>\n",
       "      <td>0</td>\n",
       "      <td>What Companies are hiring for new grads right ...</td>\n",
       "    </tr>\n",
       "    <tr>\n",
       "      <th>9980</th>\n",
       "      <td>0</td>\n",
       "      <td>Is USA (University of south Alabama) a bad cho...</td>\n",
       "    </tr>\n",
       "    <tr>\n",
       "      <th>9981</th>\n",
       "      <td>0</td>\n",
       "      <td>Calc is hard Any sites where I can find practi...</td>\n",
       "    </tr>\n",
       "  </tbody>\n",
       "</table>\n",
       "<p>9982 rows × 2 columns</p>\n",
       "</div>"
      ],
      "text/plain": [
       "      subreddit                                               text\n",
       "0             1  How can I become a coder? I hear you cool guys...\n",
       "1             1  Question How cand I find someone's real adress...\n",
       "2             1  Coding made Easyyy!!! Hello, This is your prou...\n",
       "3             1  Can you recommend a list of coding bootcamps? ...\n",
       "4             1  Anyone from Toronto have advice on bootcamp ch...\n",
       "...         ...                                                ...\n",
       "9977          0  How to prepare for onsite interview? I have a ...\n",
       "9978          0  I don't have discrete maths? So I am currently...\n",
       "9979          0  What Companies are hiring for new grads right ...\n",
       "9980          0  Is USA (University of south Alabama) a bad cho...\n",
       "9981          0  Calc is hard Any sites where I can find practi...\n",
       "\n",
       "[9982 rows x 2 columns]"
      ]
     },
     "execution_count": 16,
     "metadata": {},
     "output_type": "execute_result"
    }
   ],
   "source": [
    "data['subreddit'] = data['subreddit'].map({'codingbootcamp': 1, 'csMajors': 0})\n",
    "data"
   ]
  },
  {
   "cell_type": "code",
   "execution_count": 17,
   "id": "3037a25d",
   "metadata": {},
   "outputs": [],
   "source": [
    "# Export dataset\n",
    "data.to_csv('../project_3/datasets/data_2.csv', index=False)"
   ]
  },
  {
   "cell_type": "code",
   "execution_count": 18,
   "id": "7b9b33b4",
   "metadata": {},
   "outputs": [],
   "source": [
    "#dataset for model training\n",
    "data = pd.read_csv('../project_3/datasets/data_2.csv')"
   ]
  },
  {
   "cell_type": "markdown",
   "id": "6e572c3c",
   "metadata": {},
   "source": [
    "### Data Dictionary:\n",
    "\n",
    "**Dataset name: data_2**\n",
    "\n",
    "|Feature|Type|Dataset|Description|\n",
    "|:---|:---|:---|:---|\n",
    "|**subreddit**|*integer*|data|Subreddit categories. 0 refers to csMajors, 1 refers to codingbootcamp| \n",
    "|**text**|*string*|data|Posts extracted from csMajor and codingbootcamp subreddit|"
   ]
  },
  {
   "cell_type": "markdown",
   "id": "2768241c",
   "metadata": {},
   "source": [
    "## Pre-processing text data"
   ]
  },
  {
   "cell_type": "markdown",
   "id": "0b12bacd",
   "metadata": {},
   "source": [
    "### 1. Remove punctuations"
   ]
  },
  {
   "cell_type": "code",
   "execution_count": 19,
   "id": "feb2f7f2",
   "metadata": {},
   "outputs": [
    {
     "data": {
      "text/plain": [
       "'!\"#$%&\\'()*+,-./:;<=>?@[\\\\]^_`{|}~'"
      ]
     },
     "execution_count": 19,
     "metadata": {},
     "output_type": "execute_result"
    }
   ],
   "source": [
    "# string.punctuation comprises of a list of all punctuations\n",
    "string.punctuation"
   ]
  },
  {
   "cell_type": "code",
   "execution_count": 20,
   "id": "5e56fd77",
   "metadata": {},
   "outputs": [
    {
     "data": {
      "text/html": [
       "<div>\n",
       "<style scoped>\n",
       "    .dataframe tbody tr th:only-of-type {\n",
       "        vertical-align: middle;\n",
       "    }\n",
       "\n",
       "    .dataframe tbody tr th {\n",
       "        vertical-align: top;\n",
       "    }\n",
       "\n",
       "    .dataframe thead th {\n",
       "        text-align: right;\n",
       "    }\n",
       "</style>\n",
       "<table border=\"1\" class=\"dataframe\">\n",
       "  <thead>\n",
       "    <tr style=\"text-align: right;\">\n",
       "      <th></th>\n",
       "      <th>subreddit</th>\n",
       "      <th>text</th>\n",
       "      <th>text_nostop</th>\n",
       "    </tr>\n",
       "  </thead>\n",
       "  <tbody>\n",
       "    <tr>\n",
       "      <th>0</th>\n",
       "      <td>1</td>\n",
       "      <td>How can I become a coder? I hear you cool guys...</td>\n",
       "      <td>How can I become a coder I hear you cool guys ...</td>\n",
       "    </tr>\n",
       "    <tr>\n",
       "      <th>1</th>\n",
       "      <td>1</td>\n",
       "      <td>Question How cand I find someone's real adress...</td>\n",
       "      <td>Question How cand I find someones real adress ...</td>\n",
       "    </tr>\n",
       "    <tr>\n",
       "      <th>2</th>\n",
       "      <td>1</td>\n",
       "      <td>Coding made Easyyy!!! Hello, This is your prou...</td>\n",
       "      <td>Coding made Easyyy Hello This is your proud te...</td>\n",
       "    </tr>\n",
       "    <tr>\n",
       "      <th>3</th>\n",
       "      <td>1</td>\n",
       "      <td>Can you recommend a list of coding bootcamps? ...</td>\n",
       "      <td>Can you recommend a list of coding bootcamps I...</td>\n",
       "    </tr>\n",
       "    <tr>\n",
       "      <th>4</th>\n",
       "      <td>1</td>\n",
       "      <td>Anyone from Toronto have advice on bootcamp ch...</td>\n",
       "      <td>Anyone from Toronto have advice on bootcamp ch...</td>\n",
       "    </tr>\n",
       "  </tbody>\n",
       "</table>\n",
       "</div>"
      ],
      "text/plain": [
       "   subreddit                                               text  \\\n",
       "0          1  How can I become a coder? I hear you cool guys...   \n",
       "1          1  Question How cand I find someone's real adress...   \n",
       "2          1  Coding made Easyyy!!! Hello, This is your prou...   \n",
       "3          1  Can you recommend a list of coding bootcamps? ...   \n",
       "4          1  Anyone from Toronto have advice on bootcamp ch...   \n",
       "\n",
       "                                         text_nostop  \n",
       "0  How can I become a coder I hear you cool guys ...  \n",
       "1  Question How cand I find someones real adress ...  \n",
       "2  Coding made Easyyy Hello This is your proud te...  \n",
       "3  Can you recommend a list of coding bootcamps I...  \n",
       "4  Anyone from Toronto have advice on bootcamp ch...  "
      ]
     },
     "execution_count": 20,
     "metadata": {},
     "output_type": "execute_result"
    }
   ],
   "source": [
    "def remove_punct(text):\n",
    "    # store character only if it is not a punctuation\n",
    "    text_nopunct = \"\".join([char for char in text if char not in string.punctuation])\n",
    "    return text_nopunct\n",
    "\n",
    "data['text_nostop'] = data['text'].apply(lambda x: remove_punct(x))\n",
    "\n",
    "data.head()"
   ]
  },
  {
   "cell_type": "markdown",
   "id": "331009a4",
   "metadata": {},
   "source": [
    "### 2. Tokenization"
   ]
  },
  {
   "cell_type": "code",
   "execution_count": 21,
   "id": "319378ec",
   "metadata": {},
   "outputs": [
    {
     "data": {
      "text/html": [
       "<div>\n",
       "<style scoped>\n",
       "    .dataframe tbody tr th:only-of-type {\n",
       "        vertical-align: middle;\n",
       "    }\n",
       "\n",
       "    .dataframe tbody tr th {\n",
       "        vertical-align: top;\n",
       "    }\n",
       "\n",
       "    .dataframe thead th {\n",
       "        text-align: right;\n",
       "    }\n",
       "</style>\n",
       "<table border=\"1\" class=\"dataframe\">\n",
       "  <thead>\n",
       "    <tr style=\"text-align: right;\">\n",
       "      <th></th>\n",
       "      <th>subreddit</th>\n",
       "      <th>text</th>\n",
       "      <th>text_nostop</th>\n",
       "      <th>text_tokenized</th>\n",
       "    </tr>\n",
       "  </thead>\n",
       "  <tbody>\n",
       "    <tr>\n",
       "      <th>0</th>\n",
       "      <td>1</td>\n",
       "      <td>How can I become a coder? I hear you cool guys...</td>\n",
       "      <td>How can I become a coder I hear you cool guys ...</td>\n",
       "      <td>[how, can, i, become, a, coder, i, hear, you, ...</td>\n",
       "    </tr>\n",
       "    <tr>\n",
       "      <th>1</th>\n",
       "      <td>1</td>\n",
       "      <td>Question How cand I find someone's real adress...</td>\n",
       "      <td>Question How cand I find someones real adress ...</td>\n",
       "      <td>[question, how, cand, i, find, someones, real,...</td>\n",
       "    </tr>\n",
       "    <tr>\n",
       "      <th>2</th>\n",
       "      <td>1</td>\n",
       "      <td>Coding made Easyyy!!! Hello, This is your prou...</td>\n",
       "      <td>Coding made Easyyy Hello This is your proud te...</td>\n",
       "      <td>[coding, made, easyyy, hello, this, is, your, ...</td>\n",
       "    </tr>\n",
       "    <tr>\n",
       "      <th>3</th>\n",
       "      <td>1</td>\n",
       "      <td>Can you recommend a list of coding bootcamps? ...</td>\n",
       "      <td>Can you recommend a list of coding bootcamps I...</td>\n",
       "      <td>[can, you, recommend, a, list, of, coding, boo...</td>\n",
       "    </tr>\n",
       "    <tr>\n",
       "      <th>4</th>\n",
       "      <td>1</td>\n",
       "      <td>Anyone from Toronto have advice on bootcamp ch...</td>\n",
       "      <td>Anyone from Toronto have advice on bootcamp ch...</td>\n",
       "      <td>[anyone, from, toronto, have, advice, on, boot...</td>\n",
       "    </tr>\n",
       "  </tbody>\n",
       "</table>\n",
       "</div>"
      ],
      "text/plain": [
       "   subreddit                                               text  \\\n",
       "0          1  How can I become a coder? I hear you cool guys...   \n",
       "1          1  Question How cand I find someone's real adress...   \n",
       "2          1  Coding made Easyyy!!! Hello, This is your prou...   \n",
       "3          1  Can you recommend a list of coding bootcamps? ...   \n",
       "4          1  Anyone from Toronto have advice on bootcamp ch...   \n",
       "\n",
       "                                         text_nostop  \\\n",
       "0  How can I become a coder I hear you cool guys ...   \n",
       "1  Question How cand I find someones real adress ...   \n",
       "2  Coding made Easyyy Hello This is your proud te...   \n",
       "3  Can you recommend a list of coding bootcamps I...   \n",
       "4  Anyone from Toronto have advice on bootcamp ch...   \n",
       "\n",
       "                                      text_tokenized  \n",
       "0  [how, can, i, become, a, coder, i, hear, you, ...  \n",
       "1  [question, how, cand, i, find, someones, real,...  \n",
       "2  [coding, made, easyyy, hello, this, is, your, ...  \n",
       "3  [can, you, recommend, a, list, of, coding, boo...  \n",
       "4  [anyone, from, toronto, have, advice, on, boot...  "
      ]
     },
     "execution_count": 21,
     "metadata": {},
     "output_type": "execute_result"
    }
   ],
   "source": [
    "def tokenize(text):\n",
    "    # Matches any character that is neither alphanumeric nor underscore\n",
    "    # Add a + just in case there are 2 or more spaces between certain words\n",
    "    tokens = re.split('\\W+', text) #split by spaces\n",
    "    return tokens\n",
    "\n",
    "data['text_tokenized'] = data['text_nostop'].apply(lambda x: tokenize(x.lower()))\n",
    "\n",
    "data.head()"
   ]
  },
  {
   "cell_type": "markdown",
   "id": "9a44e25c",
   "metadata": {},
   "source": [
    "### 3. Remove stopwords"
   ]
  },
  {
   "cell_type": "code",
   "execution_count": 22,
   "id": "e986834a",
   "metadata": {},
   "outputs": [],
   "source": [
    "# NLTK(Natural Language Toolkit).\n",
    "stopword = nltk.corpus.stopwords.words('english')"
   ]
  },
  {
   "cell_type": "code",
   "execution_count": 23,
   "id": "71eb2e42",
   "metadata": {
    "scrolled": false
   },
   "outputs": [
    {
     "data": {
      "text/html": [
       "<div>\n",
       "<style scoped>\n",
       "    .dataframe tbody tr th:only-of-type {\n",
       "        vertical-align: middle;\n",
       "    }\n",
       "\n",
       "    .dataframe tbody tr th {\n",
       "        vertical-align: top;\n",
       "    }\n",
       "\n",
       "    .dataframe thead th {\n",
       "        text-align: right;\n",
       "    }\n",
       "</style>\n",
       "<table border=\"1\" class=\"dataframe\">\n",
       "  <thead>\n",
       "    <tr style=\"text-align: right;\">\n",
       "      <th></th>\n",
       "      <th>subreddit</th>\n",
       "      <th>text</th>\n",
       "      <th>text_nostop</th>\n",
       "      <th>text_tokenized</th>\n",
       "      <th>text_removestop</th>\n",
       "    </tr>\n",
       "  </thead>\n",
       "  <tbody>\n",
       "    <tr>\n",
       "      <th>0</th>\n",
       "      <td>1</td>\n",
       "      <td>How can I become a coder? I hear you cool guys...</td>\n",
       "      <td>How can I become a coder I hear you cool guys ...</td>\n",
       "      <td>[how, can, i, become, a, coder, i, hear, you, ...</td>\n",
       "      <td>[become, coder, hear, cool, guys, get, fat, st...</td>\n",
       "    </tr>\n",
       "    <tr>\n",
       "      <th>1</th>\n",
       "      <td>1</td>\n",
       "      <td>Question How cand I find someone's real adress...</td>\n",
       "      <td>Question How cand I find someones real adress ...</td>\n",
       "      <td>[question, how, cand, i, find, someones, real,...</td>\n",
       "      <td>[question, cand, find, someones, real, adress,...</td>\n",
       "    </tr>\n",
       "    <tr>\n",
       "      <th>2</th>\n",
       "      <td>1</td>\n",
       "      <td>Coding made Easyyy!!! Hello, This is your prou...</td>\n",
       "      <td>Coding made Easyyy Hello This is your proud te...</td>\n",
       "      <td>[coding, made, easyyy, hello, this, is, your, ...</td>\n",
       "      <td>[coding, made, easyyy, hello, proud, teacher, ...</td>\n",
       "    </tr>\n",
       "    <tr>\n",
       "      <th>3</th>\n",
       "      <td>1</td>\n",
       "      <td>Can you recommend a list of coding bootcamps? ...</td>\n",
       "      <td>Can you recommend a list of coding bootcamps I...</td>\n",
       "      <td>[can, you, recommend, a, list, of, coding, boo...</td>\n",
       "      <td>[recommend, list, coding, bootcamps, ideally, ...</td>\n",
       "    </tr>\n",
       "    <tr>\n",
       "      <th>4</th>\n",
       "      <td>1</td>\n",
       "      <td>Anyone from Toronto have advice on bootcamp ch...</td>\n",
       "      <td>Anyone from Toronto have advice on bootcamp ch...</td>\n",
       "      <td>[anyone, from, toronto, have, advice, on, boot...</td>\n",
       "      <td>[anyone, toronto, advice, bootcamp, choice, he...</td>\n",
       "    </tr>\n",
       "  </tbody>\n",
       "</table>\n",
       "</div>"
      ],
      "text/plain": [
       "   subreddit                                               text  \\\n",
       "0          1  How can I become a coder? I hear you cool guys...   \n",
       "1          1  Question How cand I find someone's real adress...   \n",
       "2          1  Coding made Easyyy!!! Hello, This is your prou...   \n",
       "3          1  Can you recommend a list of coding bootcamps? ...   \n",
       "4          1  Anyone from Toronto have advice on bootcamp ch...   \n",
       "\n",
       "                                         text_nostop  \\\n",
       "0  How can I become a coder I hear you cool guys ...   \n",
       "1  Question How cand I find someones real adress ...   \n",
       "2  Coding made Easyyy Hello This is your proud te...   \n",
       "3  Can you recommend a list of coding bootcamps I...   \n",
       "4  Anyone from Toronto have advice on bootcamp ch...   \n",
       "\n",
       "                                      text_tokenized  \\\n",
       "0  [how, can, i, become, a, coder, i, hear, you, ...   \n",
       "1  [question, how, cand, i, find, someones, real,...   \n",
       "2  [coding, made, easyyy, hello, this, is, your, ...   \n",
       "3  [can, you, recommend, a, list, of, coding, boo...   \n",
       "4  [anyone, from, toronto, have, advice, on, boot...   \n",
       "\n",
       "                                     text_removestop  \n",
       "0  [become, coder, hear, cool, guys, get, fat, st...  \n",
       "1  [question, cand, find, someones, real, adress,...  \n",
       "2  [coding, made, easyyy, hello, proud, teacher, ...  \n",
       "3  [recommend, list, coding, bootcamps, ideally, ...  \n",
       "4  [anyone, toronto, advice, bootcamp, choice, he...  "
      ]
     },
     "execution_count": 23,
     "metadata": {},
     "output_type": "execute_result"
    }
   ],
   "source": [
    "def remove_stopwords(tokenized_list):\n",
    "    # Store in text only if word is not found in stopword i.e. it is not a stopword\n",
    "    text = [word for word in tokenized_list if word not in stopword]\n",
    "    return text\n",
    "\n",
    "data['text_removestop'] = data['text_tokenized'].apply(lambda x: remove_stopwords(x))\n",
    "\n",
    "data.head()"
   ]
  },
  {
   "cell_type": "markdown",
   "id": "67250aa0",
   "metadata": {},
   "source": [
    "### 4. Stemming/Lemmatizing"
   ]
  },
  {
   "cell_type": "markdown",
   "id": "122f66e0",
   "metadata": {},
   "source": [
    "#### Stemming"
   ]
  },
  {
   "cell_type": "code",
   "execution_count": 24,
   "id": "c901911c",
   "metadata": {},
   "outputs": [],
   "source": [
    "ps = nltk.PorterStemmer()"
   ]
  },
  {
   "cell_type": "code",
   "execution_count": 25,
   "id": "09dc8b93",
   "metadata": {},
   "outputs": [
    {
     "data": {
      "text/html": [
       "<div>\n",
       "<style scoped>\n",
       "    .dataframe tbody tr th:only-of-type {\n",
       "        vertical-align: middle;\n",
       "    }\n",
       "\n",
       "    .dataframe tbody tr th {\n",
       "        vertical-align: top;\n",
       "    }\n",
       "\n",
       "    .dataframe thead th {\n",
       "        text-align: right;\n",
       "    }\n",
       "</style>\n",
       "<table border=\"1\" class=\"dataframe\">\n",
       "  <thead>\n",
       "    <tr style=\"text-align: right;\">\n",
       "      <th></th>\n",
       "      <th>subreddit</th>\n",
       "      <th>text</th>\n",
       "      <th>text_nostop</th>\n",
       "      <th>text_tokenized</th>\n",
       "      <th>text_removestop</th>\n",
       "      <th>text_stemmed</th>\n",
       "    </tr>\n",
       "  </thead>\n",
       "  <tbody>\n",
       "    <tr>\n",
       "      <th>0</th>\n",
       "      <td>1</td>\n",
       "      <td>How can I become a coder? I hear you cool guys...</td>\n",
       "      <td>How can I become a coder I hear you cool guys ...</td>\n",
       "      <td>[how, can, i, become, a, coder, i, hear, you, ...</td>\n",
       "      <td>[become, coder, hear, cool, guys, get, fat, st...</td>\n",
       "      <td>[becom, coder, hear, cool, guy, get, fat, stac...</td>\n",
       "    </tr>\n",
       "    <tr>\n",
       "      <th>1</th>\n",
       "      <td>1</td>\n",
       "      <td>Question How cand I find someone's real adress...</td>\n",
       "      <td>Question How cand I find someones real adress ...</td>\n",
       "      <td>[question, how, cand, i, find, someones, real,...</td>\n",
       "      <td>[question, cand, find, someones, real, adress,...</td>\n",
       "      <td>[question, cand, find, someon, real, adress, ip]</td>\n",
       "    </tr>\n",
       "    <tr>\n",
       "      <th>2</th>\n",
       "      <td>1</td>\n",
       "      <td>Coding made Easyyy!!! Hello, This is your prou...</td>\n",
       "      <td>Coding made Easyyy Hello This is your proud te...</td>\n",
       "      <td>[coding, made, easyyy, hello, this, is, your, ...</td>\n",
       "      <td>[coding, made, easyyy, hello, proud, teacher, ...</td>\n",
       "      <td>[code, made, easyyi, hello, proud, teacher, am...</td>\n",
       "    </tr>\n",
       "    <tr>\n",
       "      <th>3</th>\n",
       "      <td>1</td>\n",
       "      <td>Can you recommend a list of coding bootcamps? ...</td>\n",
       "      <td>Can you recommend a list of coding bootcamps I...</td>\n",
       "      <td>[can, you, recommend, a, list, of, coding, boo...</td>\n",
       "      <td>[recommend, list, coding, bootcamps, ideally, ...</td>\n",
       "      <td>[recommend, list, code, bootcamp, ideal, free,...</td>\n",
       "    </tr>\n",
       "    <tr>\n",
       "      <th>4</th>\n",
       "      <td>1</td>\n",
       "      <td>Anyone from Toronto have advice on bootcamp ch...</td>\n",
       "      <td>Anyone from Toronto have advice on bootcamp ch...</td>\n",
       "      <td>[anyone, from, toronto, have, advice, on, boot...</td>\n",
       "      <td>[anyone, toronto, advice, bootcamp, choice, he...</td>\n",
       "      <td>[anyon, toronto, advic, bootcamp, choic, hello...</td>\n",
       "    </tr>\n",
       "  </tbody>\n",
       "</table>\n",
       "</div>"
      ],
      "text/plain": [
       "   subreddit                                               text  \\\n",
       "0          1  How can I become a coder? I hear you cool guys...   \n",
       "1          1  Question How cand I find someone's real adress...   \n",
       "2          1  Coding made Easyyy!!! Hello, This is your prou...   \n",
       "3          1  Can you recommend a list of coding bootcamps? ...   \n",
       "4          1  Anyone from Toronto have advice on bootcamp ch...   \n",
       "\n",
       "                                         text_nostop  \\\n",
       "0  How can I become a coder I hear you cool guys ...   \n",
       "1  Question How cand I find someones real adress ...   \n",
       "2  Coding made Easyyy Hello This is your proud te...   \n",
       "3  Can you recommend a list of coding bootcamps I...   \n",
       "4  Anyone from Toronto have advice on bootcamp ch...   \n",
       "\n",
       "                                      text_tokenized  \\\n",
       "0  [how, can, i, become, a, coder, i, hear, you, ...   \n",
       "1  [question, how, cand, i, find, someones, real,...   \n",
       "2  [coding, made, easyyy, hello, this, is, your, ...   \n",
       "3  [can, you, recommend, a, list, of, coding, boo...   \n",
       "4  [anyone, from, toronto, have, advice, on, boot...   \n",
       "\n",
       "                                     text_removestop  \\\n",
       "0  [become, coder, hear, cool, guys, get, fat, st...   \n",
       "1  [question, cand, find, someones, real, adress,...   \n",
       "2  [coding, made, easyyy, hello, proud, teacher, ...   \n",
       "3  [recommend, list, coding, bootcamps, ideally, ...   \n",
       "4  [anyone, toronto, advice, bootcamp, choice, he...   \n",
       "\n",
       "                                        text_stemmed  \n",
       "0  [becom, coder, hear, cool, guy, get, fat, stac...  \n",
       "1   [question, cand, find, someon, real, adress, ip]  \n",
       "2  [code, made, easyyi, hello, proud, teacher, am...  \n",
       "3  [recommend, list, code, bootcamp, ideal, free,...  \n",
       "4  [anyon, toronto, advic, bootcamp, choic, hello...  "
      ]
     },
     "execution_count": 25,
     "metadata": {},
     "output_type": "execute_result"
    }
   ],
   "source": [
    "def stemming(tokenized_text):\n",
    "    # return list of all stemmed words for their corresponding words in tokenized_text\n",
    "    text = [ps.stem(word) for word in tokenized_text]\n",
    "    return text\n",
    "\n",
    "data['text_stemmed'] = data['text_removestop'].apply(lambda x: stemming(x))\n",
    "\n",
    "data.head()"
   ]
  },
  {
   "cell_type": "markdown",
   "id": "69558a94",
   "metadata": {},
   "source": [
    "#### Lemmatizing"
   ]
  },
  {
   "cell_type": "code",
   "execution_count": 26,
   "id": "b96ea24c",
   "metadata": {},
   "outputs": [],
   "source": [
    "wn = nltk.WordNetLemmatizer()"
   ]
  },
  {
   "cell_type": "code",
   "execution_count": 27,
   "id": "b91ac6c8",
   "metadata": {},
   "outputs": [
    {
     "data": {
      "text/html": [
       "<div>\n",
       "<style scoped>\n",
       "    .dataframe tbody tr th:only-of-type {\n",
       "        vertical-align: middle;\n",
       "    }\n",
       "\n",
       "    .dataframe tbody tr th {\n",
       "        vertical-align: top;\n",
       "    }\n",
       "\n",
       "    .dataframe thead th {\n",
       "        text-align: right;\n",
       "    }\n",
       "</style>\n",
       "<table border=\"1\" class=\"dataframe\">\n",
       "  <thead>\n",
       "    <tr style=\"text-align: right;\">\n",
       "      <th></th>\n",
       "      <th>subreddit</th>\n",
       "      <th>text</th>\n",
       "      <th>text_nostop</th>\n",
       "      <th>text_tokenized</th>\n",
       "      <th>text_removestop</th>\n",
       "      <th>text_stemmed</th>\n",
       "      <th>text_lemmatized</th>\n",
       "    </tr>\n",
       "  </thead>\n",
       "  <tbody>\n",
       "    <tr>\n",
       "      <th>0</th>\n",
       "      <td>1</td>\n",
       "      <td>How can I become a coder? I hear you cool guys...</td>\n",
       "      <td>How can I become a coder I hear you cool guys ...</td>\n",
       "      <td>[how, can, i, become, a, coder, i, hear, you, ...</td>\n",
       "      <td>[become, coder, hear, cool, guys, get, fat, st...</td>\n",
       "      <td>[becom, coder, hear, cool, guy, get, fat, stac...</td>\n",
       "      <td>[become, coder, hear, cool, guy, get, fat, sta...</td>\n",
       "    </tr>\n",
       "    <tr>\n",
       "      <th>1</th>\n",
       "      <td>1</td>\n",
       "      <td>Question How cand I find someone's real adress...</td>\n",
       "      <td>Question How cand I find someones real adress ...</td>\n",
       "      <td>[question, how, cand, i, find, someones, real,...</td>\n",
       "      <td>[question, cand, find, someones, real, adress,...</td>\n",
       "      <td>[question, cand, find, someon, real, adress, ip]</td>\n",
       "      <td>[question, cand, find, someone, real, adress, ip]</td>\n",
       "    </tr>\n",
       "    <tr>\n",
       "      <th>2</th>\n",
       "      <td>1</td>\n",
       "      <td>Coding made Easyyy!!! Hello, This is your prou...</td>\n",
       "      <td>Coding made Easyyy Hello This is your proud te...</td>\n",
       "      <td>[coding, made, easyyy, hello, this, is, your, ...</td>\n",
       "      <td>[coding, made, easyyy, hello, proud, teacher, ...</td>\n",
       "      <td>[code, made, easyyi, hello, proud, teacher, am...</td>\n",
       "      <td>[coding, made, easyyy, hello, proud, teacher, ...</td>\n",
       "    </tr>\n",
       "    <tr>\n",
       "      <th>3</th>\n",
       "      <td>1</td>\n",
       "      <td>Can you recommend a list of coding bootcamps? ...</td>\n",
       "      <td>Can you recommend a list of coding bootcamps I...</td>\n",
       "      <td>[can, you, recommend, a, list, of, coding, boo...</td>\n",
       "      <td>[recommend, list, coding, bootcamps, ideally, ...</td>\n",
       "      <td>[recommend, list, code, bootcamp, ideal, free,...</td>\n",
       "      <td>[recommend, list, coding, bootcamps, ideally, ...</td>\n",
       "    </tr>\n",
       "    <tr>\n",
       "      <th>4</th>\n",
       "      <td>1</td>\n",
       "      <td>Anyone from Toronto have advice on bootcamp ch...</td>\n",
       "      <td>Anyone from Toronto have advice on bootcamp ch...</td>\n",
       "      <td>[anyone, from, toronto, have, advice, on, boot...</td>\n",
       "      <td>[anyone, toronto, advice, bootcamp, choice, he...</td>\n",
       "      <td>[anyon, toronto, advic, bootcamp, choic, hello...</td>\n",
       "      <td>[anyone, toronto, advice, bootcamp, choice, he...</td>\n",
       "    </tr>\n",
       "    <tr>\n",
       "      <th>5</th>\n",
       "      <td>1</td>\n",
       "      <td>IronHack vs Le Wagon Helloo!! I‘m looking for ...</td>\n",
       "      <td>IronHack vs Le Wagon Helloo I‘m looking for bo...</td>\n",
       "      <td>[ironhack, vs, le, wagon, helloo, i, m, lookin...</td>\n",
       "      <td>[ironhack, vs, le, wagon, helloo, looking, boo...</td>\n",
       "      <td>[ironhack, vs, le, wagon, helloo, look, bootca...</td>\n",
       "      <td>[ironhack, v, le, wagon, helloo, looking, boot...</td>\n",
       "    </tr>\n",
       "    <tr>\n",
       "      <th>6</th>\n",
       "      <td>1</td>\n",
       "      <td>Is an associates degree enough? So I’ve been a...</td>\n",
       "      <td>Is an associates degree enough So I’ve been ac...</td>\n",
       "      <td>[is, an, associates, degree, enough, so, i, ve...</td>\n",
       "      <td>[associates, degree, enough, accepted, local, ...</td>\n",
       "      <td>[associ, degre, enough, accept, local, colleg,...</td>\n",
       "      <td>[associate, degree, enough, accepted, local, c...</td>\n",
       "    </tr>\n",
       "    <tr>\n",
       "      <th>7</th>\n",
       "      <td>1</td>\n",
       "      <td>Is freecodingbootcamp.org legit? I mean while ...</td>\n",
       "      <td>Is freecodingbootcamporg legit I mean while it...</td>\n",
       "      <td>[is, freecodingbootcamporg, legit, i, mean, wh...</td>\n",
       "      <td>[freecodingbootcamporg, legit, mean, sound, go...</td>\n",
       "      <td>[freecodingbootcamporg, legit, mean, sound, go...</td>\n",
       "      <td>[freecodingbootcamporg, legit, mean, sound, go...</td>\n",
       "    </tr>\n",
       "    <tr>\n",
       "      <th>8</th>\n",
       "      <td>1</td>\n",
       "      <td>Artist to Coder, What are my options? Hey guys...</td>\n",
       "      <td>Artist to Coder What are my options Hey guys s...</td>\n",
       "      <td>[artist, to, coder, what, are, my, options, he...</td>\n",
       "      <td>[artist, coder, options, hey, guys, holding, o...</td>\n",
       "      <td>[artist, coder, option, hey, guy, hold, onto, ...</td>\n",
       "      <td>[artist, coder, option, hey, guy, holding, ont...</td>\n",
       "    </tr>\n",
       "    <tr>\n",
       "      <th>9</th>\n",
       "      <td>1</td>\n",
       "      <td>Highest Paying Programming Languages</td>\n",
       "      <td>Highest Paying Programming Languages</td>\n",
       "      <td>[highest, paying, programming, languages, ]</td>\n",
       "      <td>[highest, paying, programming, languages, ]</td>\n",
       "      <td>[highest, pay, program, languag, ]</td>\n",
       "      <td>[highest, paying, programming, language, ]</td>\n",
       "    </tr>\n",
       "  </tbody>\n",
       "</table>\n",
       "</div>"
      ],
      "text/plain": [
       "   subreddit                                               text  \\\n",
       "0          1  How can I become a coder? I hear you cool guys...   \n",
       "1          1  Question How cand I find someone's real adress...   \n",
       "2          1  Coding made Easyyy!!! Hello, This is your prou...   \n",
       "3          1  Can you recommend a list of coding bootcamps? ...   \n",
       "4          1  Anyone from Toronto have advice on bootcamp ch...   \n",
       "5          1  IronHack vs Le Wagon Helloo!! I‘m looking for ...   \n",
       "6          1  Is an associates degree enough? So I’ve been a...   \n",
       "7          1  Is freecodingbootcamp.org legit? I mean while ...   \n",
       "8          1  Artist to Coder, What are my options? Hey guys...   \n",
       "9          1              Highest Paying Programming Languages    \n",
       "\n",
       "                                         text_nostop  \\\n",
       "0  How can I become a coder I hear you cool guys ...   \n",
       "1  Question How cand I find someones real adress ...   \n",
       "2  Coding made Easyyy Hello This is your proud te...   \n",
       "3  Can you recommend a list of coding bootcamps I...   \n",
       "4  Anyone from Toronto have advice on bootcamp ch...   \n",
       "5  IronHack vs Le Wagon Helloo I‘m looking for bo...   \n",
       "6  Is an associates degree enough So I’ve been ac...   \n",
       "7  Is freecodingbootcamporg legit I mean while it...   \n",
       "8  Artist to Coder What are my options Hey guys s...   \n",
       "9              Highest Paying Programming Languages    \n",
       "\n",
       "                                      text_tokenized  \\\n",
       "0  [how, can, i, become, a, coder, i, hear, you, ...   \n",
       "1  [question, how, cand, i, find, someones, real,...   \n",
       "2  [coding, made, easyyy, hello, this, is, your, ...   \n",
       "3  [can, you, recommend, a, list, of, coding, boo...   \n",
       "4  [anyone, from, toronto, have, advice, on, boot...   \n",
       "5  [ironhack, vs, le, wagon, helloo, i, m, lookin...   \n",
       "6  [is, an, associates, degree, enough, so, i, ve...   \n",
       "7  [is, freecodingbootcamporg, legit, i, mean, wh...   \n",
       "8  [artist, to, coder, what, are, my, options, he...   \n",
       "9        [highest, paying, programming, languages, ]   \n",
       "\n",
       "                                     text_removestop  \\\n",
       "0  [become, coder, hear, cool, guys, get, fat, st...   \n",
       "1  [question, cand, find, someones, real, adress,...   \n",
       "2  [coding, made, easyyy, hello, proud, teacher, ...   \n",
       "3  [recommend, list, coding, bootcamps, ideally, ...   \n",
       "4  [anyone, toronto, advice, bootcamp, choice, he...   \n",
       "5  [ironhack, vs, le, wagon, helloo, looking, boo...   \n",
       "6  [associates, degree, enough, accepted, local, ...   \n",
       "7  [freecodingbootcamporg, legit, mean, sound, go...   \n",
       "8  [artist, coder, options, hey, guys, holding, o...   \n",
       "9        [highest, paying, programming, languages, ]   \n",
       "\n",
       "                                        text_stemmed  \\\n",
       "0  [becom, coder, hear, cool, guy, get, fat, stac...   \n",
       "1   [question, cand, find, someon, real, adress, ip]   \n",
       "2  [code, made, easyyi, hello, proud, teacher, am...   \n",
       "3  [recommend, list, code, bootcamp, ideal, free,...   \n",
       "4  [anyon, toronto, advic, bootcamp, choic, hello...   \n",
       "5  [ironhack, vs, le, wagon, helloo, look, bootca...   \n",
       "6  [associ, degre, enough, accept, local, colleg,...   \n",
       "7  [freecodingbootcamporg, legit, mean, sound, go...   \n",
       "8  [artist, coder, option, hey, guy, hold, onto, ...   \n",
       "9                 [highest, pay, program, languag, ]   \n",
       "\n",
       "                                     text_lemmatized  \n",
       "0  [become, coder, hear, cool, guy, get, fat, sta...  \n",
       "1  [question, cand, find, someone, real, adress, ip]  \n",
       "2  [coding, made, easyyy, hello, proud, teacher, ...  \n",
       "3  [recommend, list, coding, bootcamps, ideally, ...  \n",
       "4  [anyone, toronto, advice, bootcamp, choice, he...  \n",
       "5  [ironhack, v, le, wagon, helloo, looking, boot...  \n",
       "6  [associate, degree, enough, accepted, local, c...  \n",
       "7  [freecodingbootcamporg, legit, mean, sound, go...  \n",
       "8  [artist, coder, option, hey, guy, holding, ont...  \n",
       "9         [highest, paying, programming, language, ]  "
      ]
     },
     "execution_count": 27,
     "metadata": {},
     "output_type": "execute_result"
    }
   ],
   "source": [
    "def lemmatizing(tokenized_text):\n",
    "    # return list of all lemmatized words for their corresponding words in tokenized_text\n",
    "    text = [wn.lemmatize(word) for word in tokenized_text]\n",
    "    return text\n",
    "\n",
    "data['text_lemmatized'] = data['text_removestop'].apply(lambda x: lemmatizing(x))\n",
    "\n",
    "data.head(10)"
   ]
  },
  {
   "cell_type": "markdown",
   "id": "08efa1f0",
   "metadata": {},
   "source": [
    "## EDA"
   ]
  },
  {
   "cell_type": "code",
   "execution_count": 28,
   "id": "f68f1ce3",
   "metadata": {},
   "outputs": [
    {
     "data": {
      "text/plain": [
       "Text(0.5, 1.0, 'Counts of subreddit')"
      ]
     },
     "execution_count": 28,
     "metadata": {},
     "output_type": "execute_result"
    },
    {
     "data": {
      "image/png": "[encoded data removed]",
      "text/plain": [
       "<Figure size 432x288 with 1 Axes>"
      ]
     },
     "metadata": {
      "needs_background": "light"
     },
     "output_type": "display_data"
    }
   ],
   "source": [
    "# Plotting counts of subreddit databootcamp and csMajors\n",
    "sb.countplot(x='subreddit', data=data, palette='hls')\n",
    "plt.title(\"Counts of subreddit\")"
   ]
  },
  {
   "cell_type": "markdown",
   "id": "6f568fb4",
   "metadata": {},
   "source": [
    "#### Legend: \n",
    "- 0: csMajor \n",
    "- 1: codingbootcamp"
   ]
  },
  {
   "cell_type": "markdown",
   "id": "9d37194c",
   "metadata": {},
   "source": [
    "#### Comments:\n",
    "\n",
    "- There are only 2 classes for target variable, suitable data set for logistic regression, Bernoulli Naive Bayes and Multinomial Naive Bayes models. \n",
    "- Multinomial Naive Bayes model is more suitable for features which are positive. With the classification of target to binary(0,1) form, it allows for this model to be a suitable classification model.  "
   ]
  },
  {
   "cell_type": "markdown",
   "id": "e94930cd",
   "metadata": {},
   "source": [
    "#### Finding additional stopwords"
   ]
  },
  {
   "cell_type": "code",
   "execution_count": 29,
   "id": "9a825e23",
   "metadata": {},
   "outputs": [],
   "source": [
    "# function to remove punctuation, tokenize, remove stopwords and lemmatize\n",
    "def clean_text(text):\n",
    "    text = \"\".join([word.lower() for word in text if word not in string.punctuation])\n",
    "    \n",
    "    # \\W matches any non-word character (equivalent to [^a-zA-Z0-9_]). This does not include spaces i.e. \\s\n",
    "    # Add a + just in case there are 2 or more spaces between certain words\n",
    "    tokens = re.split('\\W+', text)\n",
    "    \n",
    "    # apply lemmatizing and stopwords exclusion within the same step\n",
    "    text = [wn.lemmatize(word) for word in tokens if word not in stopword]\n",
    "    \n",
    "    return text"
   ]
  },
  {
   "cell_type": "code",
   "execution_count": 30,
   "id": "5edb9971",
   "metadata": {},
   "outputs": [],
   "source": [
    "# Create an instance of CountVectorizer\n",
    "cv = CountVectorizer(analyzer=clean_text)"
   ]
  },
  {
   "cell_type": "code",
   "execution_count": 31,
   "id": "1519f310",
   "metadata": {},
   "outputs": [],
   "source": [
    "X = data[\"text\"]\n",
    "y = data[\"subreddit\"]"
   ]
  },
  {
   "cell_type": "code",
   "execution_count": 32,
   "id": "6ec9e352",
   "metadata": {},
   "outputs": [],
   "source": [
    "# transform and fit X_train\n",
    "X_stopword = cv.fit_transform(X)"
   ]
  },
  {
   "cell_type": "code",
   "execution_count": 33,
   "id": "f47bee9b",
   "metadata": {},
   "outputs": [
    {
     "data": {
      "text/html": [
       "<div>\n",
       "<style scoped>\n",
       "    .dataframe tbody tr th:only-of-type {\n",
       "        vertical-align: middle;\n",
       "    }\n",
       "\n",
       "    .dataframe tbody tr th {\n",
       "        vertical-align: top;\n",
       "    }\n",
       "\n",
       "    .dataframe thead th {\n",
       "        text-align: right;\n",
       "    }\n",
       "</style>\n",
       "<table border=\"1\" class=\"dataframe\">\n",
       "  <thead>\n",
       "    <tr style=\"text-align: right;\">\n",
       "      <th></th>\n",
       "      <th></th>\n",
       "      <th>0</th>\n",
       "      <th>000</th>\n",
       "      <th>0000ff</th>\n",
       "      <th>000webhost</th>\n",
       "      <th>001</th>\n",
       "      <th>001f</th>\n",
       "      <th>005f</th>\n",
       "      <th>01</th>\n",
       "      <th>010</th>\n",
       "      <th>010f</th>\n",
       "      <th>011</th>\n",
       "      <th>012</th>\n",
       "      <th>012323</th>\n",
       "      <th>02</th>\n",
       "      <th>020</th>\n",
       "      <th>025</th>\n",
       "      <th>025f</th>\n",
       "      <th>03062022</th>\n",
       "      <th>0315</th>\n",
       "      <th>04</th>\n",
       "      <th>0415</th>\n",
       "      <th>05</th>\n",
       "      <th>06000</th>\n",
       "      <th>0719</th>\n",
       "      <th>08</th>\n",
       "      <th>0901</th>\n",
       "      <th>0905</th>\n",
       "      <th>0908</th>\n",
       "      <th>0909</th>\n",
       "      <th>0919</th>\n",
       "      <th>09212021</th>\n",
       "      <th>0930</th>\n",
       "      <th>0lttlt1</th>\n",
       "      <th>1</th>\n",
       "      <th>10</th>\n",
       "      <th>100</th>\n",
       "      <th>1000</th>\n",
       "      <th>10000</th>\n",
       "      <th>100000</th>\n",
       "      <th>...</th>\n",
       "      <th>yyyymonth</th>\n",
       "      <th>z</th>\n",
       "      <th>zak</th>\n",
       "      <th>zalgorithm</th>\n",
       "      <th>zapier</th>\n",
       "      <th>zbook</th>\n",
       "      <th>zed</th>\n",
       "      <th>zelda</th>\n",
       "      <th>zendesk</th>\n",
       "      <th>zero</th>\n",
       "      <th>zeroed</th>\n",
       "      <th>zillow</th>\n",
       "      <th>zip</th>\n",
       "      <th>zipline</th>\n",
       "      <th>ziprecruiter</th>\n",
       "      <th>zksync</th>\n",
       "      <th>zocdoc</th>\n",
       "      <th>zomato</th>\n",
       "      <th>zombie</th>\n",
       "      <th>zon</th>\n",
       "      <th>zone</th>\n",
       "      <th>zoning</th>\n",
       "      <th>zoom</th>\n",
       "      <th>zoomkerg</th>\n",
       "      <th>zoox</th>\n",
       "      <th>zpetv2</th>\n",
       "      <th>zurich</th>\n",
       "      <th>zybooks</th>\n",
       "      <th>zybooksa</th>\n",
       "      <th>zyvo</th>\n",
       "      <th>½</th>\n",
       "      <th>άλλο</th>\n",
       "      <th>για</th>\n",
       "      <th>και</th>\n",
       "      <th>μηδεν</th>\n",
       "      <th>π</th>\n",
       "      <th>τιμη</th>\n",
       "      <th>το</th>\n",
       "      <th>ｃｒｅａｔｅ</th>\n",
       "      <th>ｉｍａｇｉｎｅ</th>\n",
       "    </tr>\n",
       "  </thead>\n",
       "  <tbody>\n",
       "    <tr>\n",
       "      <th>0</th>\n",
       "      <td>0</td>\n",
       "      <td>0</td>\n",
       "      <td>0</td>\n",
       "      <td>0</td>\n",
       "      <td>0</td>\n",
       "      <td>0</td>\n",
       "      <td>0</td>\n",
       "      <td>0</td>\n",
       "      <td>0</td>\n",
       "      <td>0</td>\n",
       "      <td>0</td>\n",
       "      <td>0</td>\n",
       "      <td>0</td>\n",
       "      <td>0</td>\n",
       "      <td>0</td>\n",
       "      <td>0</td>\n",
       "      <td>0</td>\n",
       "      <td>0</td>\n",
       "      <td>0</td>\n",
       "      <td>0</td>\n",
       "      <td>0</td>\n",
       "      <td>0</td>\n",
       "      <td>0</td>\n",
       "      <td>0</td>\n",
       "      <td>0</td>\n",
       "      <td>0</td>\n",
       "      <td>0</td>\n",
       "      <td>0</td>\n",
       "      <td>0</td>\n",
       "      <td>0</td>\n",
       "      <td>0</td>\n",
       "      <td>0</td>\n",
       "      <td>0</td>\n",
       "      <td>0</td>\n",
       "      <td>0</td>\n",
       "      <td>0</td>\n",
       "      <td>0</td>\n",
       "      <td>0</td>\n",
       "      <td>0</td>\n",
       "      <td>0</td>\n",
       "      <td>...</td>\n",
       "      <td>0</td>\n",
       "      <td>0</td>\n",
       "      <td>0</td>\n",
       "      <td>0</td>\n",
       "      <td>0</td>\n",
       "      <td>0</td>\n",
       "      <td>0</td>\n",
       "      <td>0</td>\n",
       "      <td>0</td>\n",
       "      <td>0</td>\n",
       "      <td>0</td>\n",
       "      <td>0</td>\n",
       "      <td>0</td>\n",
       "      <td>0</td>\n",
       "      <td>0</td>\n",
       "      <td>0</td>\n",
       "      <td>0</td>\n",
       "      <td>0</td>\n",
       "      <td>0</td>\n",
       "      <td>0</td>\n",
       "      <td>0</td>\n",
       "      <td>0</td>\n",
       "      <td>0</td>\n",
       "      <td>0</td>\n",
       "      <td>0</td>\n",
       "      <td>0</td>\n",
       "      <td>0</td>\n",
       "      <td>0</td>\n",
       "      <td>0</td>\n",
       "      <td>0</td>\n",
       "      <td>0</td>\n",
       "      <td>0</td>\n",
       "      <td>0</td>\n",
       "      <td>0</td>\n",
       "      <td>0</td>\n",
       "      <td>0</td>\n",
       "      <td>0</td>\n",
       "      <td>0</td>\n",
       "      <td>0</td>\n",
       "      <td>0</td>\n",
       "    </tr>\n",
       "    <tr>\n",
       "      <th>1</th>\n",
       "      <td>0</td>\n",
       "      <td>0</td>\n",
       "      <td>0</td>\n",
       "      <td>0</td>\n",
       "      <td>0</td>\n",
       "      <td>0</td>\n",
       "      <td>0</td>\n",
       "      <td>0</td>\n",
       "      <td>0</td>\n",
       "      <td>0</td>\n",
       "      <td>0</td>\n",
       "      <td>0</td>\n",
       "      <td>0</td>\n",
       "      <td>0</td>\n",
       "      <td>0</td>\n",
       "      <td>0</td>\n",
       "      <td>0</td>\n",
       "      <td>0</td>\n",
       "      <td>0</td>\n",
       "      <td>0</td>\n",
       "      <td>0</td>\n",
       "      <td>0</td>\n",
       "      <td>0</td>\n",
       "      <td>0</td>\n",
       "      <td>0</td>\n",
       "      <td>0</td>\n",
       "      <td>0</td>\n",
       "      <td>0</td>\n",
       "      <td>0</td>\n",
       "      <td>0</td>\n",
       "      <td>0</td>\n",
       "      <td>0</td>\n",
       "      <td>0</td>\n",
       "      <td>0</td>\n",
       "      <td>0</td>\n",
       "      <td>0</td>\n",
       "      <td>0</td>\n",
       "      <td>0</td>\n",
       "      <td>0</td>\n",
       "      <td>0</td>\n",
       "      <td>...</td>\n",
       "      <td>0</td>\n",
       "      <td>0</td>\n",
       "      <td>0</td>\n",
       "      <td>0</td>\n",
       "      <td>0</td>\n",
       "      <td>0</td>\n",
       "      <td>0</td>\n",
       "      <td>0</td>\n",
       "      <td>0</td>\n",
       "      <td>0</td>\n",
       "      <td>0</td>\n",
       "      <td>0</td>\n",
       "      <td>0</td>\n",
       "      <td>0</td>\n",
       "      <td>0</td>\n",
       "      <td>0</td>\n",
       "      <td>0</td>\n",
       "      <td>0</td>\n",
       "      <td>0</td>\n",
       "      <td>0</td>\n",
       "      <td>0</td>\n",
       "      <td>0</td>\n",
       "      <td>0</td>\n",
       "      <td>0</td>\n",
       "      <td>0</td>\n",
       "      <td>0</td>\n",
       "      <td>0</td>\n",
       "      <td>0</td>\n",
       "      <td>0</td>\n",
       "      <td>0</td>\n",
       "      <td>0</td>\n",
       "      <td>0</td>\n",
       "      <td>0</td>\n",
       "      <td>0</td>\n",
       "      <td>0</td>\n",
       "      <td>0</td>\n",
       "      <td>0</td>\n",
       "      <td>0</td>\n",
       "      <td>0</td>\n",
       "      <td>0</td>\n",
       "    </tr>\n",
       "    <tr>\n",
       "      <th>2</th>\n",
       "      <td>0</td>\n",
       "      <td>0</td>\n",
       "      <td>0</td>\n",
       "      <td>0</td>\n",
       "      <td>0</td>\n",
       "      <td>0</td>\n",
       "      <td>0</td>\n",
       "      <td>0</td>\n",
       "      <td>0</td>\n",
       "      <td>0</td>\n",
       "      <td>0</td>\n",
       "      <td>0</td>\n",
       "      <td>0</td>\n",
       "      <td>0</td>\n",
       "      <td>0</td>\n",
       "      <td>0</td>\n",
       "      <td>0</td>\n",
       "      <td>0</td>\n",
       "      <td>0</td>\n",
       "      <td>0</td>\n",
       "      <td>0</td>\n",
       "      <td>0</td>\n",
       "      <td>0</td>\n",
       "      <td>0</td>\n",
       "      <td>0</td>\n",
       "      <td>0</td>\n",
       "      <td>0</td>\n",
       "      <td>0</td>\n",
       "      <td>0</td>\n",
       "      <td>0</td>\n",
       "      <td>0</td>\n",
       "      <td>0</td>\n",
       "      <td>0</td>\n",
       "      <td>0</td>\n",
       "      <td>0</td>\n",
       "      <td>0</td>\n",
       "      <td>0</td>\n",
       "      <td>0</td>\n",
       "      <td>0</td>\n",
       "      <td>0</td>\n",
       "      <td>...</td>\n",
       "      <td>0</td>\n",
       "      <td>0</td>\n",
       "      <td>0</td>\n",
       "      <td>0</td>\n",
       "      <td>0</td>\n",
       "      <td>0</td>\n",
       "      <td>0</td>\n",
       "      <td>0</td>\n",
       "      <td>0</td>\n",
       "      <td>0</td>\n",
       "      <td>0</td>\n",
       "      <td>0</td>\n",
       "      <td>0</td>\n",
       "      <td>0</td>\n",
       "      <td>0</td>\n",
       "      <td>0</td>\n",
       "      <td>0</td>\n",
       "      <td>0</td>\n",
       "      <td>0</td>\n",
       "      <td>0</td>\n",
       "      <td>0</td>\n",
       "      <td>0</td>\n",
       "      <td>0</td>\n",
       "      <td>0</td>\n",
       "      <td>0</td>\n",
       "      <td>0</td>\n",
       "      <td>0</td>\n",
       "      <td>0</td>\n",
       "      <td>0</td>\n",
       "      <td>0</td>\n",
       "      <td>0</td>\n",
       "      <td>0</td>\n",
       "      <td>0</td>\n",
       "      <td>0</td>\n",
       "      <td>0</td>\n",
       "      <td>0</td>\n",
       "      <td>0</td>\n",
       "      <td>0</td>\n",
       "      <td>0</td>\n",
       "      <td>0</td>\n",
       "    </tr>\n",
       "    <tr>\n",
       "      <th>3</th>\n",
       "      <td>0</td>\n",
       "      <td>0</td>\n",
       "      <td>0</td>\n",
       "      <td>0</td>\n",
       "      <td>0</td>\n",
       "      <td>0</td>\n",
       "      <td>0</td>\n",
       "      <td>0</td>\n",
       "      <td>0</td>\n",
       "      <td>0</td>\n",
       "      <td>0</td>\n",
       "      <td>0</td>\n",
       "      <td>0</td>\n",
       "      <td>0</td>\n",
       "      <td>0</td>\n",
       "      <td>0</td>\n",
       "      <td>0</td>\n",
       "      <td>0</td>\n",
       "      <td>0</td>\n",
       "      <td>0</td>\n",
       "      <td>0</td>\n",
       "      <td>0</td>\n",
       "      <td>0</td>\n",
       "      <td>0</td>\n",
       "      <td>0</td>\n",
       "      <td>0</td>\n",
       "      <td>0</td>\n",
       "      <td>0</td>\n",
       "      <td>0</td>\n",
       "      <td>0</td>\n",
       "      <td>0</td>\n",
       "      <td>0</td>\n",
       "      <td>0</td>\n",
       "      <td>0</td>\n",
       "      <td>0</td>\n",
       "      <td>0</td>\n",
       "      <td>0</td>\n",
       "      <td>0</td>\n",
       "      <td>0</td>\n",
       "      <td>0</td>\n",
       "      <td>...</td>\n",
       "      <td>0</td>\n",
       "      <td>0</td>\n",
       "      <td>0</td>\n",
       "      <td>0</td>\n",
       "      <td>0</td>\n",
       "      <td>0</td>\n",
       "      <td>0</td>\n",
       "      <td>0</td>\n",
       "      <td>0</td>\n",
       "      <td>0</td>\n",
       "      <td>0</td>\n",
       "      <td>0</td>\n",
       "      <td>0</td>\n",
       "      <td>0</td>\n",
       "      <td>0</td>\n",
       "      <td>0</td>\n",
       "      <td>0</td>\n",
       "      <td>0</td>\n",
       "      <td>0</td>\n",
       "      <td>0</td>\n",
       "      <td>0</td>\n",
       "      <td>0</td>\n",
       "      <td>0</td>\n",
       "      <td>0</td>\n",
       "      <td>0</td>\n",
       "      <td>0</td>\n",
       "      <td>0</td>\n",
       "      <td>0</td>\n",
       "      <td>0</td>\n",
       "      <td>0</td>\n",
       "      <td>0</td>\n",
       "      <td>0</td>\n",
       "      <td>0</td>\n",
       "      <td>0</td>\n",
       "      <td>0</td>\n",
       "      <td>0</td>\n",
       "      <td>0</td>\n",
       "      <td>0</td>\n",
       "      <td>0</td>\n",
       "      <td>0</td>\n",
       "    </tr>\n",
       "    <tr>\n",
       "      <th>4</th>\n",
       "      <td>0</td>\n",
       "      <td>0</td>\n",
       "      <td>0</td>\n",
       "      <td>0</td>\n",
       "      <td>0</td>\n",
       "      <td>0</td>\n",
       "      <td>0</td>\n",
       "      <td>0</td>\n",
       "      <td>0</td>\n",
       "      <td>0</td>\n",
       "      <td>0</td>\n",
       "      <td>0</td>\n",
       "      <td>0</td>\n",
       "      <td>0</td>\n",
       "      <td>0</td>\n",
       "      <td>0</td>\n",
       "      <td>0</td>\n",
       "      <td>0</td>\n",
       "      <td>0</td>\n",
       "      <td>0</td>\n",
       "      <td>0</td>\n",
       "      <td>0</td>\n",
       "      <td>0</td>\n",
       "      <td>0</td>\n",
       "      <td>0</td>\n",
       "      <td>0</td>\n",
       "      <td>0</td>\n",
       "      <td>0</td>\n",
       "      <td>0</td>\n",
       "      <td>0</td>\n",
       "      <td>0</td>\n",
       "      <td>0</td>\n",
       "      <td>0</td>\n",
       "      <td>0</td>\n",
       "      <td>1</td>\n",
       "      <td>0</td>\n",
       "      <td>0</td>\n",
       "      <td>0</td>\n",
       "      <td>0</td>\n",
       "      <td>0</td>\n",
       "      <td>...</td>\n",
       "      <td>0</td>\n",
       "      <td>0</td>\n",
       "      <td>0</td>\n",
       "      <td>0</td>\n",
       "      <td>0</td>\n",
       "      <td>0</td>\n",
       "      <td>0</td>\n",
       "      <td>0</td>\n",
       "      <td>0</td>\n",
       "      <td>0</td>\n",
       "      <td>0</td>\n",
       "      <td>0</td>\n",
       "      <td>0</td>\n",
       "      <td>0</td>\n",
       "      <td>0</td>\n",
       "      <td>0</td>\n",
       "      <td>0</td>\n",
       "      <td>0</td>\n",
       "      <td>0</td>\n",
       "      <td>0</td>\n",
       "      <td>0</td>\n",
       "      <td>0</td>\n",
       "      <td>0</td>\n",
       "      <td>0</td>\n",
       "      <td>0</td>\n",
       "      <td>0</td>\n",
       "      <td>0</td>\n",
       "      <td>0</td>\n",
       "      <td>0</td>\n",
       "      <td>0</td>\n",
       "      <td>0</td>\n",
       "      <td>0</td>\n",
       "      <td>0</td>\n",
       "      <td>0</td>\n",
       "      <td>0</td>\n",
       "      <td>0</td>\n",
       "      <td>0</td>\n",
       "      <td>0</td>\n",
       "      <td>0</td>\n",
       "      <td>0</td>\n",
       "    </tr>\n",
       "  </tbody>\n",
       "</table>\n",
       "<p>5 rows × 19419 columns</p>\n",
       "</div>"
      ],
      "text/plain": [
       "      0  000  0000ff  000webhost  001  001f  005f  01  010  010f  011  012  \\\n",
       "0  0  0    0       0           0    0     0     0   0    0     0    0    0   \n",
       "1  0  0    0       0           0    0     0     0   0    0     0    0    0   \n",
       "2  0  0    0       0           0    0     0     0   0    0     0    0    0   \n",
       "3  0  0    0       0           0    0     0     0   0    0     0    0    0   \n",
       "4  0  0    0       0           0    0     0     0   0    0     0    0    0   \n",
       "\n",
       "   012323  02  020  025  025f  03062022  0315  04  0415  05  06000  0719  08  \\\n",
       "0       0   0    0    0     0         0     0   0     0   0      0     0   0   \n",
       "1       0   0    0    0     0         0     0   0     0   0      0     0   0   \n",
       "2       0   0    0    0     0         0     0   0     0   0      0     0   0   \n",
       "3       0   0    0    0     0         0     0   0     0   0      0     0   0   \n",
       "4       0   0    0    0     0         0     0   0     0   0      0     0   0   \n",
       "\n",
       "   0901  0905  0908  0909  0919  09212021  0930  0lttlt1  1  10  100  1000  \\\n",
       "0     0     0     0     0     0         0     0        0  0   0    0     0   \n",
       "1     0     0     0     0     0         0     0        0  0   0    0     0   \n",
       "2     0     0     0     0     0         0     0        0  0   0    0     0   \n",
       "3     0     0     0     0     0         0     0        0  0   0    0     0   \n",
       "4     0     0     0     0     0         0     0        0  1   0    0     0   \n",
       "\n",
       "   10000  100000  ...  yyyymonth  z  zak  zalgorithm  zapier  zbook  zed  \\\n",
       "0      0       0  ...          0  0    0           0       0      0    0   \n",
       "1      0       0  ...          0  0    0           0       0      0    0   \n",
       "2      0       0  ...          0  0    0           0       0      0    0   \n",
       "3      0       0  ...          0  0    0           0       0      0    0   \n",
       "4      0       0  ...          0  0    0           0       0      0    0   \n",
       "\n",
       "   zelda  zendesk  zero  zeroed  zillow  zip  zipline  ziprecruiter  zksync  \\\n",
       "0      0        0     0       0       0    0        0             0       0   \n",
       "1      0        0     0       0       0    0        0             0       0   \n",
       "2      0        0     0       0       0    0        0             0       0   \n",
       "3      0        0     0       0       0    0        0             0       0   \n",
       "4      0        0     0       0       0    0        0             0       0   \n",
       "\n",
       "   zocdoc  zomato  zombie  zon  zone  zoning  zoom  zoomkerg  zoox  zpetv2  \\\n",
       "0       0       0       0    0     0       0     0         0     0       0   \n",
       "1       0       0       0    0     0       0     0         0     0       0   \n",
       "2       0       0       0    0     0       0     0         0     0       0   \n",
       "3       0       0       0    0     0       0     0         0     0       0   \n",
       "4       0       0       0    0     0       0     0         0     0       0   \n",
       "\n",
       "   zurich  zybooks  zybooksa  zyvo  ½  άλλο  για  και  μηδεν  π  τιμη  το  \\\n",
       "0       0        0         0     0  0     0    0    0      0  0     0   0   \n",
       "1       0        0         0     0  0     0    0    0      0  0     0   0   \n",
       "2       0        0         0     0  0     0    0    0      0  0     0   0   \n",
       "3       0        0         0     0  0     0    0    0      0  0     0   0   \n",
       "4       0        0         0     0  0     0    0    0      0  0     0   0   \n",
       "\n",
       "   ｃｒｅａｔｅ  ｉｍａｇｉｎｅ  \n",
       "0       0        0  \n",
       "1       0        0  \n",
       "2       0        0  \n",
       "3       0        0  \n",
       "4       0        0  \n",
       "\n",
       "[5 rows x 19419 columns]"
      ]
     },
     "execution_count": 33,
     "metadata": {},
     "output_type": "execute_result"
    }
   ],
   "source": [
    "# Convert vector to dataframe format\n",
    "X_stopword_df = pd.DataFrame(X_stopword.toarray())\n",
    "X_stopword_df.columns = cv.get_feature_names()\n",
    "X_stopword_df.head()"
   ]
  },
  {
   "cell_type": "code",
   "execution_count": 34,
   "id": "0bd22ad6",
   "metadata": {},
   "outputs": [],
   "source": [
    "#Merging sub-reddit category to dataframe:\n",
    "X_stopword_df[\"target\"] = y.values"
   ]
  },
  {
   "cell_type": "code",
   "execution_count": 35,
   "id": "40aaa24c",
   "metadata": {},
   "outputs": [
    {
     "data": {
      "text/plain": [
       "bootcamp      3388\n",
       "coding        2751\n",
       "job           2113\n",
       "              1893\n",
       "would         1812\n",
       "get           1695\n",
       "im            1690\n",
       "like          1579\n",
       "time          1541\n",
       "know          1315\n",
       "experience    1227\n",
       "camp          1219\n",
       "anyone        1211\n",
       "program       1189\n",
       "course        1161\n",
       "one           1130\n",
       "want          1119\n",
       "boot          1083\n",
       "work          1047\n",
       "learn         1043\n",
       "help          1031\n",
       "looking       1012\n",
       "bootcamps      973\n",
       "year           931\n",
       "good           883\n",
       "code           836\n",
       "career         830\n",
       "really         818\n",
       "week           814\n",
       "also           805\n",
       "people         805\n",
       "learning       795\n",
       "need           773\n",
       "ive            743\n",
       "start          706\n",
       "make           702\n",
       "month          700\n",
       "question       686\n",
       "software       665\n",
       "dont           658\n",
       "go             651\n",
       "degree         634\n",
       "python         631\n",
       "project        627\n",
       "tech           626\n",
       "full           604\n",
       "free           600\n",
       "academy        590\n",
       "much           586\n",
       "lot            585\n",
       "dtype: int64"
      ]
     },
     "execution_count": 35,
     "metadata": {},
     "output_type": "execute_result"
    }
   ],
   "source": [
    "# codingbootcamp:\n",
    "X_stopword_df_1 = X_stopword_df[X_stopword_df[\"target\"] == 1]\n",
    "X_stopword_df_1.drop([\"target\"], axis = 1, inplace = True)\n",
    "X_stopword_df_1.sum().sort_values(ascending=False).head(50)"
   ]
  },
  {
   "cell_type": "code",
   "execution_count": 36,
   "id": "c528f485",
   "metadata": {},
   "outputs": [
    {
     "data": {
      "text/plain": [
       "interview     2394\n",
       "internship    2192\n",
       "offer         1684\n",
       "anyone        1414\n",
       "company       1388\n",
       "would         1289\n",
       "get           1268\n",
       "im            1208\n",
       "like          1196\n",
       "intern        1102\n",
       "              1060\n",
       "know          1044\n",
       "got           1014\n",
       "question      1011\n",
       "c              961\n",
       "time           943\n",
       "swe            934\n",
       "one            917\n",
       "year           849\n",
       "summer         795\n",
       "round          717\n",
       "job            705\n",
       "oa             658\n",
       "new            657\n",
       "experience     653\n",
       "back           652\n",
       "also           652\n",
       "really         624\n",
       "week           620\n",
       "good           620\n",
       "final          619\n",
       "want           609\n",
       "work           595\n",
       "grad           590\n",
       "view           553\n",
       "first          524\n",
       "take           521\n",
       "next           514\n",
       "people         501\n",
       "think          492\n",
       "recruiter      492\n",
       "project        487\n",
       "2              486\n",
       "even           482\n",
       "dont           480\n",
       "technical      469\n",
       "resume         469\n",
       "much           468\n",
       "2023           464\n",
       "class          449\n",
       "dtype: int64"
      ]
     },
     "execution_count": 36,
     "metadata": {},
     "output_type": "execute_result"
    }
   ],
   "source": [
    "# csMajor:\n",
    "X_stopword_df_0 = X_stopword_df[X_stopword_df[\"target\"] == 0]\n",
    "X_stopword_df_0.drop([\"target\"], axis = 1, inplace = True)\n",
    "X_stopword_df_0.sum().sort_values(ascending=False).head(50)"
   ]
  },
  {
   "cell_type": "markdown",
   "id": "5569c1b3",
   "metadata": {},
   "source": [
    "- Additional stopwords: \"want\",\"one\",\"anyone\",\"like\",\"im\",\"get\",\"would\",\"got\",\"really\",\"also\",'ive','know','dont','go','much','lot','take','think','even','getting','back',\"\""
   ]
  },
  {
   "cell_type": "markdown",
   "id": "c7cbadaf",
   "metadata": {},
   "source": [
    "### Count Vectorizer"
   ]
  },
  {
   "cell_type": "code",
   "execution_count": 37,
   "id": "9fe4d446",
   "metadata": {},
   "outputs": [],
   "source": [
    "# adding more stopwords\n",
    "add_stopword = stopword + [\"want\",\"one\",\"anyone\",\"like\",\"im\",\"get\",\"would\",\"got\"] + ['really','also','ive','know','dont','go','much','lot','take','think','even','getting','back',\"\"]"
   ]
  },
  {
   "cell_type": "code",
   "execution_count": 38,
   "id": "cf5fcf65",
   "metadata": {},
   "outputs": [],
   "source": [
    "# function to remove punctuation, tokenize, remove stopwords and lemmatize\n",
    "def clean_text(text):\n",
    "    text = \"\".join([word.lower() for word in text if word not in string.punctuation])\n",
    "    tokens = re.split('\\W+', text)\n",
    "    text = [wn.lemmatize(word) for word in tokens if word not in add_stopword]\n",
    "    return text"
   ]
  },
  {
   "cell_type": "code",
   "execution_count": 39,
   "id": "72465fc1",
   "metadata": {},
   "outputs": [],
   "source": [
    "# Create an instance of CountVectorizer\n",
    "cv = CountVectorizer(analyzer=clean_text)"
   ]
  },
  {
   "cell_type": "code",
   "execution_count": 40,
   "id": "5fe2cd44",
   "metadata": {},
   "outputs": [],
   "source": [
    "# transform and fit X_train\n",
    "X_cv = cv.fit_transform(X)"
   ]
  },
  {
   "cell_type": "code",
   "execution_count": 41,
   "id": "e1199e73",
   "metadata": {},
   "outputs": [
    {
     "name": "stdout",
     "output_type": "stream",
     "text": [
      "(9982, 19407)\n"
     ]
    }
   ],
   "source": [
    "# Returns the number of rows and columns of X_train\n",
    "print(X_cv.shape)"
   ]
  },
  {
   "cell_type": "markdown",
   "id": "27e83ab7",
   "metadata": {},
   "source": [
    "- X_cv has 19,305 unique words"
   ]
  },
  {
   "cell_type": "code",
   "execution_count": 42,
   "id": "7dfe0547",
   "metadata": {},
   "outputs": [],
   "source": [
    "# Convert vector to dataframe format\n",
    "X_cv_df = pd.DataFrame(X_cv.toarray())\n",
    "X_cv_df.columns = cv.get_feature_names()"
   ]
  },
  {
   "cell_type": "code",
   "execution_count": 43,
   "id": "e93373ff",
   "metadata": {},
   "outputs": [],
   "source": [
    "#Merging sub-reddit category to dataframe:\n",
    "X_cv_df[\"target\"] = y.values"
   ]
  },
  {
   "cell_type": "code",
   "execution_count": 44,
   "id": "f1ccf275",
   "metadata": {},
   "outputs": [
    {
     "data": {
      "text/plain": [
       "Text(0, 0.5, 'Keywords')"
      ]
     },
     "execution_count": 44,
     "metadata": {},
     "output_type": "execute_result"
    },
    {
     "data": {
      "image/png": "[encoded data removed]",
      "text/plain": [
       "<Figure size 432x288 with 1 Axes>"
      ]
     },
     "metadata": {
      "needs_background": "light"
     },
     "output_type": "display_data"
    }
   ],
   "source": [
    "# codingbootcamp:\n",
    "X_cv_df_1 = X_cv_df[X_cv_df[\"target\"] == 1]\n",
    "# exclude \"target\",\"bootcamp\",\"bootcamps\",\"boot\",\"camp\",\"coding\",\"code\", to find out what other keywords there are.\n",
    "X_cv_df_1.drop([\"target\",\"bootcamp\",\"bootcamps\",\"boot\",\"camp\",\"coding\",\"code\"], axis = 1, inplace = True)\n",
    "X_cv_df_1.sum().sort_values(ascending=False).head(20).plot(kind='barh')\n",
    "plt.title(\"Keywords For <CodingBootCamp>\")\n",
    "plt.xlabel(\"Count\")\n",
    "plt.ylabel(\"Keywords\")"
   ]
  },
  {
   "cell_type": "code",
   "execution_count": 45,
   "id": "1b8a79d6",
   "metadata": {},
   "outputs": [
    {
     "data": {
      "text/plain": [
       "Text(0, 0.5, 'Keywords')"
      ]
     },
     "execution_count": 45,
     "metadata": {},
     "output_type": "execute_result"
    },
    {
     "data": {
      "image/png": "[encoded data removed]",
      "text/plain": [
       "<Figure size 432x288 with 1 Axes>"
      ]
     },
     "metadata": {
      "needs_background": "light"
     },
     "output_type": "display_data"
    }
   ],
   "source": [
    "# csMajor:\n",
    "X_cv_df_0 = X_cv_df[X_cv_df[\"target\"] == 0]\n",
    "X_cv_df_0.drop([\"target\"], axis = 1, inplace = True)\n",
    "X_cv_df_0.sum().sort_values(ascending=False).head(20).plot(kind='barh')\n",
    "plt.title(\"Keywords For <csMajor>\")\n",
    "plt.xlabel(\"Count\")\n",
    "plt.ylabel(\"Keywords\")"
   ]
  },
  {
   "cell_type": "markdown",
   "id": "10bd5c8c",
   "metadata": {},
   "source": [
    "#### Interpretation of keywords: \n",
    "- Some keywords that showed up for codingbootcamp (excluding \"target\",\"bootcamp\",\"bootcamps\",\"boot\",\"camp\",\"coding\",\"code\") were job, work, career. This is indicative that people who are interested in bootcamp, are usually more to find out what job opportunities that they will have, after completing the boot camp.\n",
    "- Some keywords that showed up for csMajor were \"internship\", \"offer\", \"company\", \"summer\". That is indicative that computer science students tend to be more interested or on the look out for internship opportunities to gain experience during their course of study in the university, prior to entering the working world, as opposed to students in data bootcamps. "
   ]
  },
  {
   "cell_type": "markdown",
   "id": "e8ba5f7e",
   "metadata": {},
   "source": [
    "### N-Grams"
   ]
  },
  {
   "cell_type": "code",
   "execution_count": 46,
   "id": "20f99d77",
   "metadata": {},
   "outputs": [],
   "source": [
    "# Breaking down into smaller sample sets \n",
    "# csMajors\n",
    "data_sample_cs = data[4991:6991]\n",
    "\n",
    "# codingbootcamp\n",
    "data_sample_bc = data[0:2000]\n",
    "\n",
    "add_stopword_ngram = stopword + [\"want\",\"one\",\"anyone\",\"like\",\"im\",\"get\",\"would\",\"got\"] + ['really','also','ive','know','dont','go','much','lot','take','think','even','getting','back',\"\"] + [\"bootcamp\",\"bootcamps\",\"boot\",\"camp\",\"camps\",\"coding\",\"code\"]"
   ]
  },
  {
   "cell_type": "code",
   "execution_count": 47,
   "id": "a6f015dd",
   "metadata": {},
   "outputs": [],
   "source": [
    "def clean_text_ngram(text):\n",
    "    text = \"\".join([word.lower() for word in text if word not in string.punctuation])\n",
    "    tokens = re.split('\\W+', text)\n",
    "    text = \" \".join([wn.lemmatize(word) for word in tokens if word not in add_stopword_ngram])\n",
    "    return text"
   ]
  },
  {
   "cell_type": "markdown",
   "id": "13935712",
   "metadata": {},
   "source": [
    "#### csMajors Dataset"
   ]
  },
  {
   "cell_type": "code",
   "execution_count": 48,
   "id": "7131d42f",
   "metadata": {},
   "outputs": [
    {
     "data": {
      "text/html": [
       "<div>\n",
       "<style scoped>\n",
       "    .dataframe tbody tr th:only-of-type {\n",
       "        vertical-align: middle;\n",
       "    }\n",
       "\n",
       "    .dataframe tbody tr th {\n",
       "        vertical-align: top;\n",
       "    }\n",
       "\n",
       "    .dataframe thead th {\n",
       "        text-align: right;\n",
       "    }\n",
       "</style>\n",
       "<table border=\"1\" class=\"dataframe\">\n",
       "  <thead>\n",
       "    <tr style=\"text-align: right;\">\n",
       "      <th></th>\n",
       "      <th>subreddit</th>\n",
       "      <th>text</th>\n",
       "      <th>cleaned_text</th>\n",
       "    </tr>\n",
       "  </thead>\n",
       "  <tbody>\n",
       "    <tr>\n",
       "      <th>4991</th>\n",
       "      <td>0</td>\n",
       "      <td>Would 24/7 on-call be a deal breaker for you? ...</td>\n",
       "      <td>247 oncall deal breaker wondering guy feel giv...</td>\n",
       "    </tr>\n",
       "    <tr>\n",
       "      <th>4992</th>\n",
       "      <td>0</td>\n",
       "      <td>How would you build a full stack web app in 20...</td>\n",
       "      <td>build full stack web app 2023 question say mer...</td>\n",
       "    </tr>\n",
       "    <tr>\n",
       "      <th>4993</th>\n",
       "      <td>0</td>\n",
       "      <td>SWE Intern Winter 2023: Which offer should I c...</td>\n",
       "      <td>swe intern winter 2023 offer choose title view...</td>\n",
       "    </tr>\n",
       "    <tr>\n",
       "      <th>4994</th>\n",
       "      <td>0</td>\n",
       "      <td>Help preparing for masters Help preparing for ...</td>\n",
       "      <td>help preparing master help preparing master he...</td>\n",
       "    </tr>\n",
       "    <tr>\n",
       "      <th>4995</th>\n",
       "      <td>0</td>\n",
       "      <td>Hours worked at bank in NYC I will be starting...</td>\n",
       "      <td>hour worked bank nyc starting software enginee...</td>\n",
       "    </tr>\n",
       "    <tr>\n",
       "      <th>...</th>\n",
       "      <td>...</td>\n",
       "      <td>...</td>\n",
       "      <td>...</td>\n",
       "    </tr>\n",
       "    <tr>\n",
       "      <th>6986</th>\n",
       "      <td>0</td>\n",
       "      <td>Introducing the Tech Offers Repo!</td>\n",
       "      <td>introducing tech offer repo</td>\n",
       "    </tr>\n",
       "    <tr>\n",
       "      <th>6987</th>\n",
       "      <td>0</td>\n",
       "      <td>Which companies are still hiring admist hiring...</td>\n",
       "      <td>company still hiring admist hiring freeze</td>\n",
       "    </tr>\n",
       "    <tr>\n",
       "      <th>6988</th>\n",
       "      <td>0</td>\n",
       "      <td>Masters in CS in USA or UK (Rhodes Scholarship)?</td>\n",
       "      <td>master c usa uk rhodes scholarship</td>\n",
       "    </tr>\n",
       "    <tr>\n",
       "      <th>6989</th>\n",
       "      <td>0</td>\n",
       "      <td>Masters in CS in USA or UK (Rhodes Scholarship)?</td>\n",
       "      <td>master c usa uk rhodes scholarship</td>\n",
       "    </tr>\n",
       "    <tr>\n",
       "      <th>6990</th>\n",
       "      <td>0</td>\n",
       "      <td>Amazon internship OA1 2023</td>\n",
       "      <td>amazon internship oa1 2023</td>\n",
       "    </tr>\n",
       "  </tbody>\n",
       "</table>\n",
       "<p>2000 rows × 3 columns</p>\n",
       "</div>"
      ],
      "text/plain": [
       "      subreddit                                               text  \\\n",
       "4991          0  Would 24/7 on-call be a deal breaker for you? ...   \n",
       "4992          0  How would you build a full stack web app in 20...   \n",
       "4993          0  SWE Intern Winter 2023: Which offer should I c...   \n",
       "4994          0  Help preparing for masters Help preparing for ...   \n",
       "4995          0  Hours worked at bank in NYC I will be starting...   \n",
       "...         ...                                                ...   \n",
       "6986          0                 Introducing the Tech Offers Repo!    \n",
       "6987          0  Which companies are still hiring admist hiring...   \n",
       "6988          0  Masters in CS in USA or UK (Rhodes Scholarship)?    \n",
       "6989          0  Masters in CS in USA or UK (Rhodes Scholarship)?    \n",
       "6990          0                        Amazon internship OA1 2023    \n",
       "\n",
       "                                           cleaned_text  \n",
       "4991  247 oncall deal breaker wondering guy feel giv...  \n",
       "4992  build full stack web app 2023 question say mer...  \n",
       "4993  swe intern winter 2023 offer choose title view...  \n",
       "4994  help preparing master help preparing master he...  \n",
       "4995  hour worked bank nyc starting software enginee...  \n",
       "...                                                 ...  \n",
       "6986                        introducing tech offer repo  \n",
       "6987          company still hiring admist hiring freeze  \n",
       "6988                 master c usa uk rhodes scholarship  \n",
       "6989                 master c usa uk rhodes scholarship  \n",
       "6990                         amazon internship oa1 2023  \n",
       "\n",
       "[2000 rows x 3 columns]"
      ]
     },
     "execution_count": 48,
     "metadata": {},
     "output_type": "execute_result"
    }
   ],
   "source": [
    "# cleaning csMajors dataset \n",
    "data_sample_cs['cleaned_text'] = data_sample_cs[\"text\"].apply(lambda x: clean_text_ngram(x))\n",
    "data_sample_cs.loc[:,[\"subreddit\",\"text\",\"cleaned_text\"]]"
   ]
  },
  {
   "cell_type": "code",
   "execution_count": 49,
   "id": "81992fdf",
   "metadata": {},
   "outputs": [],
   "source": [
    "# ngram fit/transform for csMajors dataset:\n",
    "ngram_vect_1 = CountVectorizer(ngram_range=(1,1)) \n",
    "X_ngram_1_cs = ngram_vect_1.fit_transform(data_sample_cs['cleaned_text'])\n",
    "\n",
    "ngram_vect_2 = CountVectorizer(ngram_range=(2,2))\n",
    "X_ngram_2_cs = ngram_vect_2.fit_transform(data_sample_cs[\"cleaned_text\"])\n",
    "\n",
    "ngram_vect_3 = CountVectorizer(ngram_range=(3,3)) \n",
    "X_ngram_3_cs = ngram_vect_3.fit_transform(data_sample_cs['cleaned_text'])"
   ]
  },
  {
   "cell_type": "code",
   "execution_count": 50,
   "id": "b4cf9398",
   "metadata": {},
   "outputs": [
    {
     "name": "stdout",
     "output_type": "stream",
     "text": [
      "(2000, 7442)\n",
      "(2000, 47719)\n",
      "(2000, 56803)\n"
     ]
    }
   ],
   "source": [
    "print(X_ngram_1_cs.shape)\n",
    "print(X_ngram_2_cs.shape)\n",
    "print(X_ngram_3_cs.shape)"
   ]
  },
  {
   "cell_type": "markdown",
   "id": "c1207628",
   "metadata": {},
   "source": [
    "##### csMajor sample dataset contains:\n",
    "- Data Set has 7,272 unique 1-word combinations\n",
    "- Data Set has 46,118 unique 2-word combinations\n",
    "- Data Set has 54,758 unique 3-word combinations"
   ]
  },
  {
   "cell_type": "code",
   "execution_count": 51,
   "id": "80911fc8",
   "metadata": {},
   "outputs": [],
   "source": [
    "# convert to dataframe format\n",
    "X_ngram_1_cs_df = pd.DataFrame(X_ngram_1_cs.toarray())\n",
    "X_ngram_1_cs_df.columns = ngram_vect_1.get_feature_names()\n",
    "\n",
    "X_ngram_2_cs_df = pd.DataFrame(X_ngram_2_cs.toarray())\n",
    "X_ngram_2_cs_df.columns = ngram_vect_2.get_feature_names()\n",
    "\n",
    "X_ngram_3_cs_df = pd.DataFrame(X_ngram_3_cs.toarray())\n",
    "X_ngram_3_cs_df.columns = ngram_vect_3.get_feature_names()"
   ]
  },
  {
   "cell_type": "code",
   "execution_count": 52,
   "id": "9c8a1ec2",
   "metadata": {
    "scrolled": false
   },
   "outputs": [
    {
     "data": {
      "text/plain": [
       "Text(0, 0.5, 'Keywords')"
      ]
     },
     "execution_count": 52,
     "metadata": {},
     "output_type": "execute_result"
    },
    {
     "data": {
      "image/png": "[encoded data removed]",
      "text/plain": [
       "<Figure size 432x288 with 1 Axes>"
      ]
     },
     "metadata": {
      "needs_background": "light"
     },
     "output_type": "display_data"
    }
   ],
   "source": [
    "# Word count plots for csMajor single-gram (1,1)\n",
    "X_ngram_1_cs_df.sum().sort_values(ascending=False).head(20).plot(kind='barh')\n",
    "plt.title(\"Keywords For <csMajor>\")\n",
    "plt.xlabel(\"Count\")\n",
    "plt.ylabel(\"Keywords\")"
   ]
  },
  {
   "cell_type": "code",
   "execution_count": 53,
   "id": "b8bcd06b",
   "metadata": {},
   "outputs": [
    {
     "data": {
      "text/plain": [
       "Text(0, 0.5, 'Keywords')"
      ]
     },
     "execution_count": 53,
     "metadata": {},
     "output_type": "execute_result"
    },
    {
     "data": {
      "image/png": "[encoded data removed]",
      "text/plain": [
       "<Figure size 432x288 with 1 Axes>"
      ]
     },
     "metadata": {
      "needs_background": "light"
     },
     "output_type": "display_data"
    }
   ],
   "source": [
    "# Word count plots for csMajor Bi-gram (2,2):\n",
    "X_ngram_2_cs_df.sum().sort_values(ascending=False).head(20).plot(kind='barh')\n",
    "plt.title(\"Bi-gram Keywords For <csMajor>\")\n",
    "plt.xlabel(\"Count\")\n",
    "plt.ylabel(\"Keywords\")"
   ]
  },
  {
   "cell_type": "code",
   "execution_count": 54,
   "id": "d4eb8993",
   "metadata": {},
   "outputs": [
    {
     "data": {
      "text/plain": [
       "Text(0, 0.5, 'Keywords')"
      ]
     },
     "execution_count": 54,
     "metadata": {},
     "output_type": "execute_result"
    },
    {
     "data": {
      "image/png": "[encoded data removed]",
      "text/plain": [
       "<Figure size 432x288 with 1 Axes>"
      ]
     },
     "metadata": {
      "needs_background": "light"
     },
     "output_type": "display_data"
    }
   ],
   "source": [
    "# Word count plots for csMajor Tri-gram (3,3):\n",
    "X_ngram_3_cs_df.sum().sort_values(ascending=False).head(20).plot(kind='barh')\n",
    "plt.title(\"Tri-gram Keywords For <csMajor>\")\n",
    "plt.xlabel(\"Count\")\n",
    "plt.ylabel(\"Keywords\")"
   ]
  },
  {
   "cell_type": "markdown",
   "id": "986cf307",
   "metadata": {},
   "source": [
    "#### Interpretation of keywords for csMajor:\n",
    "##### Unigram\n",
    "- Some keywords that showed up for csMajor uni-gram were \"internship\", \"offer\", \"company\", \"summer\". That is indicative that computer science students tend to be more interested or on the look out for internship opportunities to gain experience during their course of study in the university, prior to entering the working world, as opposed to students in data bootcamps.\n",
    "- \"swe\" which means software engineer also shows up often indicating that computer science students are usually interested in sotware engineering roles\n",
    "\n",
    "##### Bi-gram\n",
    "- Terms like \"swe internship\",\"swe intern\", \"summer internship\", \"software engineer\" shows that computer science students are usually interested in software engineering role, and are open to take up internships during their summer vacations.\n",
    "\n",
    "##### Tri-gram\n",
    "- Similar terms related to software engineering internship role appear often (e.g. \"internship summer 2023\", \"summer 2023 internship\", \"software engineer intern\", \"swe intern position\"), other terms like final round interview also shows up, which is indicative that CS students show strong interest in what prospective companies might ask in their final interview rounds. \n",
    "- Other terms like \"big tech company\" and \"walmart global tech\" are also observed, which can be interpreted as CS students showing strong interest in the tech industry."
   ]
  },
  {
   "cell_type": "markdown",
   "id": "9d0693d6",
   "metadata": {},
   "source": [
    "#### Codingbootcamp dataset"
   ]
  },
  {
   "cell_type": "code",
   "execution_count": 55,
   "id": "b9843a14",
   "metadata": {},
   "outputs": [
    {
     "data": {
      "text/html": [
       "<div>\n",
       "<style scoped>\n",
       "    .dataframe tbody tr th:only-of-type {\n",
       "        vertical-align: middle;\n",
       "    }\n",
       "\n",
       "    .dataframe tbody tr th {\n",
       "        vertical-align: top;\n",
       "    }\n",
       "\n",
       "    .dataframe thead th {\n",
       "        text-align: right;\n",
       "    }\n",
       "</style>\n",
       "<table border=\"1\" class=\"dataframe\">\n",
       "  <thead>\n",
       "    <tr style=\"text-align: right;\">\n",
       "      <th></th>\n",
       "      <th>subreddit</th>\n",
       "      <th>text</th>\n",
       "      <th>cleaned_text</th>\n",
       "    </tr>\n",
       "  </thead>\n",
       "  <tbody>\n",
       "    <tr>\n",
       "      <th>0</th>\n",
       "      <td>1</td>\n",
       "      <td>How can I become a coder? I hear you cool guys...</td>\n",
       "      <td>become coder hear cool guy fat stack good hour...</td>\n",
       "    </tr>\n",
       "    <tr>\n",
       "      <th>1</th>\n",
       "      <td>1</td>\n",
       "      <td>Question How cand I find someone's real adress...</td>\n",
       "      <td>question cand find someone real adress ip</td>\n",
       "    </tr>\n",
       "    <tr>\n",
       "      <th>2</th>\n",
       "      <td>1</td>\n",
       "      <td>Coding made Easyyy!!! Hello, This is your prou...</td>\n",
       "      <td>made easyyy hello proud teacher ampx200b proud...</td>\n",
       "    </tr>\n",
       "    <tr>\n",
       "      <th>3</th>\n",
       "      <td>1</td>\n",
       "      <td>Can you recommend a list of coding bootcamps? ...</td>\n",
       "      <td>recommend list ideally free paid job guarantee...</td>\n",
       "    </tr>\n",
       "    <tr>\n",
       "      <th>4</th>\n",
       "      <td>1</td>\n",
       "      <td>Anyone from Toronto have advice on bootcamp ch...</td>\n",
       "      <td>toronto advice choice hello human biology grad...</td>\n",
       "    </tr>\n",
       "    <tr>\n",
       "      <th>...</th>\n",
       "      <td>...</td>\n",
       "      <td>...</td>\n",
       "      <td>...</td>\n",
       "    </tr>\n",
       "    <tr>\n",
       "      <th>1995</th>\n",
       "      <td>1</td>\n",
       "      <td>A convo tonight at 7pm with an engineer on how...</td>\n",
       "      <td>convo tonight 7pm engineer landed internship s...</td>\n",
       "    </tr>\n",
       "    <tr>\n",
       "      <th>1996</th>\n",
       "      <td>1</td>\n",
       "      <td>I am not impressed with CodeSmith I am current...</td>\n",
       "      <td>impressed codesmith currently resident codesmi...</td>\n",
       "    </tr>\n",
       "    <tr>\n",
       "      <th>1997</th>\n",
       "      <td>1</td>\n",
       "      <td>How to create a customized blog in ASP.NET?</td>\n",
       "      <td>create customized blog aspnet</td>\n",
       "    </tr>\n",
       "    <tr>\n",
       "      <th>1998</th>\n",
       "      <td>1</td>\n",
       "      <td>Grand Circus Coding Bootcamp Has anyone ever g...</td>\n",
       "      <td>grand circus ever gone grand circus detroit in...</td>\n",
       "    </tr>\n",
       "    <tr>\n",
       "      <th>1999</th>\n",
       "      <td>1</td>\n",
       "      <td>Looking into a different bootcamp So I was wor...</td>\n",
       "      <td>looking different working prep course springbo...</td>\n",
       "    </tr>\n",
       "  </tbody>\n",
       "</table>\n",
       "<p>2000 rows × 3 columns</p>\n",
       "</div>"
      ],
      "text/plain": [
       "      subreddit                                               text  \\\n",
       "0             1  How can I become a coder? I hear you cool guys...   \n",
       "1             1  Question How cand I find someone's real adress...   \n",
       "2             1  Coding made Easyyy!!! Hello, This is your prou...   \n",
       "3             1  Can you recommend a list of coding bootcamps? ...   \n",
       "4             1  Anyone from Toronto have advice on bootcamp ch...   \n",
       "...         ...                                                ...   \n",
       "1995          1  A convo tonight at 7pm with an engineer on how...   \n",
       "1996          1  I am not impressed with CodeSmith I am current...   \n",
       "1997          1       How to create a customized blog in ASP.NET?    \n",
       "1998          1  Grand Circus Coding Bootcamp Has anyone ever g...   \n",
       "1999          1  Looking into a different bootcamp So I was wor...   \n",
       "\n",
       "                                           cleaned_text  \n",
       "0     become coder hear cool guy fat stack good hour...  \n",
       "1             question cand find someone real adress ip  \n",
       "2     made easyyy hello proud teacher ampx200b proud...  \n",
       "3     recommend list ideally free paid job guarantee...  \n",
       "4     toronto advice choice hello human biology grad...  \n",
       "...                                                 ...  \n",
       "1995  convo tonight 7pm engineer landed internship s...  \n",
       "1996  impressed codesmith currently resident codesmi...  \n",
       "1997                      create customized blog aspnet  \n",
       "1998  grand circus ever gone grand circus detroit in...  \n",
       "1999  looking different working prep course springbo...  \n",
       "\n",
       "[2000 rows x 3 columns]"
      ]
     },
     "execution_count": 55,
     "metadata": {},
     "output_type": "execute_result"
    }
   ],
   "source": [
    "# cleaning codingbootcamp dataset \n",
    "data_sample_bc['cleaned_text'] = data_sample_bc[\"text\"].apply(lambda x: clean_text_ngram(x))\n",
    "data_sample_bc.loc[:,[\"subreddit\",\"text\",\"cleaned_text\"]]"
   ]
  },
  {
   "cell_type": "code",
   "execution_count": 56,
   "id": "66fd1993",
   "metadata": {},
   "outputs": [],
   "source": [
    "# ngram fit/transform for csMajors dataset:\n",
    "ngram_vect_1 = CountVectorizer(ngram_range=(1,1)) \n",
    "X_ngram_1_bc = ngram_vect_1.fit_transform(data_sample_bc['cleaned_text'])\n",
    "\n",
    "ngram_vect_2 = CountVectorizer(ngram_range=(2,2))\n",
    "X_ngram_2_bc = ngram_vect_2.fit_transform(data_sample_bc[\"cleaned_text\"])\n",
    "\n",
    "ngram_vect_3 = CountVectorizer(ngram_range=(3,3)) \n",
    "X_ngram_3_bc = ngram_vect_3.fit_transform(data_sample_bc['cleaned_text'])"
   ]
  },
  {
   "cell_type": "code",
   "execution_count": 57,
   "id": "fa0666bc",
   "metadata": {},
   "outputs": [
    {
     "name": "stdout",
     "output_type": "stream",
     "text": [
      "(2000, 8165)\n",
      "(2000, 59630)\n",
      "(2000, 71135)\n"
     ]
    }
   ],
   "source": [
    "print(X_ngram_1_bc.shape)\n",
    "print(X_ngram_2_bc.shape)\n",
    "print(X_ngram_3_bc.shape)"
   ]
  },
  {
   "cell_type": "markdown",
   "id": "7282166b",
   "metadata": {},
   "source": [
    "##### codingbootcamp sample dataset contains:\n",
    "- Data Set has 8,161 unique 1-word combinations\n",
    "- Data Set has 60,525 unique 2-word combinations\n",
    "- Data Set has 74,427 unique 3-word combinations"
   ]
  },
  {
   "cell_type": "code",
   "execution_count": 58,
   "id": "e6147838",
   "metadata": {},
   "outputs": [],
   "source": [
    "# convert to dataframe format\n",
    "X_ngram_1_bc_df = pd.DataFrame(X_ngram_1_bc.toarray())\n",
    "X_ngram_1_bc_df.columns = ngram_vect_1.get_feature_names()\n",
    "\n",
    "X_ngram_2_bc_df = pd.DataFrame(X_ngram_2_bc.toarray())\n",
    "X_ngram_2_bc_df.columns = ngram_vect_2.get_feature_names()\n",
    "\n",
    "X_ngram_3_bc_df = pd.DataFrame(X_ngram_3_bc.toarray())\n",
    "X_ngram_3_bc_df.columns = ngram_vect_3.get_feature_names()"
   ]
  },
  {
   "cell_type": "code",
   "execution_count": 59,
   "id": "606e03fb",
   "metadata": {},
   "outputs": [
    {
     "data": {
      "text/plain": [
       "Text(0, 0.5, 'Keywords')"
      ]
     },
     "execution_count": 59,
     "metadata": {},
     "output_type": "execute_result"
    },
    {
     "data": {
      "image/png": "[encoded data removed]",
      "text/plain": [
       "<Figure size 432x288 with 1 Axes>"
      ]
     },
     "metadata": {
      "needs_background": "light"
     },
     "output_type": "display_data"
    }
   ],
   "source": [
    "# Word count plots for databootcamp single-gram (1,1)\n",
    "X_ngram_1_bc_df.sum().sort_values(ascending=False).head(20).plot(kind='barh')\n",
    "plt.title(\"Uni-gram Keywords For <databootcamp>\")\n",
    "plt.xlabel(\"Count\")\n",
    "plt.ylabel(\"Keywords\")"
   ]
  },
  {
   "cell_type": "code",
   "execution_count": 60,
   "id": "43fec9af",
   "metadata": {},
   "outputs": [
    {
     "data": {
      "text/plain": [
       "Text(0, 0.5, 'Keywords')"
      ]
     },
     "execution_count": 60,
     "metadata": {},
     "output_type": "execute_result"
    },
    {
     "data": {
      "image/png": "[encoded data removed]",
      "text/plain": [
       "<Figure size 432x288 with 1 Axes>"
      ]
     },
     "metadata": {
      "needs_background": "light"
     },
     "output_type": "display_data"
    }
   ],
   "source": [
    "# Word count plots for databootcamp bi-gram (2,2)\n",
    "X_ngram_2_bc_df.sum().sort_values(ascending=False).head(20).plot(kind='barh')\n",
    "plt.title(\"Bi-gram Keywords For <databootcamp>\")\n",
    "plt.xlabel(\"Count\")\n",
    "plt.ylabel(\"Keywords\")"
   ]
  },
  {
   "cell_type": "code",
   "execution_count": 61,
   "id": "afc11926",
   "metadata": {},
   "outputs": [
    {
     "data": {
      "text/plain": [
       "Text(0, 0.5, 'Keywords')"
      ]
     },
     "execution_count": 61,
     "metadata": {},
     "output_type": "execute_result"
    },
    {
     "data": {
      "image/png": "[encoded data removed]",
      "text/plain": [
       "<Figure size 432x288 with 1 Axes>"
      ]
     },
     "metadata": {
      "needs_background": "light"
     },
     "output_type": "display_data"
    }
   ],
   "source": [
    "# Word count plots for databootcamp tri-gram (3,3)\n",
    "X_ngram_3_bc_df.sum().sort_values(ascending=False).head(20).plot(kind='barh')\n",
    "plt.title(\"Tri-gram Keywords For <databootcamp>\")\n",
    "plt.xlabel(\"Count\")\n",
    "plt.ylabel(\"Keywords\")"
   ]
  },
  {
   "cell_type": "markdown",
   "id": "1a748421",
   "metadata": {},
   "source": [
    "#### Interpretation of keywords for codingbootcamp:\n",
    "##### Unigram\n",
    "- Some keywords that showed up for codingbootcamp (excluding \"target\",\"bootcamp\",\"bootcamps\",\"boot\",\"camp\",\"coding\",\"code\") were job, work, career. This is indicative that people who are interested in bootcamp, are usually more to find out what job opportunities that they will have, after completing the boot camp.\n",
    "\n",
    "##### Bi-gram\n",
    "- \"hack reactor\", \"app academy\", \"general assembly\", \"tech elevator\" are all coding boot camp schools appearing in the top 20 words. Shows the prospective student's interest in bootcamps.\n",
    "\n",
    "##### Tri-gram\n",
    "- Terms like \"reactor 19 week\" shows up, which could be indicative that prospective data boot camp students are looking for a short term course (unlike a university degree), to enable them to start working as soon as possible.\n",
    "- Terms like \"working full time\", \"full time job\", \"able find job\" can be interpreted as prospective data boot camp students prioritize being able to get a full time job subsequently after they complete the course\n",
    "- Other tri-gram words appear as well, such as \"html cs javascript\", \"full stack web\", could be indicative that bootcamp students are looking for these technical skillsets which are highly regarded by the industry."
   ]
  },
  {
   "cell_type": "markdown",
   "id": "fb1cf801",
   "metadata": {},
   "source": [
    "### TF-IDF (Term Frequency - Inverse Document Frequency)"
   ]
  },
  {
   "cell_type": "code",
   "execution_count": 62,
   "id": "c803cf65",
   "metadata": {},
   "outputs": [],
   "source": [
    "tfidf = TfidfVectorizer(analyzer=clean_text)\n",
    "X_tfidf = tfidf.fit_transform(data['text'])"
   ]
  },
  {
   "cell_type": "code",
   "execution_count": 63,
   "id": "cb6a7916",
   "metadata": {},
   "outputs": [
    {
     "name": "stdout",
     "output_type": "stream",
     "text": [
      "(9982, 19407)\n"
     ]
    }
   ],
   "source": [
    "print(X_tfidf.shape)"
   ]
  },
  {
   "cell_type": "markdown",
   "id": "ab142e7c",
   "metadata": {},
   "source": [
    "- Data Set has 19419 unique words, same as count vectorizer"
   ]
  },
  {
   "cell_type": "code",
   "execution_count": 64,
   "id": "4ebe073a",
   "metadata": {},
   "outputs": [],
   "source": [
    "X_tfidf_df = pd.DataFrame(X_tfidf.toarray())\n",
    "X_tfidf_df.columns = tfidf.get_feature_names()"
   ]
  },
  {
   "cell_type": "code",
   "execution_count": 65,
   "id": "11e3727a",
   "metadata": {},
   "outputs": [],
   "source": [
    "#Merging sub-reddit category to dataframe:\n",
    "X_tfidf_df[\"target\"] = y.values"
   ]
  },
  {
   "cell_type": "code",
   "execution_count": 66,
   "id": "51a54da0",
   "metadata": {},
   "outputs": [
    {
     "data": {
      "text/plain": [
       "<AxesSubplot:>"
      ]
     },
     "execution_count": 66,
     "metadata": {},
     "output_type": "execute_result"
    },
    {
     "data": {
      "image/png": "[encoded data removed]",
      "text/plain": [
       "<Figure size 432x288 with 1 Axes>"
      ]
     },
     "metadata": {
      "needs_background": "light"
     },
     "output_type": "display_data"
    }
   ],
   "source": [
    "# codingbootcamp:\n",
    "X_tfidf_df_1 = X_tfidf_df[X_tfidf_df[\"target\"] == 1]\n",
    "X_tfidf_df_1.drop([\"target\",\"bootcamp\",\"bootcamps\",\"boot\",\"camp\",\"coding\",\"code\"], axis = 1, inplace = True)\n",
    "X_tfidf_df_1.sum().sort_values(ascending=False).head(20).plot(kind='barh')"
   ]
  },
  {
   "cell_type": "code",
   "execution_count": 67,
   "id": "05b83ad1",
   "metadata": {},
   "outputs": [
    {
     "data": {
      "text/plain": [
       "<AxesSubplot:>"
      ]
     },
     "execution_count": 67,
     "metadata": {},
     "output_type": "execute_result"
    },
    {
     "data": {
      "image/png": "[encoded data removed]",
      "text/plain": [
       "<Figure size 432x288 with 1 Axes>"
      ]
     },
     "metadata": {
      "needs_background": "light"
     },
     "output_type": "display_data"
    }
   ],
   "source": [
    "# csMajor:\n",
    "X_tfidf_df_0 = X_tfidf_df[X_tfidf_df[\"target\"] == 0]\n",
    "X_tfidf_df_0.drop([\"target\"], axis = 1, inplace = True)\n",
    "X_tfidf_df_0.sum().sort_values(ascending=False).head(20).plot(kind='barh')"
   ]
  },
  {
   "cell_type": "markdown",
   "id": "15cc2905",
   "metadata": {},
   "source": [
    "#### Interpretation of keywords from TF-IDF:\n",
    "- Similar conclusion to count vectorization"
   ]
  },
  {
   "cell_type": "markdown",
   "id": "6a03128e",
   "metadata": {},
   "source": [
    "## Modeling"
   ]
  },
  {
   "cell_type": "markdown",
   "id": "2ae1a58f",
   "metadata": {},
   "source": [
    "### Setting Up Data For Modeling"
   ]
  },
  {
   "cell_type": "code",
   "execution_count": 68,
   "id": "c48bd46e",
   "metadata": {},
   "outputs": [],
   "source": [
    "X = data[\"text\"]\n",
    "y = data[\"subreddit\"]"
   ]
  },
  {
   "cell_type": "code",
   "execution_count": 69,
   "id": "0c10705a",
   "metadata": {},
   "outputs": [],
   "source": [
    "X_train, X_test, y_train, y_test = train_test_split(X, y,\n",
    "                                                    test_size=0.25,\n",
    "                                                    stratify=y,\n",
    "                                                    random_state=42)"
   ]
  },
  {
   "cell_type": "markdown",
   "id": "5417d7b3",
   "metadata": {},
   "source": [
    "### Pipelines Accuracy Comparison"
   ]
  },
  {
   "cell_type": "markdown",
   "id": "108f8662",
   "metadata": {},
   "source": [
    "Setup various vectorizing + model pipelines in the following 3 jupyter notebooks:\n",
    "- code-countvectorizing\n",
    "- code-Ngram\n",
    "- code-TF-IDF\n",
    "\n",
    "Incorporated grid-search for each pipelines, to tune and obtain most optimal hyperparameter values to achieve highest accuracy scores."
   ]
  },
  {
   "cell_type": "markdown",
   "id": "8432449c",
   "metadata": {},
   "source": [
    "#### Results from the respective pipelines:\n",
    "\n",
    "|**Vectorization Method**|**Model**|**Train Results**|**Test Results**|\n",
    "|:---|:---|:---:|:---:|\n",
    "|Count Vectorizer|Naive Bayes - Bernoulli|0.84611|0.84215|\n",
    "|Count Vectorizer|Naive Bayes - Multinomial|0.93214|0.93149|\n",
    "|Count Vectorizer|Logistic Regression|0.98678|0.93429|\n",
    "|Count Vectorizer|K-Nearest Neighbours|0.90489|0.83694|\n",
    "|Bi-Gram|Naive Bayes - Bernoulli|0.90435|0.86057|\n",
    "|Bi-Gram|Naive Bayes - Multinomial|0.98464|0.90545|\n",
    "|Bi-Gram|Logistic Regression|0.94416|0.875|\n",
    "|Bi-Gram|K-Nearest Neighbours|0.78987|0.61218|\n",
    "|Tri-Gram|Naive Bayes - Bernoulli|0.96874|0.76883|\n",
    "|Tri-Gram|Naive Bayes - Multinomial|0.96954|0.77484|\n",
    "|Tri-Gram|Logistic Regression|0.88204|0.71834|\n",
    "|TF-IDF|Naive Bayes - Bernoulli|0.95698|0.92548|\n",
    "|TF-IDF|Naive Bayes - Multinomial|0.95431|0.92748|\n",
    "|TF-IDF|Logistic Regression|0.96193|0.94231|\n",
    "|TF-IDF|K-Nearest Neighbours|0.86762|0.87260|"
   ]
  },
  {
   "cell_type": "markdown",
   "id": "73465150",
   "metadata": {},
   "source": [
    "- Pipeline with the best train-test R2 scores: TF-IDF + Logistic Regression model. (0.96193/0.94231)\n",
    "- Subsequent model evaluation will focus on this model"
   ]
  },
  {
   "cell_type": "markdown",
   "id": "01eb3407",
   "metadata": {},
   "source": [
    "#### TF-IDF + Logistic Regression "
   ]
  },
  {
   "cell_type": "code",
   "execution_count": 70,
   "id": "15c63458",
   "metadata": {},
   "outputs": [],
   "source": [
    "# Setting up pipeline with 2 stages:\n",
    "# 1. TF-IDF (transformer) + clean text\n",
    "# 2. Logistic Regression (estimator)\n",
    "\n",
    "pipe_tf_lg = Pipeline([\n",
    "    (\"tf\", TfidfVectorizer(analyzer=clean_text)),\n",
    "    ('lg', LogisticRegression(solver='liblinear'))\n",
    "])"
   ]
  },
  {
   "cell_type": "code",
   "execution_count": 71,
   "id": "1e69bb78",
   "metadata": {},
   "outputs": [],
   "source": [
    "#hyperparameter tuning\n",
    "params_tf_lg = {\n",
    "    'tf__max_features': [13_000],\n",
    "    'tf__min_df': [0],\n",
    "    'tf__max_df': [0.4],\n",
    "    'lg__solver': [\"saga\"]\n",
    "}"
   ]
  },
  {
   "cell_type": "code",
   "execution_count": 72,
   "id": "ffd1dd09",
   "metadata": {},
   "outputs": [],
   "source": [
    "# Instantiate GridSearchCV\n",
    "gs_tf_lg = GridSearchCV(pipe_tf_lg, # what object are we optimizing?\n",
    "                  param_grid=params_tf_lg, # what parameters values are we searching?\n",
    "                  cv=5) # 5-fold cross-validation."
   ]
  },
  {
   "cell_type": "code",
   "execution_count": 73,
   "id": "a601e1dc",
   "metadata": {},
   "outputs": [
    {
     "data": {
      "text/plain": [
       "GridSearchCV(cv=5,\n",
       "             estimator=Pipeline(steps=[('tf',\n",
       "                                        TfidfVectorizer(analyzer=<function clean_text at 0x0000026CD04A55E0>)),\n",
       "                                       ('lg',\n",
       "                                        LogisticRegression(solver='liblinear'))]),\n",
       "             param_grid={'lg__solver': ['saga'], 'tf__max_df': [0.4],\n",
       "                         'tf__max_features': [13000], 'tf__min_df': [0]})"
      ]
     },
     "execution_count": 73,
     "metadata": {},
     "output_type": "execute_result"
    }
   ],
   "source": [
    "# Fit GridSearch to training data.\n",
    "gs_tf_lg.fit(X_train, y_train)"
   ]
  },
  {
   "cell_type": "code",
   "execution_count": 74,
   "id": "9f10e99b",
   "metadata": {},
   "outputs": [
    {
     "name": "stdout",
     "output_type": "stream",
     "text": [
      "best cross validation score: 0.9310698834250613\n",
      "score on train set: 0.9659364146406626\n",
      "score on test set: 0.9286858974358975\n"
     ]
    }
   ],
   "source": [
    "# Best score: Mean cross-validated score of the best_estimator (we did a cv = 5)\n",
    "print(f'best cross validation score: {gs_tf_lg.best_score_}') \n",
    "\n",
    "# Score model on training set.\n",
    "print(f'score on train set: {gs_tf_lg.score(X_train, y_train)}')\n",
    "\n",
    "# Score model on testing set.\n",
    "print(f'score on test set: {gs_tf_lg.score(X_test, y_test)}')"
   ]
  },
  {
   "cell_type": "markdown",
   "id": "7877ac9a",
   "metadata": {},
   "source": [
    "- best cross validation score: 0.9273305846227391\n",
    "- score on train set: 0.9623296820732034\n",
    "- score on test set: 0.9423076923076923"
   ]
  },
  {
   "cell_type": "markdown",
   "id": "b080a537",
   "metadata": {},
   "source": [
    "#### Baseline Model"
   ]
  },
  {
   "cell_type": "markdown",
   "id": "e2806370",
   "metadata": {},
   "source": [
    "- Baseline model uses the following keywords to identify people who are interested in coding boot camps: baseline_model_words = \"bootcamp\",\"bootcamps\",\"boot\",\"camp\",\"camps\",\"coding\",\"code\""
   ]
  },
  {
   "cell_type": "code",
   "execution_count": 75,
   "id": "4bd62704",
   "metadata": {},
   "outputs": [],
   "source": [
    "baseline_model_words = [\"bootcamp\",\"bootcamps\",\"boot\",\"camp\",\"camps\",\"coding\",\"code\"]"
   ]
  },
  {
   "cell_type": "code",
   "execution_count": 76,
   "id": "f175690f",
   "metadata": {},
   "outputs": [],
   "source": [
    "def baseline_model(text):\n",
    "    text = \"\".join([word.lower() for word in text if word not in string.punctuation])\n",
    "    tokens = re.split('\\W+', text)\n",
    "    text = [wn.lemmatize(word) for word in tokens if word in baseline_model_words]\n",
    "    \n",
    "    return text"
   ]
  },
  {
   "cell_type": "code",
   "execution_count": 77,
   "id": "b738b825",
   "metadata": {},
   "outputs": [],
   "source": [
    "# Setting up pipeline with 2 stages:\n",
    "# 1. TF-IDF (transformer) + clean text\n",
    "# 2. Logistic Regression (estimator)\n",
    "\n",
    "pipe_baseline = Pipeline([\n",
    "    (\"tf\", TfidfVectorizer(analyzer=baseline_model)),\n",
    "    ('lg', LogisticRegression(solver='liblinear'))\n",
    "])"
   ]
  },
  {
   "cell_type": "code",
   "execution_count": 78,
   "id": "9f71a933",
   "metadata": {},
   "outputs": [],
   "source": [
    "#hyperparameter tuning\n",
    "params_baseline_tf_lg = {'tf__max_features': [None],\n",
    "    'tf__min_df': [1],\n",
    "    'tf__max_df': [1.0]\n",
    "}"
   ]
  },
  {
   "cell_type": "code",
   "execution_count": 79,
   "id": "12672387",
   "metadata": {},
   "outputs": [],
   "source": [
    "# Instantiate GridSearchCV\n",
    "gs_baseline = GridSearchCV(pipe_baseline, # what object are we optimizing?\n",
    "                  param_grid=params_baseline_tf_lg, # what parameters values are we searching?\n",
    "                  cv=5) # 5-fold cross-validation."
   ]
  },
  {
   "cell_type": "code",
   "execution_count": 80,
   "id": "072b97d7",
   "metadata": {},
   "outputs": [
    {
     "data": {
      "text/plain": [
       "GridSearchCV(cv=5,\n",
       "             estimator=Pipeline(steps=[('tf',\n",
       "                                        TfidfVectorizer(analyzer=<function baseline_model at 0x0000026D9D3E84C0>)),\n",
       "                                       ('lg',\n",
       "                                        LogisticRegression(solver='liblinear'))]),\n",
       "             param_grid={'tf__max_df': [1.0], 'tf__max_features': [None],\n",
       "                         'tf__min_df': [1]})"
      ]
     },
     "execution_count": 80,
     "metadata": {},
     "output_type": "execute_result"
    }
   ],
   "source": [
    "# Fit GridSearch to training data.\n",
    "gs_baseline.fit(X_train, y_train)"
   ]
  },
  {
   "cell_type": "code",
   "execution_count": 81,
   "id": "c493ae52",
   "metadata": {},
   "outputs": [
    {
     "name": "stdout",
     "output_type": "stream",
     "text": [
      "best cross validation score: 0.785466437993923\n",
      "score on train set: 0.7854662035800161\n",
      "score on test set: 0.7700320512820513\n"
     ]
    }
   ],
   "source": [
    "# Best score: Mean cross-validated score of the best_estimator (we did a cv = 5)\n",
    "print(f'best cross validation score: {gs_baseline.best_score_}') \n",
    "\n",
    "# Score model on training set.\n",
    "print(f'score on train set: {gs_baseline.score(X_train, y_train)}')\n",
    "\n",
    "# Score model on testing set.\n",
    "print(f'score on test set: {gs_baseline.score(X_test, y_test)}')"
   ]
  },
  {
   "cell_type": "markdown",
   "id": "2eb809ee",
   "metadata": {},
   "source": [
    "- best cross validation score: 0.7803878339678914\n",
    "- score on train set: 0.7803900614480364\n",
    "- score on test set: 0.7864583333333334"
   ]
  },
  {
   "cell_type": "markdown",
   "id": "bf91a798",
   "metadata": {},
   "source": [
    "## Model Evaluation"
   ]
  },
  {
   "cell_type": "markdown",
   "id": "00fe232d",
   "metadata": {},
   "source": [
    "#### Confusion Matrix"
   ]
  },
  {
   "cell_type": "code",
   "execution_count": 82,
   "id": "d83b8d1f",
   "metadata": {},
   "outputs": [
    {
     "name": "stdout",
     "output_type": "stream",
     "text": [
      "[[1151   97]\n",
      " [  81 1167]]\n",
      "[[1152   96]\n",
      " [ 478  770]]\n"
     ]
    }
   ],
   "source": [
    "# Display Classification Metrics\n",
    "# TF-IDF + Logistic Regression\n",
    "y_pred_tf_lg = gs_tf_lg.predict(X_test)\n",
    "print(confusion_matrix(y_test, y_pred_tf_lg))\n",
    "\n",
    "# Baseline Model\n",
    "y_pred_baseline = gs_baseline.predict(X_test)\n",
    "print(confusion_matrix(y_test, y_pred_baseline))"
   ]
  },
  {
   "cell_type": "markdown",
   "id": "bf42364a",
   "metadata": {},
   "source": [
    "#### Confusion Matrix + Accuracy heatmap plot"
   ]
  },
  {
   "cell_type": "code",
   "execution_count": 83,
   "id": "5cacc818",
   "metadata": {},
   "outputs": [],
   "source": [
    "# Create modified labels for Confusion Matrix for TF-IDF + Log Regression\n",
    "modified_cm_lg = []\n",
    "for index,value in enumerate(confusion_matrix(y_test, y_pred_tf_lg)):\n",
    "    if index == 0:\n",
    "        modified_cm_lg.append(['TN = ' + str(value[0]), 'FP = ' + str(value[1])])\n",
    "    if index == 1:\n",
    "        modified_cm_lg.append(['FN = ' + str(value[0]), 'TP = ' + str(value[1])])  \n",
    "        \n",
    "# Create modified labels for Confusion Matrix for baseline\n",
    "modified_cm_baseline = []\n",
    "for index,value in enumerate(confusion_matrix(y_test, y_pred_baseline)):\n",
    "    if index == 0:\n",
    "        modified_cm_baseline.append(['TN = ' + str(value[0]), 'FP = ' + str(value[1])])\n",
    "    if index == 1:\n",
    "        modified_cm_baseline.append(['FN = ' + str(value[0]), 'TP = ' + str(value[1])])  "
   ]
  },
  {
   "cell_type": "code",
   "execution_count": 84,
   "id": "c3c03467",
   "metadata": {},
   "outputs": [
    {
     "data": {
      "image/png": "[encoded data removed]",
      "text/plain": [
       "<Figure size 648x648 with 2 Axes>"
      ]
     },
     "metadata": {
      "needs_background": "light"
     },
     "output_type": "display_data"
    }
   ],
   "source": [
    "# TF-IDF + Log Regression\n",
    "plt.figure(figsize=(9,9))\n",
    "sb.heatmap((confusion_matrix(y_test, y_pred_tf_lg)), annot=np.array(modified_cm_lg),\n",
    "            fmt=\"\",\n",
    "            annot_kws={\"size\": 20},\n",
    "            linewidths=.5,\n",
    "            square = True,\n",
    "            cmap = 'Blues',\n",
    "            xticklabels = ['csMajor', 'codingbootcamp'],\n",
    "            yticklabels = ['csMajor', 'codingbootcamp'],\n",
    "            );\n",
    "\n",
    "score = gs_tf_lg.score(X_test, y_test)\n",
    "plt.ylabel('Actual label', fontsize = 17);\n",
    "plt.xlabel('Predicted label', fontsize = 17);\n",
    "plt.title(\"TF-IDF + Logistic Regression\" + \"\\n\"+ 'Accuracy Score: {:.2f}'.format(score) + \"\\n\", size = 17);\n",
    "plt.tick_params(labelsize= 15)"
   ]
  },
  {
   "cell_type": "code",
   "execution_count": 85,
   "id": "3b95fe3a",
   "metadata": {},
   "outputs": [
    {
     "data": {
      "image/png": "[encoded data removed]",
      "text/plain": [
       "<Figure size 648x648 with 2 Axes>"
      ]
     },
     "metadata": {
      "needs_background": "light"
     },
     "output_type": "display_data"
    }
   ],
   "source": [
    "# Baseline Model\n",
    "plt.figure(figsize=(9,9))\n",
    "sb.heatmap((confusion_matrix(y_test, y_pred_baseline)), annot=np.array(modified_cm_baseline),\n",
    "            fmt=\"\",\n",
    "            annot_kws={\"size\": 20},\n",
    "            linewidths=.5,\n",
    "            square = True,\n",
    "            cmap = 'Greens',\n",
    "            xticklabels = ['csMajor', 'codingbootcamp'],\n",
    "            yticklabels = ['csMajor', 'codingbootcamp'],\n",
    "            );\n",
    "\n",
    "score = gs_baseline.score(X_test, y_test)\n",
    "plt.ylabel('Actual label', fontsize = 17);\n",
    "plt.xlabel('Predicted label', fontsize = 17);\n",
    "plt.title(\"Baseline Model\" + \"\\n\" +\n",
    "    'Accuracy Score: {:.2f}'.format(score)+ \"\\n\", size = 17);\n",
    "plt.tick_params(labelsize= 15)"
   ]
  },
  {
   "cell_type": "markdown",
   "id": "57937526",
   "metadata": {},
   "source": [
    "* TN = `confusion_matrix[0][0]` (Predict correctly + Prediction was 'csMajor') \n",
    "* FP = `confusion_matrix[0][1]` (Predict wrongly + Prediction was 'codingbootcamp')\n",
    "* FN = `confusion_matrix[1][0]` (Predict wrongly + Prediction was 'csMajor')\n",
    "* TP = `confusion_matrix[1][1]` (Predict correctly + Prediction was 'codingbootcamp')"
   ]
  },
  {
   "cell_type": "markdown",
   "id": "1dfe7b26",
   "metadata": {},
   "source": [
    "#### Comments on Confusion Matrix:\n",
    "- TN: True Negative, TP: True Positive → Predictions are correct, for either classes\n",
    "- FN: False Negative, FP: False Positive → Predictions are wrong, for either classes\n",
    "- Positive class: codingbootcamp, Negative class: csMajor.\n",
    "- Accuracy = True Predictions / Total Predictions.\n",
    "- Better accuracy for TF-IDF + logistic regression model."
   ]
  },
  {
   "cell_type": "markdown",
   "id": "7be29041",
   "metadata": {},
   "source": [
    "#### Classification Report"
   ]
  },
  {
   "cell_type": "code",
   "execution_count": 86,
   "id": "0852f146",
   "metadata": {},
   "outputs": [
    {
     "name": "stdout",
     "output_type": "stream",
     "text": [
      "TF-IDF + Logistic Regression\n",
      "                precision    recall  f1-score   support\n",
      "\n",
      "       csMajor       0.93      0.92      0.93      1248\n",
      "codingbootcamp       0.92      0.94      0.93      1248\n",
      "\n",
      "      accuracy                           0.93      2496\n",
      "     macro avg       0.93      0.93      0.93      2496\n",
      "  weighted avg       0.93      0.93      0.93      2496\n",
      "\n"
     ]
    }
   ],
   "source": [
    "#Classification report for \"TF-IDF + Logistic Regression\"\n",
    "print(\"TF-IDF + Logistic Regression\")\n",
    "print(classification_report(y_test, y_pred_tf_lg, target_names=[\"csMajor\",\"codingbootcamp\"]))"
   ]
  },
  {
   "cell_type": "code",
   "execution_count": 87,
   "id": "2d50c9c7",
   "metadata": {},
   "outputs": [
    {
     "name": "stdout",
     "output_type": "stream",
     "text": [
      "Baseline\n",
      "                precision    recall  f1-score   support\n",
      "\n",
      "       csMajor       0.71      0.92      0.80      1248\n",
      "codingbootcamp       0.89      0.62      0.73      1248\n",
      "\n",
      "      accuracy                           0.77      2496\n",
      "     macro avg       0.80      0.77      0.76      2496\n",
      "  weighted avg       0.80      0.77      0.76      2496\n",
      "\n"
     ]
    }
   ],
   "source": [
    "#Classification report for \"Baseline Model\"\n",
    "print(\"Baseline\")\n",
    "print(classification_report(y_test, y_pred_baseline,target_names=[\"csMajor\",\"codingbootcamp\"]))"
   ]
  },
  {
   "cell_type": "markdown",
   "id": "cef791d7",
   "metadata": {},
   "source": [
    "#### _Recap on Classification Metrics Formula_\n",
    "* Accuracy = True Predictions / Total Predictions\n",
    "* Precision = True Positives / (True Positives + False Positives)\n",
    "* Recall = True Positives / (True Positives + False Negatives)\n",
    "* F1-Score  = Weighted Average of Precision and Recall\n",
    "    * Offers a better overall measure of performance\n",
    "* Support = True Positives (or True Negatives) that lie in that class"
   ]
  },
  {
   "cell_type": "markdown",
   "id": "4b10ce2f",
   "metadata": {},
   "source": [
    "#### Comments on classification report:\n",
    "- Using the TP/TN/FP/FN values from the confusion matrix, we can further calculate the precision, recall, f1-scores, which are other factors which offers us a better overall measure of the model’s performance on top of accuracy.\n",
    "- In this case the F1 score for TF-IDF + Logistic Regression is 0.94, which is much higher in comparison to baseline model of ~0.78."
   ]
  },
  {
   "cell_type": "markdown",
   "id": "b893ac48",
   "metadata": {},
   "source": [
    "#### Receiver Operating Characteristic (ROC) Curve"
   ]
  },
  {
   "cell_type": "code",
   "execution_count": 88,
   "id": "cbedebc2",
   "metadata": {},
   "outputs": [
    {
     "data": {
      "text/plain": [
       "Text(0.5, 1.0, 'TF-IDF + Logistic Regression\\n')"
      ]
     },
     "execution_count": 88,
     "metadata": {},
     "output_type": "execute_result"
    },
    {
     "data": {
      "image/png": "[encoded data removed]",
      "text/plain": [
       "<Figure size 432x288 with 1 Axes>"
      ]
     },
     "metadata": {
      "needs_background": "light"
     },
     "output_type": "display_data"
    }
   ],
   "source": [
    "plot_roc_curve(gs_tf_lg, X_test, y_test)\n",
    "\n",
    "plt.plot([0, 1],  [0, 1],\n",
    "         label='baseline', linestyle='--')\n",
    "plt.legend();\n",
    "plt.title(\"TF-IDF + Logistic Regression\" + \"\\n\", size = 17)"
   ]
  },
  {
   "cell_type": "code",
   "execution_count": 89,
   "id": "859656d3",
   "metadata": {},
   "outputs": [
    {
     "data": {
      "text/plain": [
       "0.9817130485700197"
      ]
     },
     "execution_count": 89,
     "metadata": {},
     "output_type": "execute_result"
    }
   ],
   "source": [
    "roc_auc_score(y_test, gs_tf_lg.predict_proba(X_test)[:,1])"
   ]
  },
  {
   "cell_type": "code",
   "execution_count": 90,
   "id": "130d3d74",
   "metadata": {},
   "outputs": [
    {
     "data": {
      "text/plain": [
       "Text(0.5, 1.0, 'Baseline\\n')"
      ]
     },
     "execution_count": 90,
     "metadata": {},
     "output_type": "execute_result"
    },
    {
     "data": {
      "image/png": "[encoded data removed]",
      "text/plain": [
       "<Figure size 432x288 with 1 Axes>"
      ]
     },
     "metadata": {
      "needs_background": "light"
     },
     "output_type": "display_data"
    }
   ],
   "source": [
    "plot_roc_curve(gs_baseline, X_test, y_test)\n",
    "\n",
    "plt.plot([0, 1],  [0, 1],\n",
    "         label='baseline', linestyle='--')\n",
    "plt.legend();\n",
    "plt.title(\"Baseline\" + \"\\n\", size = 17)"
   ]
  },
  {
   "cell_type": "code",
   "execution_count": 91,
   "id": "3ced6bb3",
   "metadata": {},
   "outputs": [
    {
     "data": {
      "text/plain": [
       "0.7871915577744906"
      ]
     },
     "execution_count": 91,
     "metadata": {},
     "output_type": "execute_result"
    }
   ],
   "source": [
    "roc_auc_score(y_test, gs_baseline.predict_proba(X_test)[:,1])"
   ]
  },
  {
   "cell_type": "markdown",
   "id": "39b83fec",
   "metadata": {},
   "source": [
    "#### Comments on ROC curve:\n",
    "- The ROC curve or the Receiver Operating Characteristic Curve, plots the True Positive Rate against the False positive rate. \n",
    "- The Area under the ROC (AUC) curve gives us an idea of how well the model does in terms of predicting or classifying the target value.\n",
    "- TF-IDF + Logistic Regression model has a high ROC AUC score of ~0.985 (close to 1). This means that the 1 and 0 populations are perfectly separated, and the model is capable of differentiating between both subreddits categories.\n",
    "- In this case, we can see from the baseline model that the AUC is ~0.8, while the TF-IDF + logistic regression model has an AUC of ~0.99. Hence there is a big improvement in differentiating and classifying which sub-reddit post belongs to."
   ]
  },
  {
   "cell_type": "markdown",
   "id": "4484a59e",
   "metadata": {},
   "source": [
    "## Top Features For Model"
   ]
  },
  {
   "cell_type": "markdown",
   "id": "93d7d56a",
   "metadata": {},
   "source": [
    "#### TF-IDF + Logistic Regression"
   ]
  },
  {
   "cell_type": "code",
   "execution_count": 92,
   "id": "08566b6e",
   "metadata": {},
   "outputs": [
    {
     "data": {
      "text/plain": [
       "array([-0.12458319,  0.03847607,  0.06081141, ..., -0.02698595,\n",
       "       -0.02698595, -0.05397189])"
      ]
     },
     "execution_count": 92,
     "metadata": {},
     "output_type": "execute_result"
    }
   ],
   "source": [
    "# Obtaining coefficient for features in pipeline\n",
    "gs_tf_lg.best_estimator_[\"lg\"].coef_[0]"
   ]
  },
  {
   "cell_type": "code",
   "execution_count": 93,
   "id": "2e0759df",
   "metadata": {},
   "outputs": [
    {
     "data": {
      "text/plain": [
       "array(['0', '0000ff', '000webhost', ..., 'μηδεν', 'τιμη', 'το'],\n",
       "      dtype=object)"
      ]
     },
     "execution_count": 93,
     "metadata": {},
     "output_type": "execute_result"
    }
   ],
   "source": [
    "# Obtaining feature names\n",
    "gs_tf_lg.best_estimator_['tf'].get_feature_names_out()"
   ]
  },
  {
   "cell_type": "code",
   "execution_count": 94,
   "id": "3002a7f9",
   "metadata": {},
   "outputs": [],
   "source": [
    "# combining feature name to feature values:\n",
    "lg_values = pd.Series(gs_tf_lg.best_estimator_[\"lg\"].coef_[0], index = gs_tf_lg.best_estimator_['tf'].get_feature_names_out())"
   ]
  },
  {
   "cell_type": "code",
   "execution_count": 95,
   "id": "50547fec",
   "metadata": {},
   "outputs": [
    {
     "data": {
      "text/html": [
       "<div>\n",
       "<style scoped>\n",
       "    .dataframe tbody tr th:only-of-type {\n",
       "        vertical-align: middle;\n",
       "    }\n",
       "\n",
       "    .dataframe tbody tr th {\n",
       "        vertical-align: top;\n",
       "    }\n",
       "\n",
       "    .dataframe thead th {\n",
       "        text-align: right;\n",
       "    }\n",
       "</style>\n",
       "<table border=\"1\" class=\"dataframe\">\n",
       "  <thead>\n",
       "    <tr style=\"text-align: right;\">\n",
       "      <th></th>\n",
       "      <th>0</th>\n",
       "    </tr>\n",
       "  </thead>\n",
       "  <tbody>\n",
       "    <tr>\n",
       "      <th>0</th>\n",
       "      <td>0.882865</td>\n",
       "    </tr>\n",
       "    <tr>\n",
       "      <th>0000ff</th>\n",
       "      <td>1.039226</td>\n",
       "    </tr>\n",
       "    <tr>\n",
       "      <th>000webhost</th>\n",
       "      <td>1.062698</td>\n",
       "    </tr>\n",
       "    <tr>\n",
       "      <th>001f</th>\n",
       "      <td>1.010415</td>\n",
       "    </tr>\n",
       "    <tr>\n",
       "      <th>005f</th>\n",
       "      <td>1.010415</td>\n",
       "    </tr>\n",
       "    <tr>\n",
       "      <th>...</th>\n",
       "      <td>...</td>\n",
       "    </tr>\n",
       "    <tr>\n",
       "      <th>για</th>\n",
       "      <td>0.947459</td>\n",
       "    </tr>\n",
       "    <tr>\n",
       "      <th>και</th>\n",
       "      <td>0.973375</td>\n",
       "    </tr>\n",
       "    <tr>\n",
       "      <th>μηδεν</th>\n",
       "      <td>0.973375</td>\n",
       "    </tr>\n",
       "    <tr>\n",
       "      <th>τιμη</th>\n",
       "      <td>0.973375</td>\n",
       "    </tr>\n",
       "    <tr>\n",
       "      <th>το</th>\n",
       "      <td>0.947459</td>\n",
       "    </tr>\n",
       "  </tbody>\n",
       "</table>\n",
       "<p>13000 rows × 1 columns</p>\n",
       "</div>"
      ],
      "text/plain": [
       "                   0\n",
       "0           0.882865\n",
       "0000ff      1.039226\n",
       "000webhost  1.062698\n",
       "001f        1.010415\n",
       "005f        1.010415\n",
       "...              ...\n",
       "για         0.947459\n",
       "και         0.973375\n",
       "μηδεν       0.973375\n",
       "τιμη        0.973375\n",
       "το          0.947459\n",
       "\n",
       "[13000 rows x 1 columns]"
      ]
     },
     "execution_count": 95,
     "metadata": {},
     "output_type": "execute_result"
    }
   ],
   "source": [
    "# exponentiate the log values\n",
    "exp_df = pd.DataFrame(np.exp(lg_values), index=gs_tf_lg.best_estimator_['tf'].get_feature_names_out())\n",
    "exp_df"
   ]
  },
  {
   "cell_type": "code",
   "execution_count": 96,
   "id": "9401fa83",
   "metadata": {},
   "outputs": [
    {
     "data": {
      "text/html": [
       "<div>\n",
       "<style scoped>\n",
       "    .dataframe tbody tr th:only-of-type {\n",
       "        vertical-align: middle;\n",
       "    }\n",
       "\n",
       "    .dataframe tbody tr th {\n",
       "        vertical-align: top;\n",
       "    }\n",
       "\n",
       "    .dataframe thead th {\n",
       "        text-align: right;\n",
       "    }\n",
       "</style>\n",
       "<table border=\"1\" class=\"dataframe\">\n",
       "  <thead>\n",
       "    <tr style=\"text-align: right;\">\n",
       "      <th></th>\n",
       "      <th>0</th>\n",
       "    </tr>\n",
       "  </thead>\n",
       "  <tbody>\n",
       "    <tr>\n",
       "      <th>bootcamp</th>\n",
       "      <td>32641.063428</td>\n",
       "    </tr>\n",
       "    <tr>\n",
       "      <th>coding</th>\n",
       "      <td>452.537870</td>\n",
       "    </tr>\n",
       "    <tr>\n",
       "      <th>bootcamps</th>\n",
       "      <td>172.835471</td>\n",
       "    </tr>\n",
       "    <tr>\n",
       "      <th>camp</th>\n",
       "      <td>87.389388</td>\n",
       "    </tr>\n",
       "    <tr>\n",
       "      <th>boot</th>\n",
       "      <td>61.436356</td>\n",
       "    </tr>\n",
       "    <tr>\n",
       "      <th>codesmith</th>\n",
       "      <td>59.588839</td>\n",
       "    </tr>\n",
       "    <tr>\n",
       "      <th>academy</th>\n",
       "      <td>36.647056</td>\n",
       "    </tr>\n",
       "    <tr>\n",
       "      <th>python</th>\n",
       "      <td>33.653200</td>\n",
       "    </tr>\n",
       "    <tr>\n",
       "      <th>javascript</th>\n",
       "      <td>17.918358</td>\n",
       "    </tr>\n",
       "    <tr>\n",
       "      <th>code</th>\n",
       "      <td>16.945950</td>\n",
       "    </tr>\n",
       "  </tbody>\n",
       "</table>\n",
       "</div>"
      ],
      "text/plain": [
       "                       0\n",
       "bootcamp    32641.063428\n",
       "coding        452.537870\n",
       "bootcamps     172.835471\n",
       "camp           87.389388\n",
       "boot           61.436356\n",
       "codesmith      59.588839\n",
       "academy        36.647056\n",
       "python         33.653200\n",
       "javascript     17.918358\n",
       "code           16.945950"
      ]
     },
     "execution_count": 96,
     "metadata": {},
     "output_type": "execute_result"
    },
    {
     "data": {
      "image/png": "[encoded data removed]",
      "text/plain": [
       "<Figure size 432x576 with 1 Axes>"
      ]
     },
     "metadata": {
      "needs_background": "light"
     },
     "output_type": "display_data"
    }
   ],
   "source": [
    "# Plotting top 10 features contributing to codingbootcamp\n",
    "top_10_exp_df = exp_df.sort_values(by=0, ascending=False).head(10)\n",
    "plot_df = top_10_exp_df\n",
    "colors = [\"r\" if val < 0 else \"b\" for val in plot_df[0]]\n",
    "plt.figure(figsize=(6,8))\n",
    "plt.barh(y=plot_df.index, width=plot_df[0], color=colors)\n",
    "plt.title(f\"Top {10} Features\" + \"\\n\" + f\"(Positive: Contributes to r/codingbootcamp)\", fontsize=20)\n",
    "top_10_exp_df"
   ]
  },
  {
   "cell_type": "code",
   "execution_count": 97,
   "id": "bccd422e",
   "metadata": {},
   "outputs": [
    {
     "data": {
      "text/plain": [
       "Text(0.5, 1.0, 'Top 10 Features\\n(Positive: Contributes to r/codingbootcamp, exclude baseline keywords)')"
      ]
     },
     "execution_count": 97,
     "metadata": {},
     "output_type": "execute_result"
    },
    {
     "data": {
      "image/png": "[encoded data removed]",
      "text/plain": [
       "<Figure size 432x576 with 1 Axes>"
      ]
     },
     "metadata": {
      "needs_background": "light"
     },
     "output_type": "display_data"
    }
   ],
   "source": [
    "# Plotting top 10 features contributing to codingbootcamp, excluding code/camp/bootcamps/coding/bootcamp.\n",
    "top_10_exclude = exp_df.drop([\"bootcamp\",\"bootcamps\",\"boot\",\"camp\",\"coding\",\"code\"]).sort_values(by=0, ascending=False).head(10)\n",
    "plot_df = top_10_exclude\n",
    "colors = [\"r\" if val < 0 else \"b\" for val in plot_df[0]]\n",
    "plt.figure(figsize=(6,8))\n",
    "plt.barh(y=plot_df.index, width=plot_df[0], color=colors)\n",
    "plt.title(f\"Top {10} Features\" + \"\\n\" + f\"(Positive: Contributes to r/codingbootcamp, exclude baseline keywords)\", fontsize=20)"
   ]
  },
  {
   "cell_type": "markdown",
   "id": "b97efbed",
   "metadata": {},
   "source": [
    "#### Comments on top features:\n",
    "- Keywords such as \"Python\", \"javascript\", \"programming\", \"program\", appear as the top 10 keywords which contributes to the identification of whether a student is more likely to take on a bootcamp course.\n",
    "- These keywords are technical skills related, and are areas that we can focus on in the courses offered at General Assembly."
   ]
  },
  {
   "cell_type": "markdown",
   "id": "493ff9e1",
   "metadata": {},
   "source": [
    "## Moving forward:\n",
    "- Data scraping to cover more online platforms that GA may be present in to refine our model. \n",
    "- Expand our model's outreach based on other GA courses, to potential students for UX/UI design as well.\n",
    "- Better labelling and grouping to help the model better understand web lingo. For example, SWE appears often, but this is also a duplicate with software engineer, so potentially these terms could be grouped together for our model.\n",
    "- Carry out sentiment analysis on comments to determine whether the user is positive or negative regarding the post. As the comments may also have some correlation to the possible conversion of the user."
   ]
  },
  {
   "cell_type": "markdown",
   "id": "5e5a308a",
   "metadata": {},
   "source": [
    "## Conclusion & Recommendation"
   ]
  },
  {
   "cell_type": "markdown",
   "id": "135c8270",
   "metadata": {},
   "source": [
    "### Recommendations:\n",
    "- GA marketing team to focus marketing efforts on showcasing how GA courses can equip a GA student with strong coding technical skills, as keywords with high correlation coefficient from the model, includes \"Python\", \"javascript\", \"programming\", \"program\", which suggests that people who are interested in joining boot camps, usually look out for courses that equip them with specific coding skillsets. \n",
    "- GA marketing team to help to identify more social media platforms (other than reddit) where the model can be deployed to identify potential students who want to join boot camps."
   ]
  },
  {
   "cell_type": "markdown",
   "id": "ccd9e9b1",
   "metadata": {},
   "source": [
    "### Conclusion:\n",
    "- Our model was ablee to achieve an accuracy of ~94% (>90%), beating the baseline model of ~79%, in terms of identifying potential candidates who are interested in coding boot camps.\n",
    "- In order to maintain and further gain market shares with the rising competition from other boot camp course providers, it is key that GA needs to  act fast through the use of the model, to identify potential candidates."
   ]
  }
 ],
 "metadata": {
  "kernelspec": {
   "display_name": "Python 3 (ipykernel)",
   "language": "python",
   "name": "python3"
  },
  "language_info": {
   "codemirror_mode": {
    "name": "ipython",
    "version": 3
   },
   "file_extension": ".py",
   "mimetype": "text/x-python",
   "name": "python",
   "nbconvert_exporter": "python",
   "pygments_lexer": "ipython3",
   "version": "3.9.12"
  }
 },
 "nbformat": 4,
 "nbformat_minor": 5
}
